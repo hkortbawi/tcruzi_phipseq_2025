{
 "cells": [
  {
   "cell_type": "code",
   "execution_count": 1,
   "id": "edda4cf8-f922-47f8-b9fc-c7a4933152c0",
   "metadata": {},
   "outputs": [],
   "source": [
    "import numpy as np\n",
    "import pandas as pd\n",
    "from array import array\n",
    "from statsmodels.stats.multitest import multipletests\n",
    "import matplotlib.pyplot as plt\n",
    "from matplotlib.ticker import MultipleLocator, FormatStrFormatter\n",
    "from matplotlib.colors import LinearSegmentedColormap\n",
    "from matplotlib.patches import Patch\n",
    "%matplotlib inline\n",
    "from matplotlib_venn import venn2\n",
    "import seaborn as sns\n",
    "import anndata as ad\n",
    "import phagepy as pp\n",
    "import scanpy as sc\n",
    "import scipy.stats as ss\n",
    "import scipy\n",
    "import phagepy.analysis as analysis\n",
    "import re\n",
    "import os\n",
    "from collections import Counter\n",
    "import scipy.stats as stats\n",
    "from Bio import SeqIO"
   ]
  },
  {
   "cell_type": "code",
   "execution_count": 2,
   "id": "4ca16896-d178-42ec-948d-f13381d28fee",
   "metadata": {},
   "outputs": [],
   "source": [
    "# define output folder for figures\n",
    "fig_dir='/data/kortbawi/Chagas/pub/final/final_fig_for_pub/'"
   ]
  },
  {
   "cell_type": "code",
   "execution_count": 3,
   "id": "4d6ab573-4b65-49c0-941c-b5b77c763137",
   "metadata": {},
   "outputs": [],
   "source": [
    "# define directory for source and output files\n",
    "dir='/data/kortbawi/Chagas/pub/final/'"
   ]
  },
  {
   "cell_type": "markdown",
   "id": "d3c59bfe-389c-445b-b8fd-a71028e8df9f",
   "metadata": {},
   "source": [
    "# Read/write"
   ]
  },
  {
   "cell_type": "code",
   "execution_count": 4,
   "id": "e7a4f955-e9d8-4e87-94b4-3327dd822219",
   "metadata": {},
   "outputs": [],
   "source": [
    "# load processed adata objects\n",
    "## this should be all peptides\n",
    "cbm = sc.read_h5ad(dir+'01_cbm.h5ad')\n",
    "bd = sc.read_h5ad(dir+'01_bd.h5ad')"
   ]
  },
  {
   "cell_type": "code",
   "execution_count": 5,
   "id": "16e6aa37-129f-467a-b226-8f5bbc05f027",
   "metadata": {
    "tags": []
   },
   "outputs": [],
   "source": [
    "# load chagas-specific peptide files\n",
    "chagas_pept_cbm=pd.read_csv(dir+'01_cbm_pept.csv', index_col=0, header=0)\n",
    "chagas_pept_bd=pd.read_csv(dir+'01_bd_pept.csv', index_col=0, header=0)"
   ]
  },
  {
   "cell_type": "markdown",
   "id": "6cb14e80-8293-47cf-a255-a562f7b7cefc",
   "metadata": {},
   "source": [
    "# SFig 2 - find GFAP samples and plot enrichment"
   ]
  },
  {
   "cell_type": "code",
   "execution_count": 6,
   "id": "08ba1b9e-f2b0-4042-81ff-c3ee03707726",
   "metadata": {},
   "outputs": [],
   "source": [
    "# sum all the GFAP reads for each sample\n",
    "def calculate_gfap_sum(adata):\n",
    "    # create a mask for variables containing 'GFAP'\n",
    "    gfap_mask = adata.var['protein'].str.contains('GFAP', na=False)\n",
    "\n",
    "    # subset the data to only include GFAP-related variables\n",
    "    gfap_X = adata[:, gfap_mask].X\n",
    "\n",
    "    # sum the values across the filtered variables for each observation (obs_names)\n",
    "    gfap_sum_per_obs = gfap_X.sum(axis=1)\n",
    "    \n",
    "    # Create a DataFrame with obs_names and the corresponding sum\n",
    "    gfap_sum_table = pd.DataFrame({\n",
    "        'obs_name': adata.obs_names,\n",
    "        'GFAP_sum': gfap_sum_per_obs,\n",
    "        'Group': adata.obs.group,\n",
    "        'Sero': adata.obs.sero\n",
    "    })\n",
    "    \n",
    "    return gfap_sum_table"
   ]
  },
  {
   "cell_type": "code",
   "execution_count": 7,
   "id": "354d7c24-0c49-4626-9181-403ff479d1d7",
   "metadata": {},
   "outputs": [
    {
     "data": {
      "text/html": [
       "<div>\n",
       "<style scoped>\n",
       "    .dataframe tbody tr th:only-of-type {\n",
       "        vertical-align: middle;\n",
       "    }\n",
       "\n",
       "    .dataframe tbody tr th {\n",
       "        vertical-align: top;\n",
       "    }\n",
       "\n",
       "    .dataframe thead th {\n",
       "        text-align: right;\n",
       "    }\n",
       "</style>\n",
       "<table border=\"1\" class=\"dataframe\">\n",
       "  <thead>\n",
       "    <tr style=\"text-align: right;\">\n",
       "      <th></th>\n",
       "      <th>obs_name</th>\n",
       "      <th>GFAP_sum</th>\n",
       "      <th>Group</th>\n",
       "      <th>Sero</th>\n",
       "    </tr>\n",
       "  </thead>\n",
       "  <tbody>\n",
       "    <tr>\n",
       "      <th>CHAGAS_P3A1_BIO_6275-100uL_R1_001-0</th>\n",
       "      <td>CHAGAS_P3A1_BIO_6275-100uL_R1_001-0</td>\n",
       "      <td>30.212381</td>\n",
       "      <td>seropositive</td>\n",
       "      <td>seropositive</td>\n",
       "    </tr>\n",
       "    <tr>\n",
       "      <th>CHAGAS_P3A2_BIO_6304-100uL_R1_001-0</th>\n",
       "      <td>CHAGAS_P3A2_BIO_6304-100uL_R1_001-0</td>\n",
       "      <td>27.848495</td>\n",
       "      <td>seropositive</td>\n",
       "      <td>seropositive</td>\n",
       "    </tr>\n",
       "    <tr>\n",
       "      <th>CHAGAS_P3A3_BIO_6333-100uL_R1_001-0</th>\n",
       "      <td>CHAGAS_P3A3_BIO_6333-100uL_R1_001-0</td>\n",
       "      <td>47.939857</td>\n",
       "      <td>seropositive</td>\n",
       "      <td>seropositive</td>\n",
       "    </tr>\n",
       "    <tr>\n",
       "      <th>CHAGAS_P3A4_BIO_6200-500ul_R1_001-0</th>\n",
       "      <td>CHAGAS_P3A4_BIO_6200-500ul_R1_001-0</td>\n",
       "      <td>31.287249</td>\n",
       "      <td>seropositive</td>\n",
       "      <td>seropositive</td>\n",
       "    </tr>\n",
       "    <tr>\n",
       "      <th>CHAGAS_P3A5_BIO_6286-100ul_R1_001-0</th>\n",
       "      <td>CHAGAS_P3A5_BIO_6286-100ul_R1_001-0</td>\n",
       "      <td>28.102835</td>\n",
       "      <td>seropositive</td>\n",
       "      <td>seropositive</td>\n",
       "    </tr>\n",
       "  </tbody>\n",
       "</table>\n",
       "</div>"
      ],
      "text/plain": [
       "                                                                obs_name  \\\n",
       "CHAGAS_P3A1_BIO_6275-100uL_R1_001-0  CHAGAS_P3A1_BIO_6275-100uL_R1_001-0   \n",
       "CHAGAS_P3A2_BIO_6304-100uL_R1_001-0  CHAGAS_P3A2_BIO_6304-100uL_R1_001-0   \n",
       "CHAGAS_P3A3_BIO_6333-100uL_R1_001-0  CHAGAS_P3A3_BIO_6333-100uL_R1_001-0   \n",
       "CHAGAS_P3A4_BIO_6200-500ul_R1_001-0  CHAGAS_P3A4_BIO_6200-500ul_R1_001-0   \n",
       "CHAGAS_P3A5_BIO_6286-100ul_R1_001-0  CHAGAS_P3A5_BIO_6286-100ul_R1_001-0   \n",
       "\n",
       "                                      GFAP_sum         Group          Sero  \n",
       "CHAGAS_P3A1_BIO_6275-100uL_R1_001-0  30.212381  seropositive  seropositive  \n",
       "CHAGAS_P3A2_BIO_6304-100uL_R1_001-0  27.848495  seropositive  seropositive  \n",
       "CHAGAS_P3A3_BIO_6333-100uL_R1_001-0  47.939857  seropositive  seropositive  \n",
       "CHAGAS_P3A4_BIO_6200-500ul_R1_001-0  31.287249  seropositive  seropositive  \n",
       "CHAGAS_P3A5_BIO_6286-100ul_R1_001-0  28.102835  seropositive  seropositive  "
      ]
     },
     "execution_count": 7,
     "metadata": {},
     "output_type": "execute_result"
    }
   ],
   "source": [
    "# Apply the function to both `cbm` and `bd` AnnData objects\n",
    "gfap_sum_cbm = calculate_gfap_sum(cbm)\n",
    "gfap_sum_bd = calculate_gfap_sum(bd)\n",
    "gfap_sum_cbm.head()"
   ]
  },
  {
   "cell_type": "code",
   "execution_count": 8,
   "id": "d37b20f6-0c3a-4443-b2d8-6d6b062c534c",
   "metadata": {},
   "outputs": [
    {
     "data": {
      "text/html": [
       "<div>\n",
       "<style scoped>\n",
       "    .dataframe tbody tr th:only-of-type {\n",
       "        vertical-align: middle;\n",
       "    }\n",
       "\n",
       "    .dataframe tbody tr th {\n",
       "        vertical-align: top;\n",
       "    }\n",
       "\n",
       "    .dataframe thead th {\n",
       "        text-align: right;\n",
       "    }\n",
       "</style>\n",
       "<table border=\"1\" class=\"dataframe\">\n",
       "  <thead>\n",
       "    <tr style=\"text-align: right;\">\n",
       "      <th></th>\n",
       "      <th>obs_name</th>\n",
       "      <th>GFAP_sum</th>\n",
       "      <th>Group</th>\n",
       "      <th>Sero</th>\n",
       "    </tr>\n",
       "  </thead>\n",
       "  <tbody>\n",
       "    <tr>\n",
       "      <th>tclib_A10_S1196_R1_001</th>\n",
       "      <td>tclib_A10_S1196_R1_001</td>\n",
       "      <td>33.869724</td>\n",
       "      <td>seropositive</td>\n",
       "      <td>seropositive</td>\n",
       "    </tr>\n",
       "    <tr>\n",
       "      <th>tclib_A11_S1197_R1_001</th>\n",
       "      <td>tclib_A11_S1197_R1_001</td>\n",
       "      <td>34.863373</td>\n",
       "      <td>seronegative</td>\n",
       "      <td>seronegative</td>\n",
       "    </tr>\n",
       "    <tr>\n",
       "      <th>tclib_A12_S1198_R1_001</th>\n",
       "      <td>tclib_A12_S1198_R1_001</td>\n",
       "      <td>60.023079</td>\n",
       "      <td>seropositive</td>\n",
       "      <td>seropositive</td>\n",
       "    </tr>\n",
       "    <tr>\n",
       "      <th>tclib_A7_S1193_R1_001</th>\n",
       "      <td>tclib_A7_S1193_R1_001</td>\n",
       "      <td>33.976898</td>\n",
       "      <td>seropositive</td>\n",
       "      <td>seropositive</td>\n",
       "    </tr>\n",
       "    <tr>\n",
       "      <th>tclib_A8_S1194_R1_001</th>\n",
       "      <td>tclib_A8_S1194_R1_001</td>\n",
       "      <td>38.794685</td>\n",
       "      <td>seronegative</td>\n",
       "      <td>seronegative</td>\n",
       "    </tr>\n",
       "  </tbody>\n",
       "</table>\n",
       "</div>"
      ],
      "text/plain": [
       "                                      obs_name   GFAP_sum         Group  \\\n",
       "tclib_A10_S1196_R1_001  tclib_A10_S1196_R1_001  33.869724  seropositive   \n",
       "tclib_A11_S1197_R1_001  tclib_A11_S1197_R1_001  34.863373  seronegative   \n",
       "tclib_A12_S1198_R1_001  tclib_A12_S1198_R1_001  60.023079  seropositive   \n",
       "tclib_A7_S1193_R1_001    tclib_A7_S1193_R1_001  33.976898  seropositive   \n",
       "tclib_A8_S1194_R1_001    tclib_A8_S1194_R1_001  38.794685  seronegative   \n",
       "\n",
       "                                Sero  \n",
       "tclib_A10_S1196_R1_001  seropositive  \n",
       "tclib_A11_S1197_R1_001  seronegative  \n",
       "tclib_A12_S1198_R1_001  seropositive  \n",
       "tclib_A7_S1193_R1_001   seropositive  \n",
       "tclib_A8_S1194_R1_001   seronegative  "
      ]
     },
     "execution_count": 8,
     "metadata": {},
     "output_type": "execute_result"
    }
   ],
   "source": [
    "gfap_sum_bd.head()"
   ]
  },
  {
   "cell_type": "code",
   "execution_count": 9,
   "id": "21006299-b42e-4d24-9110-fb295fd068a3",
   "metadata": {},
   "outputs": [
    {
     "data": {
      "image/png": "[encoded data removed]",
      "text/plain": [
       "<Figure size 800x500 with 2 Axes>"
      ]
     },
     "metadata": {},
     "output_type": "display_data"
    }
   ],
   "source": [
    "# plot sum of GFAP reads across samples\n",
    "sns.set_style(\"ticks\")\n",
    "order_cbm = ['NYBC', 'seronegative', 'seropositive', 'GFAP']\n",
    "order_bd = ['seronegative', 'seropositive', 'GFAP']\n",
    "\n",
    "fig, axes = plt.subplots(1, 2, figsize=(8, 5))\n",
    "\n",
    "ax1 = sns.stripplot(data=gfap_sum_bd, x=\"Sero\", y=\"GFAP_sum\", size = 10, hue='Group',\n",
    "                   linewidth=1, color = None, ax=axes[0], order = order_bd, alpha = 0.7\n",
    "                  )\n",
    "ax1.set_ylim(-1500,45000)\n",
    "ax1.set_xlabel(\"\")\n",
    "ax1.set_ylabel(\"Sum GFAP reads\")\n",
    "ax1.set_title(\"GFAP BD\")\n",
    "\n",
    "ax2 = sns.stripplot(data=gfap_sum_cbm, x=\"Group\", y=\"GFAP_sum\", size = 10, hue='Group',\n",
    "                   linewidth=1, color = None, ax=axes[1], order = order_cbm, alpha = 0.7\n",
    "                  )\n",
    "ax2.set_ylim(-1500,45000)\n",
    "ax2.set_xlabel(\"\")\n",
    "ax2.set_ylabel(\"Sum GFAP reads\")\n",
    "ax2.set_title(\"GFAP CBM\")\n",
    "\n",
    "plt.rcParams['axes.linewidth'] = .8\n",
    "\n",
    "plt.tight_layout()\n",
    "\n",
    "plt.savefig(fig_dir+'sfig_2.pdf', dpi=300 , bbox_inches=\"tight\")\n",
    "plt.show()"
   ]
  },
  {
   "cell_type": "markdown",
   "id": "3f939b2f-5ff0-4512-bd2d-9d98fe11d118",
   "metadata": {},
   "source": [
    "# SFig 4 -overlap of peptides between cohorts"
   ]
  },
  {
   "cell_type": "code",
   "execution_count": 10,
   "id": "718def63-1f62-4551-ba70-a7073e462ba8",
   "metadata": {},
   "outputs": [
    {
     "data": {
      "text/plain": [
       "1370"
      ]
     },
     "execution_count": 10,
     "metadata": {},
     "output_type": "execute_result"
    }
   ],
   "source": [
    "# find the commonly enriched peptides across both specimen sets\n",
    "## get list of overlapping peptide ids\n",
    "overlapping_peptides = chagas_pept_cbm.index.intersection(chagas_pept_bd.index)\n",
    "\n",
    "## subset each specimen set's peptides by the overlapping ids\n",
    "cbm_subset = chagas_pept_cbm.loc[overlapping_peptides, ['gene', 'protein', 'refseq_id', 'seq']]\n",
    "bd_subset = chagas_pept_bd.loc[overlapping_peptides, ['gene', 'protein', 'refseq_id', 'seq']]\n",
    "\n",
    "## generate merged df that contains peptide info for overlapping ids\n",
    "combined = pd.concat([cbm_subset, bd_subset]).drop_duplicates()\n",
    "\n",
    "combined['seq'].nunique()"
   ]
  },
  {
   "cell_type": "code",
   "execution_count": 11,
   "id": "35828f50-dd6f-4375-85c3-5be5fca07853",
   "metadata": {},
   "outputs": [
    {
     "data": {
      "text/plain": [
       "961"
      ]
     },
     "execution_count": 11,
     "metadata": {},
     "output_type": "execute_result"
    }
   ],
   "source": [
    "# find how many unique proteins are represented in the overlapping peptide set\n",
    "combined['refseq_id'].nunique()"
   ]
  },
  {
   "cell_type": "code",
   "execution_count": 12,
   "id": "8602ab6a-ea75-4802-ae81-e6a44749f519",
   "metadata": {},
   "outputs": [
    {
     "data": {
      "image/png": "[encoded data removed]",
      "text/plain": [
       "<Figure size 800x800 with 1 Axes>"
      ]
     },
     "metadata": {},
     "output_type": "display_data"
    }
   ],
   "source": [
    "# create venn diagram of peptide overlap\n",
    "plt.figure(figsize=(8, 8))\n",
    "set_cbm = set(chagas_pept_cbm.index)\n",
    "set_bd = set(chagas_pept_bd.index)\n",
    "\n",
    "venn = venn2([set_cbm, set_bd], set_labels=('CBM', 'BD'))\n",
    "\n",
    "plt.title('Peptides')\n",
    "plt.savefig(fig_dir+'sfig_4.pdf',dpi=300,bbox_inches='tight')\n",
    "plt.show()"
   ]
  },
  {
   "cell_type": "code",
   "execution_count": null,
   "id": "f6afcdf7-93a6-4f13-bc6e-5828cd6d7dca",
   "metadata": {},
   "outputs": [],
   "source": []
  }
 ],
 "metadata": {
  "kernelspec": {
   "display_name": "Python 3 (ipykernel)",
   "language": "python",
   "name": "python3"
  },
  "language_info": {
   "codemirror_mode": {
    "name": "ipython",
    "version": 3
   },
   "file_extension": ".py",
   "mimetype": "text/x-python",
   "name": "python",
   "nbconvert_exporter": "python",
   "pygments_lexer": "ipython3",
   "version": "3.12.2"
  }
 },
 "nbformat": 4,
 "nbformat_minor": 5
}
