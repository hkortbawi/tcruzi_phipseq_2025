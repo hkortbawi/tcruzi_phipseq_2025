{
 "cells": [
  {
   "cell_type": "code",
   "execution_count": 1,
   "id": "000967d3-2d4a-4ef5-b931-c19724bead9b",
   "metadata": {},
   "outputs": [],
   "source": [
    "import numpy as np\n",
    "import pandas as pd\n",
    "from array import array\n",
    "from statsmodels.stats.multitest import multipletests\n",
    "import matplotlib.pyplot as plt\n",
    "from matplotlib.ticker import MultipleLocator, FormatStrFormatter\n",
    "from matplotlib.colors import LinearSegmentedColormap\n",
    "from matplotlib.patches import Patch\n",
    "%matplotlib inline\n",
    "from matplotlib_venn import venn2\n",
    "import seaborn as sns\n",
    "import anndata as ad\n",
    "import phagepy as pp\n",
    "import scanpy as sc\n",
    "import scipy.stats as ss\n",
    "import scipy\n",
    "import phagepy.analysis as analysis\n",
    "import re\n",
    "import os\n",
    "from collections import Counter\n",
    "import scipy.stats as stats\n",
    "from Bio import SeqIO"
   ]
  },
  {
   "cell_type": "code",
   "execution_count": 2,
   "id": "d525650b-dad1-4437-ba85-c4c6da201f2f",
   "metadata": {},
   "outputs": [],
   "source": [
    "# define output folder for figures\n",
    "fig_dir='/data/kortbawi/Chagas/pub/final/final_fig_for_pub/'"
   ]
  },
  {
   "cell_type": "code",
   "execution_count": 3,
   "id": "41543e7a-d4d7-46d2-a0b9-e988a68db728",
   "metadata": {},
   "outputs": [],
   "source": [
    "# define directory for source and output files\n",
    "dir='/data/kortbawi/Chagas/pub/final/'"
   ]
  },
  {
   "cell_type": "markdown",
   "id": "30eec004-ec22-4598-b160-6686fc47afcc",
   "metadata": {},
   "source": [
    "# Read/write"
   ]
  },
  {
   "cell_type": "code",
   "execution_count": 4,
   "id": "95d5b405-7d7d-4876-b258-1cee951ad45a",
   "metadata": {},
   "outputs": [],
   "source": [
    "# load processed adata objects\n",
    "cbm = sc.read_h5ad(dir+'01_cbm.h5ad')\n",
    "bd = sc.read_h5ad(dir+'01_bd.h5ad')"
   ]
  },
  {
   "cell_type": "code",
   "execution_count": 5,
   "id": "03d38196-b82c-463c-91b8-131eec17dcfa",
   "metadata": {
    "tags": []
   },
   "outputs": [],
   "source": [
    "# load chagas-specific peptide files\n",
    "chagas_pept_cbm=pd.read_csv(dir+'01_cbm_pept.csv', index_col=0, header=0)\n",
    "chagas_pept_bd=pd.read_csv(dir+'01_bd_pept.csv', index_col=0, header=0)"
   ]
  },
  {
   "cell_type": "markdown",
   "id": "2c78a225-b650-4d9c-b850-5cec8a75712e",
   "metadata": {},
   "source": [
    "# Fig 2c - number of significantly enriched peptides per person"
   ]
  },
  {
   "cell_type": "code",
   "execution_count": 6,
   "id": "16284400-f463-4ace-8931-c8c6856781a1",
   "metadata": {
    "tags": []
   },
   "outputs": [],
   "source": [
    "# get list of all enriched peptides in BD specimens - this list will correspond to var_names in adata object\n",
    "bd_names_all=chagas_pept_bd.sort_values(by='protein',ascending=False).index\n",
    "\n",
    "# subset adata object for plotting - extract only seropos and seroneg samples, and only peptides enriched in seropos\n",
    "subset_bd_all = bd[bd.obs['sero'].isin(['seropositive', 'seronegative']), bd_names_all]\n",
    "\n",
    "# generate df for plotting - will contain sample ids, z-scores, and peptide names\n",
    "df_bd_all = pd.DataFrame(data=subset_bd_all.layers['z_score'], \n",
    "                             index=subset_bd_all.obs.index, \n",
    "                             columns=bd_names_all)\n",
    "df_bd_all = df_bd_all.T\n",
    "\n",
    "# sort samples by serologic status and by geographic region\n",
    "sorted_obs = subset_bd_all.obs.sort_values(by=['group', 'region'], ascending=True)\n",
    "df_bd_all = df_bd_all[sorted_obs.index]"
   ]
  },
  {
   "cell_type": "code",
   "execution_count": 7,
   "id": "a576d3d4-e54b-4836-9829-6646e1fcdefb",
   "metadata": {
    "tags": []
   },
   "outputs": [],
   "source": [
    "# get list of all enriched peptides in CBM specimens - this list will correspond to var_names in adata object\n",
    "cbm_names_all=chagas_pept_cbm.sort_values(by='protein',ascending=False).index\n",
    "\n",
    "# subset adata object for plotting - extract only seropos and seroneg samples, and only peptides enriched in seropos\n",
    "subset_cbm_all = cbm[cbm.obs['sero'].isin(['seropositive', 'seronegative']), cbm_names_all]\n",
    "\n",
    "# generate df for plotting - will contain sample ids, z-scores, and peptide names\n",
    "df_cbm_all = pd.DataFrame(data=subset_cbm_all.layers['z_score'], \n",
    "                             index=subset_cbm_all.obs.index, \n",
    "                             columns=cbm_names_all)\n",
    "df_cbm_all = df_cbm_all.T\n",
    "\n",
    "# sort samples by serologic status and by geographic region\n",
    "sorted_obs = subset_cbm_all.obs.sort_values(by=['group', 'heart_dz'], ascending=True)\n",
    "df_cbm_all = df_cbm_all[sorted_obs.index]"
   ]
  },
  {
   "cell_type": "code",
   "execution_count": 8,
   "id": "357b97fd-cca2-4425-9534-8644fb6e82d8",
   "metadata": {},
   "outputs": [
    {
     "data": {
      "text/plain": [
       "(View of AnnData object with n_obs × n_vars = 90 × 8710\n",
       "     obs: 'plate_well', 'BirthReg', 'birth_country', 'sero', 'group', 'region'\n",
       "     var: 'refseq_id', 'gene', 'protein', 'seq', 'stage'\n",
       "     obsm: 'DS_z_5'\n",
       "     layers: 'z_score',\n",
       " View of AnnData object with n_obs × n_vars = 228 × 5638\n",
       "     obs: 'sample_type', 'plate', 'well', 'sample_id', 'rerun', 'group', 'age', 'sex', 'heart_dz', 'sero'\n",
       "     var: 'refseq_id', 'gene', 'protein', 'seq', 'stage'\n",
       "     uns: 'control_ids'\n",
       "     obsm: 'DS_z_5'\n",
       "     varm: 'X_control'\n",
       "     layers: 'z_score')"
      ]
     },
     "execution_count": 8,
     "metadata": {},
     "output_type": "execute_result"
    }
   ],
   "source": [
    "# check that subsetted objects have the correct dimensions\n",
    "subset_bd_all, subset_cbm_all"
   ]
  },
  {
   "cell_type": "code",
   "execution_count": 9,
   "id": "d6d652ae-d197-4ee3-9fdd-8912c6728836",
   "metadata": {},
   "outputs": [],
   "source": [
    "# re-generate ds-specific hits - the obsm of ds-specific hits is not subsetted with the adata object, but z-score data is\n",
    "# re-generating ds-specific hits using subsetted z-score data will give real counts for just the enriched peptides\n",
    "def generate_ds_hits_v2(ad, layer, z_cutoff=5):\n",
    "    \"\"\"\n",
    "    Generates Disease-Specific Hits (ds-hits) at a given cutoff (boolean)\n",
    "    Use this to re-generate DS-specific hits boolean matrix on subsetted adata object that already only contains chagas-specific hits\n",
    "    Just for plotting!!\n",
    "    \n",
    "    Parameters\n",
    "    ----------\n",
    "    ad: anndata\n",
    "    layer: str\n",
    "        layer parameter (ad.layers[`layer_`]) of anndata object with calculated z-scores based on rpk\n",
    "    z_cutoff: int, default=5\n",
    "        if z>z_cutoff, then this a DS-hit for the sample \n",
    "    \n",
    "    Returns\n",
    "    -------\n",
    "    None \n",
    "    \n",
    "    Notes\n",
    "    -----\n",
    "    Saves DS hits under ad.obsm[`DS_subset_-<z-cutoff>`]\n",
    "    \"\"\"\n",
    "    #take and save DS hits\n",
    "    ad.obsm['DS_subset_{}'.format(z_cutoff)]=pd.DataFrame(data=ad.layers[layer]>z_cutoff,\n",
    "                                             index=ad.obs.index,\n",
    "                                             columns=ad.var.index)\n",
    "    \n",
    "    return None"
   ]
  },
  {
   "cell_type": "code",
   "execution_count": 10,
   "id": "14ea6ab3-ad82-46e2-8b6a-b4bca21b8c8f",
   "metadata": {},
   "outputs": [
    {
     "data": {
      "text/plain": [
       "AnnData object with n_obs × n_vars = 228 × 5638\n",
       "    obs: 'sample_type', 'plate', 'well', 'sample_id', 'rerun', 'group', 'age', 'sex', 'heart_dz', 'sero'\n",
       "    var: 'refseq_id', 'gene', 'protein', 'seq', 'stage'\n",
       "    uns: 'control_ids'\n",
       "    obsm: 'DS_z_5', 'DS_subset_5'\n",
       "    varm: 'X_control'\n",
       "    layers: 'z_score'"
      ]
     },
     "execution_count": 10,
     "metadata": {},
     "output_type": "execute_result"
    }
   ],
   "source": [
    "# regenerate DS-hits\n",
    "subset_cbm_all = subset_cbm_all.copy()\n",
    "generate_ds_hits_v2(subset_cbm_all, layer='z_score', z_cutoff=5)\n",
    "subset_cbm_all"
   ]
  },
  {
   "cell_type": "code",
   "execution_count": 11,
   "id": "e0da4e15-4ef8-4677-a2bf-df5c66fa6f2b",
   "metadata": {},
   "outputs": [
    {
     "data": {
      "text/plain": [
       "AnnData object with n_obs × n_vars = 90 × 8710\n",
       "    obs: 'plate_well', 'BirthReg', 'birth_country', 'sero', 'group', 'region'\n",
       "    var: 'refseq_id', 'gene', 'protein', 'seq', 'stage'\n",
       "    obsm: 'DS_z_5', 'DS_subset_5'\n",
       "    layers: 'z_score'"
      ]
     },
     "execution_count": 11,
     "metadata": {},
     "output_type": "execute_result"
    }
   ],
   "source": [
    "subset_bd_all = subset_bd_all.copy()\n",
    "generate_ds_hits_v2(subset_bd_all, layer='z_score', z_cutoff=5)\n",
    "subset_bd_all"
   ]
  },
  {
   "cell_type": "code",
   "execution_count": 12,
   "id": "02f938b5-5932-4ee3-983a-b3980ad782cd",
   "metadata": {},
   "outputs": [],
   "source": [
    "subset_cbm_all.obsm['DS_subset_5']=np.array(subset_cbm_all.obsm['DS_subset_5'])\n",
    "subset_bd_all.obsm['DS_subset_5']=np.array(subset_bd_all.obsm['DS_subset_5'])"
   ]
  },
  {
   "cell_type": "code",
   "execution_count": 13,
   "id": "c520b2f5-f1e4-4d52-b099-e290d2fff529",
   "metadata": {},
   "outputs": [],
   "source": [
    "# write out subsetted adata object\n",
    "subset_cbm_all.write_h5ad(dir+'02_cbm_dshits.h5ad')\n",
    "subset_bd_all.write_h5ad(dir+'02_bd_dshits.h5ad')"
   ]
  },
  {
   "cell_type": "code",
   "execution_count": 14,
   "id": "a0131b82-9dee-4549-8421-ba71723e7c48",
   "metadata": {},
   "outputs": [
    {
     "data": {
      "text/html": [
       "<div>\n",
       "<style scoped>\n",
       "    .dataframe tbody tr th:only-of-type {\n",
       "        vertical-align: middle;\n",
       "    }\n",
       "\n",
       "    .dataframe tbody tr th {\n",
       "        vertical-align: top;\n",
       "    }\n",
       "\n",
       "    .dataframe thead th {\n",
       "        text-align: right;\n",
       "    }\n",
       "</style>\n",
       "<table border=\"1\" class=\"dataframe\">\n",
       "  <thead>\n",
       "    <tr style=\"text-align: right;\">\n",
       "      <th></th>\n",
       "      <th>Sero</th>\n",
       "      <th>region</th>\n",
       "      <th>z_5_sum</th>\n",
       "    </tr>\n",
       "  </thead>\n",
       "  <tbody>\n",
       "    <tr>\n",
       "      <th>tclib_A10_S1196_R1_001</th>\n",
       "      <td>seropositive</td>\n",
       "      <td>SAM</td>\n",
       "      <td>961</td>\n",
       "    </tr>\n",
       "    <tr>\n",
       "      <th>tclib_A11_S1197_R1_001</th>\n",
       "      <td>seronegative</td>\n",
       "      <td>Z_UNK</td>\n",
       "      <td>76</td>\n",
       "    </tr>\n",
       "    <tr>\n",
       "      <th>tclib_A12_S1198_R1_001</th>\n",
       "      <td>seropositive</td>\n",
       "      <td>Z_UNK</td>\n",
       "      <td>618</td>\n",
       "    </tr>\n",
       "    <tr>\n",
       "      <th>tclib_A7_S1193_R1_001</th>\n",
       "      <td>seropositive</td>\n",
       "      <td>Z_UNK</td>\n",
       "      <td>1110</td>\n",
       "    </tr>\n",
       "    <tr>\n",
       "      <th>tclib_A8_S1194_R1_001</th>\n",
       "      <td>seronegative</td>\n",
       "      <td>Z_UNK</td>\n",
       "      <td>75</td>\n",
       "    </tr>\n",
       "  </tbody>\n",
       "</table>\n",
       "</div>"
      ],
      "text/plain": [
       "                                Sero region  z_5_sum\n",
       "tclib_A10_S1196_R1_001  seropositive    SAM      961\n",
       "tclib_A11_S1197_R1_001  seronegative  Z_UNK       76\n",
       "tclib_A12_S1198_R1_001  seropositive  Z_UNK      618\n",
       "tclib_A7_S1193_R1_001   seropositive  Z_UNK     1110\n",
       "tclib_A8_S1194_R1_001   seronegative  Z_UNK       75"
      ]
     },
     "execution_count": 14,
     "metadata": {},
     "output_type": "execute_result"
    }
   ],
   "source": [
    "# generate table with sum of 'DS_subset_5' and corresponding serpositive/seronegative status and region of origin\n",
    "index = subset_bd_all.obs_names\n",
    "group_column = subset_bd_all.obs['sero']\n",
    "group_column2 = subset_bd_all.obs['region']\n",
    "sum_column = subset_bd_all.obsm['DS_subset_5'].sum(axis=1)  # sum of ds-hits per-person\n",
    "\n",
    "bd_numb_pept = pd.DataFrame({\n",
    "    'Sero': group_column,\n",
    "    'region': group_column2,\n",
    "    'z_5_sum': sum_column\n",
    "}, index=index)\n",
    "bd_numb_pept.head()"
   ]
  },
  {
   "cell_type": "code",
   "execution_count": 15,
   "id": "c8a06978-a0ca-493e-ba95-3f3579c8c8fc",
   "metadata": {},
   "outputs": [
    {
     "data": {
      "text/html": [
       "<div>\n",
       "<style scoped>\n",
       "    .dataframe tbody tr th:only-of-type {\n",
       "        vertical-align: middle;\n",
       "    }\n",
       "\n",
       "    .dataframe tbody tr th {\n",
       "        vertical-align: top;\n",
       "    }\n",
       "\n",
       "    .dataframe thead th {\n",
       "        text-align: right;\n",
       "    }\n",
       "</style>\n",
       "<table border=\"1\" class=\"dataframe\">\n",
       "  <thead>\n",
       "    <tr style=\"text-align: right;\">\n",
       "      <th></th>\n",
       "      <th>Sero</th>\n",
       "      <th>group</th>\n",
       "      <th>heart_dz</th>\n",
       "      <th>z_5_sum</th>\n",
       "    </tr>\n",
       "  </thead>\n",
       "  <tbody>\n",
       "    <tr>\n",
       "      <th>CHAGAS_P3A1_BIO_6275-100uL_R1_001-0</th>\n",
       "      <td>seropositive</td>\n",
       "      <td>seropositive</td>\n",
       "      <td>1.0</td>\n",
       "      <td>731</td>\n",
       "    </tr>\n",
       "    <tr>\n",
       "      <th>CHAGAS_P3A2_BIO_6304-100uL_R1_001-0</th>\n",
       "      <td>seropositive</td>\n",
       "      <td>seropositive</td>\n",
       "      <td>1.0</td>\n",
       "      <td>456</td>\n",
       "    </tr>\n",
       "    <tr>\n",
       "      <th>CHAGAS_P3A3_BIO_6333-100uL_R1_001-0</th>\n",
       "      <td>seropositive</td>\n",
       "      <td>seropositive</td>\n",
       "      <td>1.0</td>\n",
       "      <td>294</td>\n",
       "    </tr>\n",
       "    <tr>\n",
       "      <th>CHAGAS_P3A4_BIO_6200-500ul_R1_001-0</th>\n",
       "      <td>seropositive</td>\n",
       "      <td>seropositive</td>\n",
       "      <td>2.0</td>\n",
       "      <td>629</td>\n",
       "    </tr>\n",
       "    <tr>\n",
       "      <th>CHAGAS_P3A5_BIO_6286-100ul_R1_001-0</th>\n",
       "      <td>seropositive</td>\n",
       "      <td>seropositive</td>\n",
       "      <td>2.0</td>\n",
       "      <td>629</td>\n",
       "    </tr>\n",
       "  </tbody>\n",
       "</table>\n",
       "</div>"
      ],
      "text/plain": [
       "                                             Sero         group heart_dz  \\\n",
       "CHAGAS_P3A1_BIO_6275-100uL_R1_001-0  seropositive  seropositive      1.0   \n",
       "CHAGAS_P3A2_BIO_6304-100uL_R1_001-0  seropositive  seropositive      1.0   \n",
       "CHAGAS_P3A3_BIO_6333-100uL_R1_001-0  seropositive  seropositive      1.0   \n",
       "CHAGAS_P3A4_BIO_6200-500ul_R1_001-0  seropositive  seropositive      2.0   \n",
       "CHAGAS_P3A5_BIO_6286-100ul_R1_001-0  seropositive  seropositive      2.0   \n",
       "\n",
       "                                     z_5_sum  \n",
       "CHAGAS_P3A1_BIO_6275-100uL_R1_001-0      731  \n",
       "CHAGAS_P3A2_BIO_6304-100uL_R1_001-0      456  \n",
       "CHAGAS_P3A3_BIO_6333-100uL_R1_001-0      294  \n",
       "CHAGAS_P3A4_BIO_6200-500ul_R1_001-0      629  \n",
       "CHAGAS_P3A5_BIO_6286-100ul_R1_001-0      629  "
      ]
     },
     "execution_count": 15,
     "metadata": {},
     "output_type": "execute_result"
    }
   ],
   "source": [
    "# generate table with sum of 'DS_subset_5' and corresponding serpositive/seronegative status and heart disease status\n",
    "index = subset_cbm_all.obs_names\n",
    "group_column = subset_cbm_all.obs['sero']\n",
    "group2_column = subset_cbm_all.obs['group']\n",
    "group3_column = subset_cbm_all.obs['heart_dz']\n",
    "sum_column = subset_cbm_all.obsm['DS_subset_5'].sum(axis=1)\n",
    "\n",
    "# Create the DataFrame\n",
    "cbm_numb_pept = pd.DataFrame({\n",
    "    'Sero': group_column,\n",
    "    'group': group2_column,\n",
    "    'heart_dz': group3_column,\n",
    "    'z_5_sum': sum_column\n",
    "}, index=index)\n",
    "cbm_numb_pept.head()"
   ]
  },
  {
   "cell_type": "code",
   "execution_count": 16,
   "id": "ff221bcc-3e14-421d-a157-0a6571cf158f",
   "metadata": {},
   "outputs": [
    {
     "data": {
      "text/html": [
       "<div>\n",
       "<style scoped>\n",
       "    .dataframe tbody tr th:only-of-type {\n",
       "        vertical-align: middle;\n",
       "    }\n",
       "\n",
       "    .dataframe tbody tr th {\n",
       "        vertical-align: top;\n",
       "    }\n",
       "\n",
       "    .dataframe thead th {\n",
       "        text-align: right;\n",
       "    }\n",
       "</style>\n",
       "<table border=\"1\" class=\"dataframe\">\n",
       "  <thead>\n",
       "    <tr style=\"text-align: right;\">\n",
       "      <th></th>\n",
       "      <th>Sero</th>\n",
       "      <th>group</th>\n",
       "      <th>heart_dz</th>\n",
       "      <th>z_5_sum</th>\n",
       "      <th>region</th>\n",
       "    </tr>\n",
       "  </thead>\n",
       "  <tbody>\n",
       "    <tr>\n",
       "      <th>CHAGAS_P3A1_BIO_6275-100uL_R1_001-0</th>\n",
       "      <td>seropositive</td>\n",
       "      <td>seropositive</td>\n",
       "      <td>1.0</td>\n",
       "      <td>731</td>\n",
       "      <td>NaN</td>\n",
       "    </tr>\n",
       "    <tr>\n",
       "      <th>CHAGAS_P3A2_BIO_6304-100uL_R1_001-0</th>\n",
       "      <td>seropositive</td>\n",
       "      <td>seropositive</td>\n",
       "      <td>1.0</td>\n",
       "      <td>456</td>\n",
       "      <td>NaN</td>\n",
       "    </tr>\n",
       "    <tr>\n",
       "      <th>CHAGAS_P3A3_BIO_6333-100uL_R1_001-0</th>\n",
       "      <td>seropositive</td>\n",
       "      <td>seropositive</td>\n",
       "      <td>1.0</td>\n",
       "      <td>294</td>\n",
       "      <td>NaN</td>\n",
       "    </tr>\n",
       "    <tr>\n",
       "      <th>CHAGAS_P3A4_BIO_6200-500ul_R1_001-0</th>\n",
       "      <td>seropositive</td>\n",
       "      <td>seropositive</td>\n",
       "      <td>2.0</td>\n",
       "      <td>629</td>\n",
       "      <td>NaN</td>\n",
       "    </tr>\n",
       "    <tr>\n",
       "      <th>CHAGAS_P3A5_BIO_6286-100ul_R1_001-0</th>\n",
       "      <td>seropositive</td>\n",
       "      <td>seropositive</td>\n",
       "      <td>2.0</td>\n",
       "      <td>629</td>\n",
       "      <td>NaN</td>\n",
       "    </tr>\n",
       "  </tbody>\n",
       "</table>\n",
       "</div>"
      ],
      "text/plain": [
       "                                             Sero         group heart_dz  \\\n",
       "CHAGAS_P3A1_BIO_6275-100uL_R1_001-0  seropositive  seropositive      1.0   \n",
       "CHAGAS_P3A2_BIO_6304-100uL_R1_001-0  seropositive  seropositive      1.0   \n",
       "CHAGAS_P3A3_BIO_6333-100uL_R1_001-0  seropositive  seropositive      1.0   \n",
       "CHAGAS_P3A4_BIO_6200-500ul_R1_001-0  seropositive  seropositive      2.0   \n",
       "CHAGAS_P3A5_BIO_6286-100ul_R1_001-0  seropositive  seropositive      2.0   \n",
       "\n",
       "                                     z_5_sum region  \n",
       "CHAGAS_P3A1_BIO_6275-100uL_R1_001-0      731    NaN  \n",
       "CHAGAS_P3A2_BIO_6304-100uL_R1_001-0      456    NaN  \n",
       "CHAGAS_P3A3_BIO_6333-100uL_R1_001-0      294    NaN  \n",
       "CHAGAS_P3A4_BIO_6200-500ul_R1_001-0      629    NaN  \n",
       "CHAGAS_P3A5_BIO_6286-100ul_R1_001-0      629    NaN  "
      ]
     },
     "execution_count": 16,
     "metadata": {},
     "output_type": "execute_result"
    }
   ],
   "source": [
    "# merge dfs into one for plotting\n",
    "merge_numb_pept = pd.concat([cbm_numb_pept, bd_numb_pept])\n",
    "merge_numb_pept.head()"
   ]
  },
  {
   "cell_type": "code",
   "execution_count": 17,
   "id": "ab15a7da-5ec9-4c57-9dc1-26d1d465b50c",
   "metadata": {},
   "outputs": [
    {
     "data": {
      "text/plain": [
       "(318, 5)"
      ]
     },
     "execution_count": 17,
     "metadata": {},
     "output_type": "execute_result"
    }
   ],
   "source": [
    "# check that merged df has the right length\n",
    "merge_numb_pept.shape"
   ]
  },
  {
   "cell_type": "code",
   "execution_count": 18,
   "id": "939ae315-b268-454f-83ef-651fda6a031d",
   "metadata": {},
   "outputs": [
    {
     "data": {
      "text/plain": [
       "np.float64(979.5)"
      ]
     },
     "execution_count": 18,
     "metadata": {},
     "output_type": "execute_result"
    }
   ],
   "source": [
    "# find median number of per-person peptides of seropositive BD samples\n",
    "bd_pos_median = bd_numb_pept[bd_numb_pept['Sero'] == 'seropositive']['z_5_sum'].median()\n",
    "bd_pos_median"
   ]
  },
  {
   "cell_type": "code",
   "execution_count": 19,
   "id": "f3090990-2859-466b-80b0-5324441a3d7c",
   "metadata": {
    "scrolled": true
   },
   "outputs": [
    {
     "data": {
      "text/plain": [
       "np.float64(719.0)"
      ]
     },
     "execution_count": 19,
     "metadata": {},
     "output_type": "execute_result"
    }
   ],
   "source": [
    "# find median number of per-person peptides of seropositive CBM samples\n",
    "cbm_pos_median = cbm_numb_pept[cbm_numb_pept['Sero'] == 'seropositive']['z_5_sum'].median()\n",
    "cbm_pos_median"
   ]
  },
  {
   "cell_type": "code",
   "execution_count": 20,
   "id": "744faa51-2b38-4a42-90ee-fd8f87b7cf84",
   "metadata": {},
   "outputs": [
    {
     "data": {
      "text/html": [
       "<div>\n",
       "<style scoped>\n",
       "    .dataframe tbody tr th:only-of-type {\n",
       "        vertical-align: middle;\n",
       "    }\n",
       "\n",
       "    .dataframe tbody tr th {\n",
       "        vertical-align: top;\n",
       "    }\n",
       "\n",
       "    .dataframe thead th {\n",
       "        text-align: right;\n",
       "    }\n",
       "</style>\n",
       "<table border=\"1\" class=\"dataframe\">\n",
       "  <thead>\n",
       "    <tr style=\"text-align: right;\">\n",
       "      <th></th>\n",
       "      <th>Sero</th>\n",
       "      <th>region</th>\n",
       "      <th>z_5_sum</th>\n",
       "    </tr>\n",
       "  </thead>\n",
       "  <tbody>\n",
       "    <tr>\n",
       "      <th>tclib_A10_S1196_R1_001</th>\n",
       "      <td>seropositive</td>\n",
       "      <td>SAM</td>\n",
       "      <td>961</td>\n",
       "    </tr>\n",
       "    <tr>\n",
       "      <th>tclib_A12_S1198_R1_001</th>\n",
       "      <td>seropositive</td>\n",
       "      <td>Z_UNK</td>\n",
       "      <td>618</td>\n",
       "    </tr>\n",
       "    <tr>\n",
       "      <th>tclib_A7_S1193_R1_001</th>\n",
       "      <td>seropositive</td>\n",
       "      <td>Z_UNK</td>\n",
       "      <td>1110</td>\n",
       "    </tr>\n",
       "    <tr>\n",
       "      <th>tclib_A9_S1195_R1_001</th>\n",
       "      <td>seropositive</td>\n",
       "      <td>Z_UNK</td>\n",
       "      <td>1122</td>\n",
       "    </tr>\n",
       "    <tr>\n",
       "      <th>tclib_B11_S1209_R1_001</th>\n",
       "      <td>seropositive</td>\n",
       "      <td>Z_UNK</td>\n",
       "      <td>1029</td>\n",
       "    </tr>\n",
       "  </tbody>\n",
       "</table>\n",
       "</div>"
      ],
      "text/plain": [
       "                                Sero region  z_5_sum\n",
       "tclib_A10_S1196_R1_001  seropositive    SAM      961\n",
       "tclib_A12_S1198_R1_001  seropositive  Z_UNK      618\n",
       "tclib_A7_S1193_R1_001   seropositive  Z_UNK     1110\n",
       "tclib_A9_S1195_R1_001   seropositive  Z_UNK     1122\n",
       "tclib_B11_S1209_R1_001  seropositive  Z_UNK     1029"
      ]
     },
     "execution_count": 20,
     "metadata": {},
     "output_type": "execute_result"
    }
   ],
   "source": [
    "# subset BD table into only seropositives to check for differences in number of peptides by region\n",
    "bd_pos = bd_numb_pept[bd_numb_pept['Sero'] == 'seropositive']\n",
    "bd_pos.head()"
   ]
  },
  {
   "cell_type": "code",
   "execution_count": 21,
   "id": "d5c5fa6a-a10b-40ba-8345-cc256f4c79fe",
   "metadata": {},
   "outputs": [
    {
     "data": {
      "text/plain": [
       "KruskalResult(statistic=np.float64(1.7744200244200243), pvalue=np.float64(0.4118030770545761))"
      ]
     },
     "execution_count": 21,
     "metadata": {},
     "output_type": "execute_result"
    }
   ],
   "source": [
    "# check if there is an association between number of peptides and region\n",
    "ss.kruskal(bd_pos[bd_pos['region'] == 'MEX']['z_5_sum'],\n",
    "           bd_pos[bd_pos['region'] == 'SAM']['z_5_sum'],\n",
    "           bd_pos[bd_pos['region'] == 'CAM']['z_5_sum']\n",
    "          )"
   ]
  },
  {
   "cell_type": "code",
   "execution_count": 22,
   "id": "c6e28e9a-29ac-45ed-86b0-32e83cd76130",
   "metadata": {},
   "outputs": [
    {
     "data": {
      "text/html": [
       "<div>\n",
       "<style scoped>\n",
       "    .dataframe tbody tr th:only-of-type {\n",
       "        vertical-align: middle;\n",
       "    }\n",
       "\n",
       "    .dataframe tbody tr th {\n",
       "        vertical-align: top;\n",
       "    }\n",
       "\n",
       "    .dataframe thead th {\n",
       "        text-align: right;\n",
       "    }\n",
       "</style>\n",
       "<table border=\"1\" class=\"dataframe\">\n",
       "  <thead>\n",
       "    <tr style=\"text-align: right;\">\n",
       "      <th></th>\n",
       "      <th>Sero</th>\n",
       "      <th>group</th>\n",
       "      <th>heart_dz</th>\n",
       "      <th>z_5_sum</th>\n",
       "    </tr>\n",
       "  </thead>\n",
       "  <tbody>\n",
       "    <tr>\n",
       "      <th>CHAGAS_P3A1_BIO_6275-100uL_R1_001-0</th>\n",
       "      <td>seropositive</td>\n",
       "      <td>seropositive</td>\n",
       "      <td>1.0</td>\n",
       "      <td>731</td>\n",
       "    </tr>\n",
       "    <tr>\n",
       "      <th>CHAGAS_P3A2_BIO_6304-100uL_R1_001-0</th>\n",
       "      <td>seropositive</td>\n",
       "      <td>seropositive</td>\n",
       "      <td>1.0</td>\n",
       "      <td>456</td>\n",
       "    </tr>\n",
       "    <tr>\n",
       "      <th>CHAGAS_P3A3_BIO_6333-100uL_R1_001-0</th>\n",
       "      <td>seropositive</td>\n",
       "      <td>seropositive</td>\n",
       "      <td>1.0</td>\n",
       "      <td>294</td>\n",
       "    </tr>\n",
       "    <tr>\n",
       "      <th>CHAGAS_P3A4_BIO_6200-500ul_R1_001-0</th>\n",
       "      <td>seropositive</td>\n",
       "      <td>seropositive</td>\n",
       "      <td>2.0</td>\n",
       "      <td>629</td>\n",
       "    </tr>\n",
       "    <tr>\n",
       "      <th>CHAGAS_P3A5_BIO_6286-100ul_R1_001-0</th>\n",
       "      <td>seropositive</td>\n",
       "      <td>seropositive</td>\n",
       "      <td>2.0</td>\n",
       "      <td>629</td>\n",
       "    </tr>\n",
       "  </tbody>\n",
       "</table>\n",
       "</div>"
      ],
      "text/plain": [
       "                                             Sero         group heart_dz  \\\n",
       "CHAGAS_P3A1_BIO_6275-100uL_R1_001-0  seropositive  seropositive      1.0   \n",
       "CHAGAS_P3A2_BIO_6304-100uL_R1_001-0  seropositive  seropositive      1.0   \n",
       "CHAGAS_P3A3_BIO_6333-100uL_R1_001-0  seropositive  seropositive      1.0   \n",
       "CHAGAS_P3A4_BIO_6200-500ul_R1_001-0  seropositive  seropositive      2.0   \n",
       "CHAGAS_P3A5_BIO_6286-100ul_R1_001-0  seropositive  seropositive      2.0   \n",
       "\n",
       "                                     z_5_sum  \n",
       "CHAGAS_P3A1_BIO_6275-100uL_R1_001-0      731  \n",
       "CHAGAS_P3A2_BIO_6304-100uL_R1_001-0      456  \n",
       "CHAGAS_P3A3_BIO_6333-100uL_R1_001-0      294  \n",
       "CHAGAS_P3A4_BIO_6200-500ul_R1_001-0      629  \n",
       "CHAGAS_P3A5_BIO_6286-100ul_R1_001-0      629  "
      ]
     },
     "execution_count": 22,
     "metadata": {},
     "output_type": "execute_result"
    }
   ],
   "source": [
    "# subset CBM table into only seropositives to check for differences in number of peptides by region\n",
    "cbm_pos = cbm_numb_pept[cbm_numb_pept['Sero'] == 'seropositive']\n",
    "cbm_pos.head()"
   ]
  },
  {
   "cell_type": "code",
   "execution_count": 23,
   "id": "f0808dfb-290d-4ba9-bb3a-dc6315d96587",
   "metadata": {},
   "outputs": [
    {
     "data": {
      "text/plain": [
       "KruskalResult(statistic=np.float64(2.487048184559869), pvalue=np.float64(0.4776363144642619))"
      ]
     },
     "execution_count": 23,
     "metadata": {},
     "output_type": "execute_result"
    }
   ],
   "source": [
    "# check if there is an association between number of peptides and heart disease stage\n",
    "ss.kruskal(cbm_pos[cbm_pos['heart_dz'] == '1.0']['z_5_sum'],\n",
    "           cbm_pos[cbm_pos['heart_dz'] == '2.0']['z_5_sum'],\n",
    "           cbm_pos[cbm_pos['heart_dz'] == '3.0']['z_5_sum'],\n",
    "           cbm_pos[cbm_pos['heart_dz'] == '4.0']['z_5_sum']\n",
    "          )"
   ]
  },
  {
   "cell_type": "code",
   "execution_count": 24,
   "id": "07572a40-0677-4dbd-b877-74a0ffcb9606",
   "metadata": {},
   "outputs": [
    {
     "data": {
      "text/html": [
       "<div>\n",
       "<style scoped>\n",
       "    .dataframe tbody tr th:only-of-type {\n",
       "        vertical-align: middle;\n",
       "    }\n",
       "\n",
       "    .dataframe tbody tr th {\n",
       "        vertical-align: top;\n",
       "    }\n",
       "\n",
       "    .dataframe thead th {\n",
       "        text-align: right;\n",
       "    }\n",
       "</style>\n",
       "<table border=\"1\" class=\"dataframe\">\n",
       "  <thead>\n",
       "    <tr style=\"text-align: right;\">\n",
       "      <th></th>\n",
       "      <th>Sero</th>\n",
       "      <th>region</th>\n",
       "      <th>z_5_sum</th>\n",
       "    </tr>\n",
       "  </thead>\n",
       "  <tbody>\n",
       "    <tr>\n",
       "      <th>tclib_C7_S1217_R1_001</th>\n",
       "      <td>seropositive</td>\n",
       "      <td>CAM</td>\n",
       "      <td>572</td>\n",
       "    </tr>\n",
       "    <tr>\n",
       "      <th>tclib_E3_S1237_R1_001</th>\n",
       "      <td>seropositive</td>\n",
       "      <td>CAM</td>\n",
       "      <td>810</td>\n",
       "    </tr>\n",
       "    <tr>\n",
       "      <th>tclib_F5_S1251_R1_001</th>\n",
       "      <td>seropositive</td>\n",
       "      <td>CAM</td>\n",
       "      <td>862</td>\n",
       "    </tr>\n",
       "    <tr>\n",
       "      <th>tclib_H2_S1272_R1_001</th>\n",
       "      <td>seropositive</td>\n",
       "      <td>CAM</td>\n",
       "      <td>987</td>\n",
       "    </tr>\n",
       "    <tr>\n",
       "      <th>tclib_E11_S1245_R1_001</th>\n",
       "      <td>seropositive</td>\n",
       "      <td>CAM</td>\n",
       "      <td>1004</td>\n",
       "    </tr>\n",
       "  </tbody>\n",
       "</table>\n",
       "</div>"
      ],
      "text/plain": [
       "                                Sero region  z_5_sum\n",
       "tclib_C7_S1217_R1_001   seropositive    CAM      572\n",
       "tclib_E3_S1237_R1_001   seropositive    CAM      810\n",
       "tclib_F5_S1251_R1_001   seropositive    CAM      862\n",
       "tclib_H2_S1272_R1_001   seropositive    CAM      987\n",
       "tclib_E11_S1245_R1_001  seropositive    CAM     1004"
      ]
     },
     "execution_count": 24,
     "metadata": {},
     "output_type": "execute_result"
    }
   ],
   "source": [
    "# prepare BD table for plotting\n",
    "## sort samples by region and by ascending number of enriched peptides within each region\n",
    "bd_numb_pept = bd_numb_pept.sort_values(by=['region', 'z_5_sum'])\n",
    "## color specimens by region\n",
    "bd_palette = sns.color_palette(\"tab10\", len(bd_numb_pept['region'].unique()))\n",
    "bd_numb_pept.head()"
   ]
  },
  {
   "cell_type": "code",
   "execution_count": 25,
   "id": "6a179b13-5b16-49b0-a74c-a6f2e698704c",
   "metadata": {},
   "outputs": [
    {
     "data": {
      "text/html": [
       "<div>\n",
       "<style scoped>\n",
       "    .dataframe tbody tr th:only-of-type {\n",
       "        vertical-align: middle;\n",
       "    }\n",
       "\n",
       "    .dataframe tbody tr th {\n",
       "        vertical-align: top;\n",
       "    }\n",
       "\n",
       "    .dataframe thead th {\n",
       "        text-align: right;\n",
       "    }\n",
       "</style>\n",
       "<table border=\"1\" class=\"dataframe\">\n",
       "  <thead>\n",
       "    <tr style=\"text-align: right;\">\n",
       "      <th></th>\n",
       "      <th>Sero</th>\n",
       "      <th>group</th>\n",
       "      <th>heart_dz</th>\n",
       "      <th>z_5_sum</th>\n",
       "    </tr>\n",
       "  </thead>\n",
       "  <tbody>\n",
       "    <tr>\n",
       "      <th>CHAGAS_P3F8_BIO_6068-500ul_R1_001-0</th>\n",
       "      <td>seronegative</td>\n",
       "      <td>seronegative</td>\n",
       "      <td>1.0</td>\n",
       "      <td>15</td>\n",
       "    </tr>\n",
       "    <tr>\n",
       "      <th>CHAGAS_P3C9_BIO_6279-NONE_R1_001-0</th>\n",
       "      <td>seronegative</td>\n",
       "      <td>seronegative</td>\n",
       "      <td>1.0</td>\n",
       "      <td>27</td>\n",
       "    </tr>\n",
       "    <tr>\n",
       "      <th>CHAGAS_P3D9_BIO_6283-50ul_R1_001-0</th>\n",
       "      <td>seronegative</td>\n",
       "      <td>seronegative</td>\n",
       "      <td>1.0</td>\n",
       "      <td>29</td>\n",
       "    </tr>\n",
       "    <tr>\n",
       "      <th>CHAGAS_P4F8_BIO_6300-NONE_R1_001-0</th>\n",
       "      <td>seronegative</td>\n",
       "      <td>seronegative</td>\n",
       "      <td>1.0</td>\n",
       "      <td>41</td>\n",
       "    </tr>\n",
       "    <tr>\n",
       "      <th>CHAGAS_P4H8_BIO_6360-500uL_R1_001-0</th>\n",
       "      <td>seronegative</td>\n",
       "      <td>seronegative</td>\n",
       "      <td>1.0</td>\n",
       "      <td>43</td>\n",
       "    </tr>\n",
       "  </tbody>\n",
       "</table>\n",
       "</div>"
      ],
      "text/plain": [
       "                                             Sero         group heart_dz  \\\n",
       "CHAGAS_P3F8_BIO_6068-500ul_R1_001-0  seronegative  seronegative      1.0   \n",
       "CHAGAS_P3C9_BIO_6279-NONE_R1_001-0   seronegative  seronegative      1.0   \n",
       "CHAGAS_P3D9_BIO_6283-50ul_R1_001-0   seronegative  seronegative      1.0   \n",
       "CHAGAS_P4F8_BIO_6300-NONE_R1_001-0   seronegative  seronegative      1.0   \n",
       "CHAGAS_P4H8_BIO_6360-500uL_R1_001-0  seronegative  seronegative      1.0   \n",
       "\n",
       "                                     z_5_sum  \n",
       "CHAGAS_P3F8_BIO_6068-500ul_R1_001-0       15  \n",
       "CHAGAS_P3C9_BIO_6279-NONE_R1_001-0        27  \n",
       "CHAGAS_P3D9_BIO_6283-50ul_R1_001-0        29  \n",
       "CHAGAS_P4F8_BIO_6300-NONE_R1_001-0        41  \n",
       "CHAGAS_P4H8_BIO_6360-500uL_R1_001-0       43  "
      ]
     },
     "execution_count": 25,
     "metadata": {},
     "output_type": "execute_result"
    }
   ],
   "source": [
    "# prepare CBM table for plotting\n",
    "## sort samples by heart disease stage and by ascending number of enriched peptides within each stage\n",
    "cbm_numb_pept = cbm_numb_pept.sort_values(by=['heart_dz', 'z_5_sum'])\n",
    "## color specimens by stage\n",
    "cbm_palette = sns.color_palette(\"tab20\", len(cbm_numb_pept['heart_dz'].unique()))\n",
    "cbm_numb_pept.head()"
   ]
  },
  {
   "cell_type": "code",
   "execution_count": 26,
   "id": "634125d8-ae32-43e1-bd70-7068e1fadee6",
   "metadata": {
    "scrolled": true
   },
   "outputs": [
    {
     "data": {
      "image/png": "[encoded data removed]",
      "text/plain": [
       "<Figure size 2000x300 with 3 Axes>"
      ]
     },
     "metadata": {},
     "output_type": "display_data"
    }
   ],
   "source": [
    "# plot barplot of number of enriched peptides per sample\n",
    "fig, axes = plt.subplots(1, 3, figsize=(20, 3))\n",
    "\n",
    "# Plot bd cohort seropositives by region\n",
    "sns.barplot(data=bd_numb_pept[bd_numb_pept['Sero'] == 'seropositive'], \n",
    "            x=bd_numb_pept[bd_numb_pept['Sero'] == 'seropositive'].index, \n",
    "            y='z_5_sum', \n",
    "            ax=axes[0],\n",
    "            hue='region',\n",
    "            palette=bd_palette\n",
    "           )\n",
    "\n",
    "axes[0].set_xlabel(\"\")\n",
    "axes[0].set_xticklabels([])\n",
    "axes[0].set_ylabel(\"Count\")\n",
    "axes[0].set_title(\"BD seropositive (by region)\")\n",
    "axes[0].set_ylim(0, 1400)\n",
    "axes[0].axhline(bd_pos_median, color='g', linestyle='--', label='median')\n",
    "axes[0].legend(title='Region', bbox_to_anchor=(1.05, 1), loc='upper left')\n",
    "\n",
    "# Plot cbm cohort seropositives by heart disease status\n",
    "sns.barplot(data=cbm_numb_pept[cbm_numb_pept['Sero'] == 'seropositive'], \n",
    "            x=cbm_numb_pept[cbm_numb_pept['Sero'] == 'seropositive'].index, \n",
    "            y='z_5_sum', \n",
    "            ax=axes[1],  \n",
    "            hue='heart_dz',\n",
    "            palette=cbm_palette\n",
    "           )\n",
    "\n",
    "axes[1].set_xlabel(\"\")\n",
    "axes[1].set_xticklabels([])\n",
    "axes[1].set_ylabel(\"Count\")\n",
    "axes[1].set_title(\"CBM seropositive (by heart disease stage)\")\n",
    "axes[1].set_ylim(0,1400)\n",
    "axes[1].axhline(cbm_pos_median, color='g', linestyle='--', label='median')\n",
    "axes[1].legend(title='Heart Disease Stage', bbox_to_anchor=(1.05, 1), loc='upper left')\n",
    "\n",
    "# seronegative plot\n",
    "sns.barplot(data=merge_numb_pept[merge_numb_pept['Sero'] == 'seronegative'], \n",
    "            x=merge_numb_pept[merge_numb_pept['Sero'] == 'seronegative'].index, \n",
    "            y='z_5_sum', \n",
    "            ax=axes[2],\n",
    "            color='skyblue'\n",
    "           )\n",
    "\n",
    "axes[2].set_xlabel(\"\")\n",
    "axes[2].set_xticklabels([])\n",
    "axes[2].set_ylabel(\"Count\")\n",
    "axes[2].set_title(\"Seronegative\")\n",
    "axes[2].set_ylim(0,1400)\n",
    "\n",
    "plt.tight_layout() \n",
    "plt.savefig(fig_dir+'fig_2c.pdf', dpi=300 , bbox_inches=\"tight\")\n",
    "plt.show()"
   ]
  },
  {
   "cell_type": "code",
   "execution_count": null,
   "id": "6d3a537d-0c98-49b6-9b0b-b045260c8029",
   "metadata": {},
   "outputs": [],
   "source": []
  }
 ],
 "metadata": {
  "kernelspec": {
   "display_name": "Python 3 (ipykernel)",
   "language": "python",
   "name": "python3"
  },
  "language_info": {
   "codemirror_mode": {
    "name": "ipython",
    "version": 3
   },
   "file_extension": ".py",
   "mimetype": "text/x-python",
   "name": "python",
   "nbconvert_exporter": "python",
   "pygments_lexer": "ipython3",
   "version": "3.12.2"
  }
 },
 "nbformat": 4,
 "nbformat_minor": 5
}
