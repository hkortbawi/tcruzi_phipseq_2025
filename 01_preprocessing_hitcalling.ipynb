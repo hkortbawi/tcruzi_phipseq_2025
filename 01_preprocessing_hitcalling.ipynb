{
 "cells": [
  {
   "cell_type": "code",
   "execution_count": 1,
   "id": "a3c74d4f-6410-48d2-b8b7-fe0bb1909b77",
   "metadata": {},
   "outputs": [],
   "source": [
    "import numpy as np\n",
    "import pandas as pd\n",
    "from array import array\n",
    "from statsmodels.stats.multitest import multipletests\n",
    "import matplotlib.pyplot as plt\n",
    "from matplotlib.ticker import MultipleLocator, FormatStrFormatter\n",
    "from matplotlib.colors import LinearSegmentedColormap\n",
    "from matplotlib.patches import Patch\n",
    "%matplotlib inline\n",
    "from matplotlib_venn import venn2\n",
    "import seaborn as sns\n",
    "import anndata as ad\n",
    "import phagepy as pp\n",
    "import scanpy as sc\n",
    "import scipy.stats as ss\n",
    "import scipy\n",
    "import phagepy.analysis as analysis\n",
    "import re\n",
    "import os\n",
    "from collections import Counter\n",
    "import scipy.stats as stats\n",
    "from Bio import SeqIO"
   ]
  },
  {
   "cell_type": "code",
   "execution_count": 2,
   "id": "a5fc01ea-1101-4f85-9655-1ba0a74ad3be",
   "metadata": {},
   "outputs": [],
   "source": [
    "# define output folder for figures\n",
    "fig_dir='/path/to/output_figs/'"
   ]
  },
  {
   "cell_type": "code",
   "execution_count": 3,
   "id": "cf3b43a5-4c2d-47df-8a3c-e5b66b030a61",
   "metadata": {},
   "outputs": [],
   "source": [
    "# define directory for source and output files\n",
    "dir='/path/to/source_files/'"
   ]
  },
  {
   "cell_type": "markdown",
   "id": "97730f0a-faf9-4384-9145-7e318edd370f",
   "metadata": {
    "tags": []
   },
   "source": [
    "# Read/write"
   ]
  },
  {
   "cell_type": "code",
   "execution_count": 4,
   "id": "37f24678-ee7d-4111-9a06-8347d5d82c4c",
   "metadata": {},
   "outputs": [],
   "source": [
    "# import CBM metadata and counts data (two rounds of sequencing)\n",
    "cbm_meta1 = dir+\"cbm_metadata.csv\"\n",
    "cbm_meta2 = dir+\"cbm_metadata2.csv\"\n",
    "cbm_counts1 = dir+\"cbm_raw_rpk.csv\"\n",
    "cbm_counts2 = dir+\"cbm_raw_rpk2.csv\"\n",
    "# import BD metadata and counts data\n",
    "bd_meta = dir+\"bd_metadata.csv\"\n",
    "bd_counts = dir+\"bd_raw_rpk.csv\""
   ]
  },
  {
   "cell_type": "code",
   "execution_count": 5,
   "id": "2c472ce6-57db-434a-be8b-e1b3d76ec785",
   "metadata": {},
   "outputs": [
    {
     "name": "stderr",
     "output_type": "stream",
     "text": [
      "/data/miniconda3/lib/python3.12/site-packages/anndata/_core/anndata.py:402: FutureWarning: The dtype argument is deprecated and will be removed in late 2024.\n",
      "  warnings.warn(\n",
      "/data/miniconda3/lib/python3.12/site-packages/anndata/_core/anndata.py:402: FutureWarning: The dtype argument is deprecated and will be removed in late 2024.\n",
      "  warnings.warn(\n"
     ]
    }
   ],
   "source": [
    "# create anndata object for CMB cohort\n",
    "cbm1=pp.create_anndata(cbm_counts1, cbm_meta1)\n",
    "cbm2=pp.create_anndata(cbm_counts2, cbm_meta2)"
   ]
  },
  {
   "cell_type": "code",
   "execution_count": 6,
   "id": "bd792976-2a24-4c03-9efd-193d4feb2b36",
   "metadata": {},
   "outputs": [
    {
     "name": "stderr",
     "output_type": "stream",
     "text": [
      "/data/miniconda3/lib/python3.12/site-packages/anndata/_core/anndata.py:402: FutureWarning: The dtype argument is deprecated and will be removed in late 2024.\n",
      "  warnings.warn(\n"
     ]
    }
   ],
   "source": [
    "# create anndata object for BD cohort\n",
    "bd=pp.create_anndata(bd_counts, bd_meta)"
   ]
  },
  {
   "cell_type": "code",
   "execution_count": 7,
   "id": "147aad3f-d060-49f2-aa3b-40823ae77fa2",
   "metadata": {},
   "outputs": [
    {
     "data": {
      "text/plain": [
       "AnnData object with n_obs × n_vars = 307 × 239640\n",
       "    obs: 'sample_type', 'plate', 'well', 'sample_id', 'rerun', 'group', 'age', 'sex', 'heart_dz', 'sero'"
      ]
     },
     "execution_count": 7,
     "metadata": {},
     "output_type": "execute_result"
    }
   ],
   "source": [
    "# concatenate both CBM objects and delete individual objects\n",
    "cbm = ad.concat([cbm1, cbm2], index_unique=\"-\")\n",
    "del cbm1\n",
    "del cbm2\n",
    "cbm"
   ]
  },
  {
   "cell_type": "markdown",
   "id": "e462f84a-bd26-4bb5-929e-0ec0b9853403",
   "metadata": {
    "tags": []
   },
   "source": [
    "# filter out low readcount samples from CBM"
   ]
  },
  {
   "cell_type": "code",
   "execution_count": 8,
   "id": "8c51352d-3f71-411b-9c22-bdec47f52159",
   "metadata": {},
   "outputs": [],
   "source": [
    "# import readcount data\n",
    "cbm_count = pd.read_csv(dir+\"cbm_readcounts.csv\")\n",
    "cbm_count2 = pd.read_csv(dir+\"cbm_readcounts2.csv\")"
   ]
  },
  {
   "cell_type": "code",
   "execution_count": 9,
   "id": "3392de77-c033-40f7-9d10-2715eef51957",
   "metadata": {},
   "outputs": [
    {
     "data": {
      "text/html": [
       "<div>\n",
       "<style scoped>\n",
       "    .dataframe tbody tr th:only-of-type {\n",
       "        vertical-align: middle;\n",
       "    }\n",
       "\n",
       "    .dataframe tbody tr th {\n",
       "        vertical-align: top;\n",
       "    }\n",
       "\n",
       "    .dataframe thead th {\n",
       "        text-align: right;\n",
       "    }\n",
       "</style>\n",
       "<table border=\"1\" class=\"dataframe\">\n",
       "  <thead>\n",
       "    <tr style=\"text-align: right;\">\n",
       "      <th></th>\n",
       "      <th>Sample Name</th>\n",
       "      <th>Read Counts</th>\n",
       "      <th>rerun</th>\n",
       "    </tr>\n",
       "  </thead>\n",
       "  <tbody>\n",
       "    <tr>\n",
       "      <th>0</th>\n",
       "      <td>CHAGAS_P3A10_BLANK_R1_001</td>\n",
       "      <td>1043027</td>\n",
       "      <td>0</td>\n",
       "    </tr>\n",
       "    <tr>\n",
       "      <th>1</th>\n",
       "      <td>CHAGAS_P3A11_BLANK_R1_001</td>\n",
       "      <td>950737</td>\n",
       "      <td>0</td>\n",
       "    </tr>\n",
       "    <tr>\n",
       "      <th>2</th>\n",
       "      <td>CHAGAS_P3A12_HC001_R1_001</td>\n",
       "      <td>1077714</td>\n",
       "      <td>0</td>\n",
       "    </tr>\n",
       "    <tr>\n",
       "      <th>3</th>\n",
       "      <td>CHAGAS_P3A1_BIO_6275-100uL_R1_001</td>\n",
       "      <td>1266457</td>\n",
       "      <td>0</td>\n",
       "    </tr>\n",
       "    <tr>\n",
       "      <th>4</th>\n",
       "      <td>CHAGAS_P3A2_BIO_6304-100uL_R1_001</td>\n",
       "      <td>1356163</td>\n",
       "      <td>0</td>\n",
       "    </tr>\n",
       "  </tbody>\n",
       "</table>\n",
       "</div>"
      ],
      "text/plain": [
       "                         Sample Name  Read Counts  rerun\n",
       "0          CHAGAS_P3A10_BLANK_R1_001      1043027      0\n",
       "1          CHAGAS_P3A11_BLANK_R1_001       950737      0\n",
       "2          CHAGAS_P3A12_HC001_R1_001      1077714      0\n",
       "3  CHAGAS_P3A1_BIO_6275-100uL_R1_001      1266457      0\n",
       "4  CHAGAS_P3A2_BIO_6304-100uL_R1_001      1356163      0"
      ]
     },
     "execution_count": 9,
     "metadata": {},
     "output_type": "execute_result"
    }
   ],
   "source": [
    "# Label samples as run 1 (0) or rerun (1) to differentiate and then merge dataframes\n",
    "cbm_count2['rerun'] = 1\n",
    "cbm_count['rerun'] = 0\n",
    "cbm_count = pd.concat([cbm_count, cbm_count2])\n",
    "cbm_count.head()"
   ]
  },
  {
   "cell_type": "code",
   "execution_count": 10,
   "id": "a2182cc8-8428-4952-80d0-0d954b8f265a",
   "metadata": {},
   "outputs": [
    {
     "data": {
      "text/plain": [
       "(23, 3)"
      ]
     },
     "execution_count": 10,
     "metadata": {},
     "output_type": "execute_result"
    }
   ],
   "source": [
    "# drop samples with read counts below 4E5 reads (less than 2X coverage)\n",
    "cbm_drop = cbm_count[cbm_count['Read Counts'] < 4e5]\n",
    "cbm_drop.shape"
   ]
  },
  {
   "cell_type": "code",
   "execution_count": 11,
   "id": "daa08ece-7428-4e6e-b491-bbee7c4234b9",
   "metadata": {},
   "outputs": [],
   "source": [
    "# Make list of samples to drop and add -1 or -0 to end of id string to match obs_names in merged adata object\n",
    "cbm_drop = cbm_drop.copy()\n",
    "cbm_drop['rerun'] = cbm_drop['rerun'].apply(str)\n",
    "cbm_drop['id'] = cbm_drop['Sample Name'] + '-' + cbm_drop['rerun'].astype(str)"
   ]
  },
  {
   "cell_type": "code",
   "execution_count": 12,
   "id": "f423535c-75cb-4796-a79e-431fb7ecf16f",
   "metadata": {},
   "outputs": [
    {
     "data": {
      "text/plain": [
       "View of AnnData object with n_obs × n_vars = 284 × 239640\n",
       "    obs: 'sample_type', 'plate', 'well', 'sample_id', 'rerun', 'group', 'age', 'sex', 'heart_dz', 'sero'"
      ]
     },
     "execution_count": 12,
     "metadata": {},
     "output_type": "execute_result"
    }
   ],
   "source": [
    "# Drop these samples from cbm adata object\n",
    "exclude = cbm_drop['id'].tolist()\n",
    "cbm = cbm[~cbm.obs_names.isin(exclude)]\n",
    "cbm"
   ]
  },
  {
   "cell_type": "markdown",
   "id": "71075854-ebe7-469f-9f6b-d50ba0ef763a",
   "metadata": {
    "tags": []
   },
   "source": [
    "# pseudocount rpk values"
   ]
  },
  {
   "cell_type": "code",
   "execution_count": 13,
   "id": "e9a33725-ff8e-4535-afa3-9b108c9e15b0",
   "metadata": {},
   "outputs": [
    {
     "data": {
      "text/plain": [
       "array([[1.       , 1.       , 2.1504974, ..., 1.       , 1.       ,\n",
       "        1.       ],\n",
       "       [1.       , 1.       , 1.       , ..., 1.       , 1.       ,\n",
       "        1.       ],\n",
       "       [1.       , 1.185578 , 1.       , ..., 1.       , 1.       ,\n",
       "        1.       ],\n",
       "       ...,\n",
       "       [1.       , 1.3763283, 1.6021254, ..., 1.       , 1.       ,\n",
       "        1.       ],\n",
       "       [1.       , 1.2308639, 1.9234555, ..., 1.       , 1.       ,\n",
       "        1.       ],\n",
       "       [1.       , 1.       , 2.015925 , ..., 1.       , 1.       ,\n",
       "        1.       ]], dtype=float32)"
      ]
     },
     "execution_count": 13,
     "metadata": {},
     "output_type": "execute_result"
    }
   ],
   "source": [
    "# Pseudocount rpk values to avoid inflation by division\n",
    "for i, ad in enumerate([cbm, bd]):\n",
    "    \n",
    "    ad = ad.copy()\n",
    "    ad.X = ad.X + 1\n",
    "    \n",
    "    if i == 0:\n",
    "        cbm = ad\n",
    "    else:\n",
    "        bd = ad\n",
    "\n",
    "# check pseudocounting - should see array with values 1.0 and greater\n",
    "cbm.X"
   ]
  },
  {
   "cell_type": "markdown",
   "id": "b19cdcc4-3659-491d-800d-e0a80faeec4c",
   "metadata": {
    "tags": []
   },
   "source": [
    "# load p2g data"
   ]
  },
  {
   "cell_type": "code",
   "execution_count": 14,
   "id": "8b1bec0d-c18d-4c21-978d-4417d5d9e3fc",
   "metadata": {
    "tags": []
   },
   "outputs": [
    {
     "data": {
      "text/html": [
       "<div>\n",
       "<style scoped>\n",
       "    .dataframe tbody tr th:only-of-type {\n",
       "        vertical-align: middle;\n",
       "    }\n",
       "\n",
       "    .dataframe tbody tr th {\n",
       "        vertical-align: top;\n",
       "    }\n",
       "\n",
       "    .dataframe thead th {\n",
       "        text-align: right;\n",
       "    }\n",
       "</style>\n",
       "<table border=\"1\" class=\"dataframe\">\n",
       "  <thead>\n",
       "    <tr style=\"text-align: right;\">\n",
       "      <th></th>\n",
       "      <th>nt_seq</th>\n",
       "      <th>refseq_id</th>\n",
       "      <th>uniprot_id</th>\n",
       "      <th>protein</th>\n",
       "      <th>gene</th>\n",
       "      <th>organism</th>\n",
       "      <th>full prot</th>\n",
       "      <th>seq</th>\n",
       "      <th>stage</th>\n",
       "    </tr>\n",
       "    <tr>\n",
       "      <th>peptide</th>\n",
       "      <th></th>\n",
       "      <th></th>\n",
       "      <th></th>\n",
       "      <th></th>\n",
       "      <th></th>\n",
       "      <th></th>\n",
       "      <th></th>\n",
       "      <th></th>\n",
       "      <th></th>\n",
       "    </tr>\n",
       "  </thead>\n",
       "  <tbody>\n",
       "    <tr>\n",
       "      <th>XP_802133.1_cystathionine_beta-synthase_partial_[Trypanosoma_cruzi_strain_CL_Brener]_frag1</th>\n",
       "      <td>AACGGGTGCTTCCATTTACTCCCGTTCCTATTTACCTTGTTGCTTT...</td>\n",
       "      <td>XP_802133.1</td>\n",
       "      <td>Q4CK85_TRYCC</td>\n",
       "      <td>Cystathionine beta-synthase, putative</td>\n",
       "      <td>Tc00.1047053447925.10</td>\n",
       "      <td>Trypanosoma cruzi (strain CL Brener)</td>\n",
       "      <td>NGCFHLLPFLFTLLLLLFVFPIGGEDVQIMAQNPSAVNNKKEVPDR...</td>\n",
       "      <td>NGCFHLLPFLFTLLLLLFVFPIGGEDVQIMAQNPSAVNNKKEVPDRR</td>\n",
       "      <td>NaN</td>\n",
       "    </tr>\n",
       "    <tr>\n",
       "      <th>XP_802133.1_cystathionine_beta-synthase_partial_[Trypanosoma_cruzi_strain_CL_Brener]_frag2</th>\n",
       "      <td>GGTGAGGACGTCCAGATAATGGCGCAAAATCCTTCCGCTGTTAACA...</td>\n",
       "      <td>XP_802133.1</td>\n",
       "      <td>Q4CK85_TRYCC</td>\n",
       "      <td>Cystathionine beta-synthase, putative</td>\n",
       "      <td>Tc00.1047053447925.10</td>\n",
       "      <td>Trypanosoma cruzi (strain CL Brener)</td>\n",
       "      <td>NGCFHLLPFLFTLLLLLFVFPIGGEDVQIMAQNPSAVNNKKEVPDR...</td>\n",
       "      <td>GEDVQIMAQNPSAVNNKKEVPDRRTCILDTVLDAIGSTHCIRLNHVP</td>\n",
       "      <td>NaN</td>\n",
       "    </tr>\n",
       "    <tr>\n",
       "      <th>XP_802134.1_heat_shock_protein_70_(HSP70)_partial_[Trypanosoma_cruzi_strain_CL_Brener]_frag1</th>\n",
       "      <td>GTAGCGTTTACAGAAACGGAGCGGCTGATTGGAGACGGGGCAAAGA...</td>\n",
       "      <td>XP_802134.1</td>\n",
       "      <td>Q4CK86_TRYCC</td>\n",
       "      <td>Heat shock protein 70 (HSP70), putative</td>\n",
       "      <td>Tc00.1047053418069.10</td>\n",
       "      <td>Trypanosoma cruzi (strain CL Brener)</td>\n",
       "      <td>VAFTETERLIGDGAKNQLPQNPHNTIYAIKRLIGRKYSDATVQTDK...</td>\n",
       "      <td>VAFTETERLIGDGAKNQLPQNPHNTIYAIKRLIGRKYSDATVQTDKK</td>\n",
       "      <td>NaN</td>\n",
       "    </tr>\n",
       "    <tr>\n",
       "      <th>XP_802134.1_heat_shock_protein_70_(HSP70)_partial_[Trypanosoma_cruzi_strain_CL_Brener]_frag2</th>\n",
       "      <td>ATAAAACGTTTGATCGGAAGGAAATATTCTGATGCAACAGTCCAGA...</td>\n",
       "      <td>XP_802134.1</td>\n",
       "      <td>Q4CK86_TRYCC</td>\n",
       "      <td>Heat shock protein 70 (HSP70), putative</td>\n",
       "      <td>Tc00.1047053418069.10</td>\n",
       "      <td>Trypanosoma cruzi (strain CL Brener)</td>\n",
       "      <td>VAFTETERLIGDGAKNQLPQNPHNTIYAIKRLIGRKYSDATVQTDK...</td>\n",
       "      <td>IKRLIGRKYSDATVQTDKKLLSYEVVADKDGKPKVQVEVGGKKKQFT</td>\n",
       "      <td>NaN</td>\n",
       "    </tr>\n",
       "    <tr>\n",
       "      <th>XP_802134.1_heat_shock_protein_70_(HSP70)_partial_[Trypanosoma_cruzi_strain_CL_Brener]_frag3</th>\n",
       "      <td>AAAGATGGAAAGCCTAAAGTGCAGGTCGAAGTTGGGGGCAAGAAAA...</td>\n",
       "      <td>XP_802134.1</td>\n",
       "      <td>Q4CK86_TRYCC</td>\n",
       "      <td>Heat shock protein 70 (HSP70), putative</td>\n",
       "      <td>Tc00.1047053418069.10</td>\n",
       "      <td>Trypanosoma cruzi (strain CL Brener)</td>\n",
       "      <td>VAFTETERLIGDGAKNQLPQNPHNTIYAIKRLIGRKYSDATVQTDK...</td>\n",
       "      <td>KDGKPKVQVEVGGKKKQFTPEEVSAMVLQKMKEIAETYLGEKVKNAV</td>\n",
       "      <td>NaN</td>\n",
       "    </tr>\n",
       "  </tbody>\n",
       "</table>\n",
       "</div>"
      ],
      "text/plain": [
       "                                                                                               nt_seq  \\\n",
       "peptide                                                                                                 \n",
       "XP_802133.1_cystathionine_beta-synthase_partial...  AACGGGTGCTTCCATTTACTCCCGTTCCTATTTACCTTGTTGCTTT...   \n",
       "XP_802133.1_cystathionine_beta-synthase_partial...  GGTGAGGACGTCCAGATAATGGCGCAAAATCCTTCCGCTGTTAACA...   \n",
       "XP_802134.1_heat_shock_protein_70_(HSP70)_parti...  GTAGCGTTTACAGAAACGGAGCGGCTGATTGGAGACGGGGCAAAGA...   \n",
       "XP_802134.1_heat_shock_protein_70_(HSP70)_parti...  ATAAAACGTTTGATCGGAAGGAAATATTCTGATGCAACAGTCCAGA...   \n",
       "XP_802134.1_heat_shock_protein_70_(HSP70)_parti...  AAAGATGGAAAGCCTAAAGTGCAGGTCGAAGTTGGGGGCAAGAAAA...   \n",
       "\n",
       "                                                      refseq_id    uniprot_id  \\\n",
       "peptide                                                                         \n",
       "XP_802133.1_cystathionine_beta-synthase_partial...  XP_802133.1  Q4CK85_TRYCC   \n",
       "XP_802133.1_cystathionine_beta-synthase_partial...  XP_802133.1  Q4CK85_TRYCC   \n",
       "XP_802134.1_heat_shock_protein_70_(HSP70)_parti...  XP_802134.1  Q4CK86_TRYCC   \n",
       "XP_802134.1_heat_shock_protein_70_(HSP70)_parti...  XP_802134.1  Q4CK86_TRYCC   \n",
       "XP_802134.1_heat_shock_protein_70_(HSP70)_parti...  XP_802134.1  Q4CK86_TRYCC   \n",
       "\n",
       "                                                                                    protein  \\\n",
       "peptide                                                                                       \n",
       "XP_802133.1_cystathionine_beta-synthase_partial...    Cystathionine beta-synthase, putative   \n",
       "XP_802133.1_cystathionine_beta-synthase_partial...    Cystathionine beta-synthase, putative   \n",
       "XP_802134.1_heat_shock_protein_70_(HSP70)_parti...  Heat shock protein 70 (HSP70), putative   \n",
       "XP_802134.1_heat_shock_protein_70_(HSP70)_parti...  Heat shock protein 70 (HSP70), putative   \n",
       "XP_802134.1_heat_shock_protein_70_(HSP70)_parti...  Heat shock protein 70 (HSP70), putative   \n",
       "\n",
       "                                                                     gene  \\\n",
       "peptide                                                                     \n",
       "XP_802133.1_cystathionine_beta-synthase_partial...  Tc00.1047053447925.10   \n",
       "XP_802133.1_cystathionine_beta-synthase_partial...  Tc00.1047053447925.10   \n",
       "XP_802134.1_heat_shock_protein_70_(HSP70)_parti...  Tc00.1047053418069.10   \n",
       "XP_802134.1_heat_shock_protein_70_(HSP70)_parti...  Tc00.1047053418069.10   \n",
       "XP_802134.1_heat_shock_protein_70_(HSP70)_parti...  Tc00.1047053418069.10   \n",
       "\n",
       "                                                                                organism  \\\n",
       "peptide                                                                                    \n",
       "XP_802133.1_cystathionine_beta-synthase_partial...  Trypanosoma cruzi (strain CL Brener)   \n",
       "XP_802133.1_cystathionine_beta-synthase_partial...  Trypanosoma cruzi (strain CL Brener)   \n",
       "XP_802134.1_heat_shock_protein_70_(HSP70)_parti...  Trypanosoma cruzi (strain CL Brener)   \n",
       "XP_802134.1_heat_shock_protein_70_(HSP70)_parti...  Trypanosoma cruzi (strain CL Brener)   \n",
       "XP_802134.1_heat_shock_protein_70_(HSP70)_parti...  Trypanosoma cruzi (strain CL Brener)   \n",
       "\n",
       "                                                                                            full prot  \\\n",
       "peptide                                                                                                 \n",
       "XP_802133.1_cystathionine_beta-synthase_partial...  NGCFHLLPFLFTLLLLLFVFPIGGEDVQIMAQNPSAVNNKKEVPDR...   \n",
       "XP_802133.1_cystathionine_beta-synthase_partial...  NGCFHLLPFLFTLLLLLFVFPIGGEDVQIMAQNPSAVNNKKEVPDR...   \n",
       "XP_802134.1_heat_shock_protein_70_(HSP70)_parti...  VAFTETERLIGDGAKNQLPQNPHNTIYAIKRLIGRKYSDATVQTDK...   \n",
       "XP_802134.1_heat_shock_protein_70_(HSP70)_parti...  VAFTETERLIGDGAKNQLPQNPHNTIYAIKRLIGRKYSDATVQTDK...   \n",
       "XP_802134.1_heat_shock_protein_70_(HSP70)_parti...  VAFTETERLIGDGAKNQLPQNPHNTIYAIKRLIGRKYSDATVQTDK...   \n",
       "\n",
       "                                                                                                seq  \\\n",
       "peptide                                                                                               \n",
       "XP_802133.1_cystathionine_beta-synthase_partial...  NGCFHLLPFLFTLLLLLFVFPIGGEDVQIMAQNPSAVNNKKEVPDRR   \n",
       "XP_802133.1_cystathionine_beta-synthase_partial...  GEDVQIMAQNPSAVNNKKEVPDRRTCILDTVLDAIGSTHCIRLNHVP   \n",
       "XP_802134.1_heat_shock_protein_70_(HSP70)_parti...  VAFTETERLIGDGAKNQLPQNPHNTIYAIKRLIGRKYSDATVQTDKK   \n",
       "XP_802134.1_heat_shock_protein_70_(HSP70)_parti...  IKRLIGRKYSDATVQTDKKLLSYEVVADKDGKPKVQVEVGGKKKQFT   \n",
       "XP_802134.1_heat_shock_protein_70_(HSP70)_parti...  KDGKPKVQVEVGGKKKQFTPEEVSAMVLQKMKEIAETYLGEKVKNAV   \n",
       "\n",
       "                                                   stage  \n",
       "peptide                                                   \n",
       "XP_802133.1_cystathionine_beta-synthase_partial...   NaN  \n",
       "XP_802133.1_cystathionine_beta-synthase_partial...   NaN  \n",
       "XP_802134.1_heat_shock_protein_70_(HSP70)_parti...   NaN  \n",
       "XP_802134.1_heat_shock_protein_70_(HSP70)_parti...   NaN  \n",
       "XP_802134.1_heat_shock_protein_70_(HSP70)_parti...   NaN  "
      ]
     },
     "execution_count": 14,
     "metadata": {},
     "output_type": "execute_result"
    }
   ],
   "source": [
    "# load peptide-to-gene mapping file\n",
    "pep2gene=pd.read_csv(dir+'p2g_mapping.csv', index_col=0, header=0)\n",
    "pep2gene.head()"
   ]
  },
  {
   "cell_type": "code",
   "execution_count": 15,
   "id": "80f1ef4d-bd46-42ff-af40-a3447f5883ff",
   "metadata": {},
   "outputs": [
    {
     "data": {
      "text/html": [
       "<div>\n",
       "<style scoped>\n",
       "    .dataframe tbody tr th:only-of-type {\n",
       "        vertical-align: middle;\n",
       "    }\n",
       "\n",
       "    .dataframe tbody tr th {\n",
       "        vertical-align: top;\n",
       "    }\n",
       "\n",
       "    .dataframe thead th {\n",
       "        text-align: right;\n",
       "    }\n",
       "</style>\n",
       "<table border=\"1\" class=\"dataframe\">\n",
       "  <thead>\n",
       "    <tr style=\"text-align: right;\">\n",
       "      <th></th>\n",
       "      <th>refseq_id</th>\n",
       "      <th>gene</th>\n",
       "      <th>protein</th>\n",
       "      <th>seq</th>\n",
       "      <th>stage</th>\n",
       "    </tr>\n",
       "    <tr>\n",
       "      <th>peptide</th>\n",
       "      <th></th>\n",
       "      <th></th>\n",
       "      <th></th>\n",
       "      <th></th>\n",
       "      <th></th>\n",
       "    </tr>\n",
       "  </thead>\n",
       "  <tbody>\n",
       "    <tr>\n",
       "      <th>XP_802133.1_cystathionine_beta-synthase_partial_[Trypanosoma_cruzi_strain_CL_Brener]_frag1</th>\n",
       "      <td>XP_802133.1</td>\n",
       "      <td>Tc00.1047053447925.10</td>\n",
       "      <td>Cystathionine beta-synthase, putative</td>\n",
       "      <td>NGCFHLLPFLFTLLLLLFVFPIGGEDVQIMAQNPSAVNNKKEVPDRR</td>\n",
       "      <td>NaN</td>\n",
       "    </tr>\n",
       "    <tr>\n",
       "      <th>XP_802133.1_cystathionine_beta-synthase_partial_[Trypanosoma_cruzi_strain_CL_Brener]_frag2</th>\n",
       "      <td>XP_802133.1</td>\n",
       "      <td>Tc00.1047053447925.10</td>\n",
       "      <td>Cystathionine beta-synthase, putative</td>\n",
       "      <td>GEDVQIMAQNPSAVNNKKEVPDRRTCILDTVLDAIGSTHCIRLNHVP</td>\n",
       "      <td>NaN</td>\n",
       "    </tr>\n",
       "    <tr>\n",
       "      <th>XP_802134.1_heat_shock_protein_70_(HSP70)_partial_[Trypanosoma_cruzi_strain_CL_Brener]_frag1</th>\n",
       "      <td>XP_802134.1</td>\n",
       "      <td>Tc00.1047053418069.10</td>\n",
       "      <td>Heat shock protein 70 (HSP70), putative</td>\n",
       "      <td>VAFTETERLIGDGAKNQLPQNPHNTIYAIKRLIGRKYSDATVQTDKK</td>\n",
       "      <td>NaN</td>\n",
       "    </tr>\n",
       "    <tr>\n",
       "      <th>XP_802134.1_heat_shock_protein_70_(HSP70)_partial_[Trypanosoma_cruzi_strain_CL_Brener]_frag2</th>\n",
       "      <td>XP_802134.1</td>\n",
       "      <td>Tc00.1047053418069.10</td>\n",
       "      <td>Heat shock protein 70 (HSP70), putative</td>\n",
       "      <td>IKRLIGRKYSDATVQTDKKLLSYEVVADKDGKPKVQVEVGGKKKQFT</td>\n",
       "      <td>NaN</td>\n",
       "    </tr>\n",
       "    <tr>\n",
       "      <th>XP_802134.1_heat_shock_protein_70_(HSP70)_partial_[Trypanosoma_cruzi_strain_CL_Brener]_frag3</th>\n",
       "      <td>XP_802134.1</td>\n",
       "      <td>Tc00.1047053418069.10</td>\n",
       "      <td>Heat shock protein 70 (HSP70), putative</td>\n",
       "      <td>KDGKPKVQVEVGGKKKQFTPEEVSAMVLQKMKEIAETYLGEKVKNAV</td>\n",
       "      <td>NaN</td>\n",
       "    </tr>\n",
       "  </tbody>\n",
       "</table>\n",
       "</div>"
      ],
      "text/plain": [
       "                                                      refseq_id  \\\n",
       "peptide                                                           \n",
       "XP_802133.1_cystathionine_beta-synthase_partial...  XP_802133.1   \n",
       "XP_802133.1_cystathionine_beta-synthase_partial...  XP_802133.1   \n",
       "XP_802134.1_heat_shock_protein_70_(HSP70)_parti...  XP_802134.1   \n",
       "XP_802134.1_heat_shock_protein_70_(HSP70)_parti...  XP_802134.1   \n",
       "XP_802134.1_heat_shock_protein_70_(HSP70)_parti...  XP_802134.1   \n",
       "\n",
       "                                                                     gene  \\\n",
       "peptide                                                                     \n",
       "XP_802133.1_cystathionine_beta-synthase_partial...  Tc00.1047053447925.10   \n",
       "XP_802133.1_cystathionine_beta-synthase_partial...  Tc00.1047053447925.10   \n",
       "XP_802134.1_heat_shock_protein_70_(HSP70)_parti...  Tc00.1047053418069.10   \n",
       "XP_802134.1_heat_shock_protein_70_(HSP70)_parti...  Tc00.1047053418069.10   \n",
       "XP_802134.1_heat_shock_protein_70_(HSP70)_parti...  Tc00.1047053418069.10   \n",
       "\n",
       "                                                                                    protein  \\\n",
       "peptide                                                                                       \n",
       "XP_802133.1_cystathionine_beta-synthase_partial...    Cystathionine beta-synthase, putative   \n",
       "XP_802133.1_cystathionine_beta-synthase_partial...    Cystathionine beta-synthase, putative   \n",
       "XP_802134.1_heat_shock_protein_70_(HSP70)_parti...  Heat shock protein 70 (HSP70), putative   \n",
       "XP_802134.1_heat_shock_protein_70_(HSP70)_parti...  Heat shock protein 70 (HSP70), putative   \n",
       "XP_802134.1_heat_shock_protein_70_(HSP70)_parti...  Heat shock protein 70 (HSP70), putative   \n",
       "\n",
       "                                                                                                seq  \\\n",
       "peptide                                                                                               \n",
       "XP_802133.1_cystathionine_beta-synthase_partial...  NGCFHLLPFLFTLLLLLFVFPIGGEDVQIMAQNPSAVNNKKEVPDRR   \n",
       "XP_802133.1_cystathionine_beta-synthase_partial...  GEDVQIMAQNPSAVNNKKEVPDRRTCILDTVLDAIGSTHCIRLNHVP   \n",
       "XP_802134.1_heat_shock_protein_70_(HSP70)_parti...  VAFTETERLIGDGAKNQLPQNPHNTIYAIKRLIGRKYSDATVQTDKK   \n",
       "XP_802134.1_heat_shock_protein_70_(HSP70)_parti...  IKRLIGRKYSDATVQTDKKLLSYEVVADKDGKPKVQVEVGGKKKQFT   \n",
       "XP_802134.1_heat_shock_protein_70_(HSP70)_parti...  KDGKPKVQVEVGGKKKQFTPEEVSAMVLQKMKEIAETYLGEKVKNAV   \n",
       "\n",
       "                                                   stage  \n",
       "peptide                                                   \n",
       "XP_802133.1_cystathionine_beta-synthase_partial...   NaN  \n",
       "XP_802133.1_cystathionine_beta-synthase_partial...   NaN  \n",
       "XP_802134.1_heat_shock_protein_70_(HSP70)_parti...   NaN  \n",
       "XP_802134.1_heat_shock_protein_70_(HSP70)_parti...   NaN  \n",
       "XP_802134.1_heat_shock_protein_70_(HSP70)_parti...   NaN  "
      ]
     },
     "execution_count": 15,
     "metadata": {},
     "output_type": "execute_result"
    }
   ],
   "source": [
    "# add gene mapping information to each anndata object\n",
    "\n",
    "# list of column names to add\n",
    "p2g = ['refseq_id', 'gene', 'protein', 'seq', 'stage']\n",
    "\n",
    "# list of anndata objects\n",
    "adata_list = [cbm, bd]\n",
    "\n",
    "for col in p2g:\n",
    "    \n",
    "    col_to_dict = pep2gene[col].to_dict()\n",
    "    \n",
    "    for ad in adata_list:\n",
    "        ad.var[col] = ad.var.index.map(col_to_dict)\n",
    "\n",
    "# check that gene mapping data has been added appropriately\n",
    "cbm.var.head()"
   ]
  },
  {
   "cell_type": "markdown",
   "id": "a6d7136a-bba1-41a6-b28a-68154f525116",
   "metadata": {
    "tags": []
   },
   "source": [
    "# drop duplicates\n",
    "- The CBM cohort had re-run samples and technical replicates - need to drop\n",
    "- Use 1st run when present\n",
    "- Use sample with higher read counts when duplicates are technical replicates from the same sequencing run"
   ]
  },
  {
   "cell_type": "code",
   "execution_count": 16,
   "id": "52e5136b-201c-4cf5-aeb8-360898d7c075",
   "metadata": {},
   "outputs": [
    {
     "data": {
      "text/plain": [
       "View of AnnData object with n_obs × n_vars = 275 × 239640\n",
       "    obs: 'sample_type', 'plate', 'well', 'sample_id', 'rerun', 'group', 'age', 'sex', 'heart_dz', 'sero'\n",
       "    var: 'refseq_id', 'gene', 'protein', 'seq', 'stage'"
      ]
     },
     "execution_count": 16,
     "metadata": {},
     "output_type": "execute_result"
    }
   ],
   "source": [
    "# identify duplicates in 'sample_id' column\n",
    "duplicates_mask = cbm.obs.duplicated(subset='sample_id', keep=False)\n",
    "\n",
    "# identify duplicates where index ends with '-1' (rerun samples)\n",
    "index_condition = cbm.obs.index.str.endswith('-1')\n",
    "\n",
    "# identify samples to drop (duplicates from a second sequencing run)\n",
    "samples_to_drop = cbm.obs[duplicates_mask & index_condition].index\n",
    "\n",
    "# drop samples\n",
    "cbm = cbm[~cbm.obs.index.isin(samples_to_drop)]\n",
    "cbm"
   ]
  },
  {
   "cell_type": "code",
   "execution_count": 17,
   "id": "83865ff7-b5b4-446b-a660-6cc0a3f681a2",
   "metadata": {},
   "outputs": [
    {
     "data": {
      "text/plain": [
       "array(['BLANK', 'HC001', 'HC002'], dtype=object)"
      ]
     },
     "execution_count": 17,
     "metadata": {},
     "output_type": "execute_result"
    }
   ],
   "source": [
    "# check for additional duplicates\n",
    "cbm.obs['sample_id'][cbm.obs.duplicated(subset='sample_id', keep=False)].unique()"
   ]
  },
  {
   "cell_type": "code",
   "execution_count": 18,
   "id": "afc08656-0bbe-4caf-8ab5-06feaecb07ff",
   "metadata": {},
   "outputs": [
    {
     "data": {
      "text/html": [
       "<div>\n",
       "<style scoped>\n",
       "    .dataframe tbody tr th:only-of-type {\n",
       "        vertical-align: middle;\n",
       "    }\n",
       "\n",
       "    .dataframe tbody tr th {\n",
       "        vertical-align: top;\n",
       "    }\n",
       "\n",
       "    .dataframe thead th {\n",
       "        text-align: right;\n",
       "    }\n",
       "</style>\n",
       "<table border=\"1\" class=\"dataframe\">\n",
       "  <thead>\n",
       "    <tr style=\"text-align: right;\">\n",
       "      <th></th>\n",
       "      <th>Sample Name</th>\n",
       "      <th>Read Counts</th>\n",
       "      <th>rerun</th>\n",
       "    </tr>\n",
       "  </thead>\n",
       "  <tbody>\n",
       "    <tr>\n",
       "      <th>2</th>\n",
       "      <td>CHAGAS_P3A12_HC001_R1_001</td>\n",
       "      <td>1077714</td>\n",
       "      <td>0</td>\n",
       "    </tr>\n",
       "    <tr>\n",
       "      <th>98</th>\n",
       "      <td>CHAGAS_P4A12_HC002_R1_001</td>\n",
       "      <td>1011604</td>\n",
       "      <td>0</td>\n",
       "    </tr>\n",
       "    <tr>\n",
       "      <th>195</th>\n",
       "      <td>CHAGAS_P5A1_HC001_R1_001</td>\n",
       "      <td>1241833</td>\n",
       "      <td>0</td>\n",
       "    </tr>\n",
       "    <tr>\n",
       "      <th>196</th>\n",
       "      <td>CHAGAS_P5A2_HC002_R1_001</td>\n",
       "      <td>1306482</td>\n",
       "      <td>0</td>\n",
       "    </tr>\n",
       "  </tbody>\n",
       "</table>\n",
       "</div>"
      ],
      "text/plain": [
       "                   Sample Name  Read Counts  rerun\n",
       "2    CHAGAS_P3A12_HC001_R1_001      1077714      0\n",
       "98   CHAGAS_P4A12_HC002_R1_001      1011604      0\n",
       "195   CHAGAS_P5A1_HC001_R1_001      1241833      0\n",
       "196   CHAGAS_P5A2_HC002_R1_001      1306482      0"
      ]
     },
     "execution_count": 18,
     "metadata": {},
     "output_type": "execute_result"
    }
   ],
   "source": [
    "# HC001 and HC002 were run twice for plate batch qc, but for downstream analysis we only need one of each - check read counts and then drop one\n",
    "sample_id_to_keep = ['CHAGAS_P3A12_HC001_R1_001',\n",
    "                     'CHAGAS_P5A1_HC001_R1_001',\n",
    "                     'CHAGAS_P4A12_HC002_R1_001',\n",
    "                     'CHAGAS_P5A2_HC002_R1_001']\n",
    "\n",
    "# check read counts to drop replicates with lower read counts\n",
    "hc_count= cbm_count[cbm_count['Sample Name'].isin(sample_id_to_keep)].copy()\n",
    "hc_count"
   ]
  },
  {
   "cell_type": "code",
   "execution_count": 19,
   "id": "f344177b-b70f-4587-a738-d1bd61a1614d",
   "metadata": {},
   "outputs": [
    {
     "data": {
      "text/plain": [
       "View of AnnData object with n_obs × n_vars = 273 × 239640\n",
       "    obs: 'sample_type', 'plate', 'well', 'sample_id', 'rerun', 'group', 'age', 'sex', 'heart_dz', 'sero'\n",
       "    var: 'refseq_id', 'gene', 'protein', 'seq', 'stage'"
      ]
     },
     "execution_count": 19,
     "metadata": {},
     "output_type": "execute_result"
    }
   ],
   "source": [
    "# the samples run on Plate 5 have higher read counts, so use these\n",
    "ids_to_drop = ['CHAGAS_P3A12_HC001_R1_001-0',\n",
    "               'CHAGAS_P4A12_HC002_R1_001-0',]\n",
    "\n",
    "# filter out the lower read count ids\n",
    "cbm = cbm[~cbm.obs_names.isin(ids_to_drop)]\n",
    "cbm"
   ]
  },
  {
   "cell_type": "code",
   "execution_count": 20,
   "id": "890758d2-b32d-4d40-b26f-e27513ab0f26",
   "metadata": {},
   "outputs": [
    {
     "name": "stdout",
     "output_type": "stream",
     "text": [
      "Duplicated samples: ['BLANK']\n"
     ]
    }
   ],
   "source": [
    "# check one last time that there are no duplicates - there should only be \"BLANK\" wells duplicated\n",
    "print(\"Duplicated samples:\", cbm.obs['sample_id'][cbm.obs.duplicated(subset='sample_id', keep=False)].unique())"
   ]
  },
  {
   "cell_type": "markdown",
   "id": "ce5c9a2b-c15c-4692-af46-c0d459cc4d5e",
   "metadata": {
    "tags": []
   },
   "source": [
    "# remove AG beads"
   ]
  },
  {
   "cell_type": "code",
   "execution_count": 21,
   "id": "1c332f03-5d61-4093-8da3-f6bc9924bb58",
   "metadata": {},
   "outputs": [
    {
     "data": {
      "text/plain": [
       "View of AnnData object with n_obs × n_vars = 230 × 239640\n",
       "    obs: 'sample_type', 'plate', 'well', 'sample_id', 'rerun', 'group', 'age', 'sex', 'heart_dz', 'sero'\n",
       "    var: 'refseq_id', 'gene', 'protein', 'seq', 'stage'\n",
       "    uns: 'control_ids'\n",
       "    varm: 'X_control'"
      ]
     },
     "execution_count": 21,
     "metadata": {},
     "output_type": "execute_result"
    }
   ],
   "source": [
    "# Drop AG beads control wells from adata object\n",
    "# BD cohort was not run with AG beads, so only need to apply to CBM set\n",
    "cbm=cbm.copy()\n",
    "cbm=pp.define_ctrl_set_locs(cbm, obs_key='group', obs_value='AG_bead')\n",
    "cbm=pp.define_ctrl_set(cbm)\n",
    "cbm"
   ]
  },
  {
   "cell_type": "markdown",
   "id": "7a0359e1-b5db-4663-a0e4-7537acc23250",
   "metadata": {
    "tags": []
   },
   "source": [
    "# rpk filter - remove peptides with no reads across all samples"
   ]
  },
  {
   "cell_type": "code",
   "execution_count": 22,
   "id": "4261567b-c2b3-4bdb-9f89-ba243785ce94",
   "metadata": {},
   "outputs": [
    {
     "data": {
      "text/html": [
       "<div>\n",
       "<style scoped>\n",
       "    .dataframe tbody tr th:only-of-type {\n",
       "        vertical-align: middle;\n",
       "    }\n",
       "\n",
       "    .dataframe tbody tr th {\n",
       "        vertical-align: top;\n",
       "    }\n",
       "\n",
       "    .dataframe thead th {\n",
       "        text-align: right;\n",
       "    }\n",
       "</style>\n",
       "<table border=\"1\" class=\"dataframe\">\n",
       "  <thead>\n",
       "    <tr style=\"text-align: right;\">\n",
       "      <th></th>\n",
       "      <th>sum_rpk_per_pep</th>\n",
       "    </tr>\n",
       "    <tr>\n",
       "      <th>peptide</th>\n",
       "      <th></th>\n",
       "    </tr>\n",
       "  </thead>\n",
       "  <tbody>\n",
       "    <tr>\n",
       "      <th>XP_802133.1_cystathionine_beta-synthase_partial_[Trypanosoma_cruzi_strain_CL_Brener]_frag1</th>\n",
       "      <td>233.502060</td>\n",
       "    </tr>\n",
       "    <tr>\n",
       "      <th>XP_802133.1_cystathionine_beta-synthase_partial_[Trypanosoma_cruzi_strain_CL_Brener]_frag2</th>\n",
       "      <td>268.226166</td>\n",
       "    </tr>\n",
       "    <tr>\n",
       "      <th>XP_802134.1_heat_shock_protein_70_(HSP70)_partial_[Trypanosoma_cruzi_strain_CL_Brener]_frag1</th>\n",
       "      <td>581.212952</td>\n",
       "    </tr>\n",
       "    <tr>\n",
       "      <th>XP_802134.1_heat_shock_protein_70_(HSP70)_partial_[Trypanosoma_cruzi_strain_CL_Brener]_frag2</th>\n",
       "      <td>361.277466</td>\n",
       "    </tr>\n",
       "    <tr>\n",
       "      <th>XP_802134.1_heat_shock_protein_70_(HSP70)_partial_[Trypanosoma_cruzi_strain_CL_Brener]_frag3</th>\n",
       "      <td>402.800751</td>\n",
       "    </tr>\n",
       "  </tbody>\n",
       "</table>\n",
       "</div>"
      ],
      "text/plain": [
       "                                                    sum_rpk_per_pep\n",
       "peptide                                                            \n",
       "XP_802133.1_cystathionine_beta-synthase_partial...       233.502060\n",
       "XP_802133.1_cystathionine_beta-synthase_partial...       268.226166\n",
       "XP_802134.1_heat_shock_protein_70_(HSP70)_parti...       581.212952\n",
       "XP_802134.1_heat_shock_protein_70_(HSP70)_parti...       361.277466\n",
       "XP_802134.1_heat_shock_protein_70_(HSP70)_parti...       402.800751"
      ]
     },
     "execution_count": 22,
     "metadata": {},
     "output_type": "execute_result"
    }
   ],
   "source": [
    "# define list of adata objects and an empty dictionary to store results\n",
    "adata_list = {'cbm': cbm, 'bd': bd}\n",
    "peptide_dataframes = {}\n",
    "\n",
    "# loop through each adata object and sum rpk across peptides\n",
    "for name, xdata in adata_list.items():\n",
    "    \n",
    "    df_peptides = pd.DataFrame(\n",
    "        data=np.sum(xdata.X, axis=0),\n",
    "        index=xdata.var_names,\n",
    "        columns=['sum_rpk_per_pep']\n",
    "    )\n",
    "    \n",
    "    # store the sum data in the dictionary with a key based on the adata name\n",
    "    peptide_dataframes[name] = df_peptides\n",
    "\n",
    "# Check that this looks right\n",
    "peptide_dataframes['cbm'].head()"
   ]
  },
  {
   "cell_type": "code",
   "execution_count": 23,
   "id": "7661d477-5a4e-4aa0-933e-09a98982a911",
   "metadata": {},
   "outputs": [
    {
     "data": {
      "text/plain": [
       "239640"
      ]
     },
     "execution_count": 23,
     "metadata": {},
     "output_type": "execute_result"
    }
   ],
   "source": [
    "# Check that all peptides are accounted for (should be 239640 - the library includes additional non-T. cruzi peptides that will be dropped later)\n",
    "len(peptide_dataframes['cbm'].index)"
   ]
  },
  {
   "cell_type": "code",
   "execution_count": 24,
   "id": "f31773ad-aa9f-4b32-95dc-2e7a35e420ad",
   "metadata": {},
   "outputs": [
    {
     "data": {
      "text/plain": [
       "239640"
      ]
     },
     "execution_count": 24,
     "metadata": {},
     "output_type": "execute_result"
    }
   ],
   "source": [
    "len(peptide_dataframes['bd'].index)"
   ]
  },
  {
   "cell_type": "code",
   "execution_count": 25,
   "id": "fefc3dc4-9306-4a9c-8c1e-b8223a0af727",
   "metadata": {},
   "outputs": [
    {
     "data": {
      "text/plain": [
       "(228251, 228366)"
      ]
     },
     "execution_count": 25,
     "metadata": {},
     "output_type": "execute_result"
    }
   ],
   "source": [
    "# figure out how many peptides are left after filtering for 0-rpk peptides (sum of rpk = total peptide count)\n",
    "\n",
    "filtered_peptides = {}\n",
    "\n",
    "for name, df in peptide_dataframes.items():\n",
    "    rpk_filt = len(adata_list[name].obs)\n",
    "    filtered_peptides[name] = df[df['sum_rpk_per_pep'] > rpk_filt].index\n",
    "\n",
    "len(filtered_peptides['cbm']), len(filtered_peptides['bd'])"
   ]
  },
  {
   "cell_type": "code",
   "execution_count": 26,
   "id": "7291f407-fd6b-482c-9621-6471ea9292e3",
   "metadata": {},
   "outputs": [],
   "source": [
    "cbm = cbm.copy()\n",
    "cbm.uns['control_ids']=cbm.uns['control_ids'].tolist()"
   ]
  },
  {
   "cell_type": "code",
   "execution_count": 27,
   "id": "ffde4512-91e7-4dfe-a4d4-682e487f3240",
   "metadata": {},
   "outputs": [
    {
     "data": {
      "text/plain": [
       "((230, 228251), (92, 228366))"
      ]
     },
     "execution_count": 27,
     "metadata": {},
     "output_type": "execute_result"
    }
   ],
   "source": [
    "# filter out no-read peptides from adata objects\n",
    "cbm=cbm[:,cbm.var_names.isin(filtered_peptides['cbm'])]\n",
    "bd=bd[:,bd.var_names.isin(filtered_peptides['bd'])]\n",
    "cbm.shape, bd.shape"
   ]
  },
  {
   "cell_type": "markdown",
   "id": "6952d74d-faa4-4e65-8efb-a0ac0f8f9e17",
   "metadata": {
    "tags": []
   },
   "source": [
    "# z-score over healthy background"
   ]
  },
  {
   "cell_type": "code",
   "execution_count": 28,
   "id": "30640359-bcd9-408e-90fe-ce6fb508ff54",
   "metadata": {},
   "outputs": [],
   "source": [
    "def z_score_loo(ad, control_key, control_value, layer_name=\"z_score\"):\n",
    "    \"\"\"\n",
    "    Z-scores each sample in an AnnData object relative to control samples.\n",
    "    Control samples are z-scored by leaving themselves out from the mean and std dev calculations,\n",
    "    while non-control samples are z-scored relative to all controls.\n",
    "    \n",
    "    Parameters\n",
    "    ----------\n",
    "    ad : anndata.AnnData\n",
    "        The AnnData object to perform z-scoring on.\n",
    "    control_key : str\n",
    "        Column in `ad.obs` specifying sample groups (e.g., \"Group\").\n",
    "    control_value : str\n",
    "        The value in `control_key` that indicates a control sample (e.g., \"control\").\n",
    "    layer_name : str, optional\n",
    "        The name of the layer where the z-scored data will be stored.\n",
    "    \n",
    "    Returns\n",
    "    -------\n",
    "    None\n",
    "        The function modifies the AnnData object in place, adding a layer with the z-scored values.\n",
    "    \"\"\"\n",
    "    # identify control and non-control indices\n",
    "    control_mask = ad.obs[control_key] == control_value\n",
    "    non_control_mask = ~control_mask\n",
    "    \n",
    "    # initialize an array to store the z-scored data\n",
    "    z_scores = np.empty(ad.X.shape)\n",
    "    \n",
    "    # calculate mean and std dev for all controls (used for non-control samples)\n",
    "    all_control_data = ad.X[control_mask]\n",
    "    control_mean = np.mean(all_control_data, axis=0)\n",
    "    control_std = np.std(all_control_data, axis=0)\n",
    "    \n",
    "    # z-score non-control samples using mean and std dev of all controls\n",
    "    z_scores[non_control_mask] = (ad.X[non_control_mask] - control_mean) / control_std\n",
    "    \n",
    "    # z-score control samples with leave-one-out approach\n",
    "    for i, control_index in enumerate(np.where(control_mask)[0]):\n",
    "        leave_one_out_data = np.delete(all_control_data, i, axis=0)\n",
    "        leave_one_out_mean = np.mean(leave_one_out_data, axis=0)\n",
    "        leave_one_out_std = np.std(leave_one_out_data, axis=0)\n",
    "        z_scores[control_index] = (ad.X[control_index] - leave_one_out_mean) / leave_one_out_std\n",
    "    \n",
    "    # save the z-scores in a new layer\n",
    "    ad.layers[layer_name] = z_scores\n",
    "    \n",
    "    return None "
   ]
  },
  {
   "cell_type": "code",
   "execution_count": 29,
   "id": "04a9605f-196a-486c-8382-2ea7b38396ce",
   "metadata": {},
   "outputs": [
    {
     "name": "stderr",
     "output_type": "stream",
     "text": [
      "/tmp/ipykernel_230017/1987765812.py:36: RuntimeWarning: divide by zero encountered in divide\n",
      "  z_scores[non_control_mask] = (ad.X[non_control_mask] - control_mean) / control_std\n",
      "/tmp/ipykernel_230017/1987765812.py:36: RuntimeWarning: invalid value encountered in divide\n",
      "  z_scores[non_control_mask] = (ad.X[non_control_mask] - control_mean) / control_std\n",
      "/tmp/ipykernel_230017/1987765812.py:43: RuntimeWarning: divide by zero encountered in divide\n",
      "  z_scores[control_index] = (ad.X[control_index] - leave_one_out_mean) / leave_one_out_std\n",
      "/tmp/ipykernel_230017/1987765812.py:43: RuntimeWarning: invalid value encountered in divide\n",
      "  z_scores[control_index] = (ad.X[control_index] - leave_one_out_mean) / leave_one_out_std\n",
      "/tmp/ipykernel_230017/1987765812.py:46: ImplicitModificationWarning: Setting element `.layers['z_score']` of view, initializing view as actual.\n",
      "  ad.layers[layer_name] = z_scores\n"
     ]
    }
   ],
   "source": [
    "# z-score, expecting to get warnings for divide by zero (some peptides have reads in cases but not in controls)\n",
    "# have checked - these are very low signal peptides\n",
    "z_score_loo(cbm, 'sero', 'seronegative')\n",
    "z_score_loo(bd, 'sero', 'seronegative')"
   ]
  },
  {
   "cell_type": "code",
   "execution_count": 30,
   "id": "9749e4bb-ac39-4a14-9462-f27b30a6b7e1",
   "metadata": {},
   "outputs": [],
   "source": [
    "def filter_infinite_vars(ad, layer_name):\n",
    "    \"\"\"\n",
    "    Filter out variables with infinity values in the 'z_rpk' layer from the AnnData object.\n",
    "    Make sure to check that these are not high rpk peptides in the disease group\n",
    "\n",
    "    Parameters\n",
    "    ----------\n",
    "    adata : anndata.AnnData\n",
    "        The AnnData object to filter.\n",
    "\n",
    "    Returns\n",
    "    -------\n",
    "    anndata.AnnData\n",
    "        A new AnnData object with variables without infinite values in the 'z_rpk' layer.\n",
    "    \"\"\"\n",
    "    # identify variables with infinity values in the specified layer\n",
    "    inf_mask = np.isinf(ad.layers[layer_name]).any(axis=0)\n",
    "    var_indices_to_keep = ~inf_mask\n",
    "    \n",
    "    # subset the adata object to keep only the variables that do not contain inf\n",
    "    adata_filtered = ad[:, var_indices_to_keep].copy()\n",
    "    \n",
    "    return adata_filtered"
   ]
  },
  {
   "cell_type": "code",
   "execution_count": 31,
   "id": "4ab4f7c6-6194-499c-a38f-dd8084f7d509",
   "metadata": {},
   "outputs": [],
   "source": [
    "cbm = filter_infinite_vars(cbm, 'z_score')\n",
    "bd = filter_infinite_vars(bd, 'z_score')"
   ]
  },
  {
   "cell_type": "code",
   "execution_count": 32,
   "id": "4dd0dcec-20bd-4024-9de6-e1b9350bfca4",
   "metadata": {},
   "outputs": [
    {
     "data": {
      "text/plain": [
       "AnnData object with n_obs × n_vars = 230 × 227356\n",
       "    obs: 'sample_type', 'plate', 'well', 'sample_id', 'rerun', 'group', 'age', 'sex', 'heart_dz', 'sero'\n",
       "    var: 'refseq_id', 'gene', 'protein', 'seq', 'stage'\n",
       "    uns: 'control_ids'\n",
       "    varm: 'X_control'\n",
       "    layers: 'z_score'"
      ]
     },
     "execution_count": 32,
     "metadata": {},
     "output_type": "execute_result"
    }
   ],
   "source": [
    "cbm"
   ]
  },
  {
   "cell_type": "code",
   "execution_count": 33,
   "id": "441f9bb8-f18a-46c2-85d4-8503dfeeadca",
   "metadata": {},
   "outputs": [
    {
     "data": {
      "text/plain": [
       "AnnData object with n_obs × n_vars = 92 × 227018\n",
       "    obs: 'plate_well', 'BirthReg', 'birth_country', 'sero', 'group', 'region'\n",
       "    var: 'refseq_id', 'gene', 'protein', 'seq', 'stage'\n",
       "    layers: 'z_score'"
      ]
     },
     "execution_count": 33,
     "metadata": {},
     "output_type": "execute_result"
    }
   ],
   "source": [
    "bd"
   ]
  },
  {
   "cell_type": "markdown",
   "id": "9d215d72-a8b0-4ef6-bcb4-5abf29bbffe3",
   "metadata": {},
   "source": [
    "# SFig 3 - Moving threshold analysis to determine z-score cutoff for hit calling"
   ]
  },
  {
   "cell_type": "markdown",
   "id": "8f1a51dc-9ba5-470c-8b67-bbb8ff640476",
   "metadata": {},
   "source": [
    "## CBM"
   ]
  },
  {
   "cell_type": "code",
   "execution_count": 34,
   "id": "5b4b3a8a-fcf9-48a5-8518-6b18981c06e9",
   "metadata": {},
   "outputs": [
    {
     "data": {
      "text/html": [
       "<div>\n",
       "<style scoped>\n",
       "    .dataframe tbody tr th:only-of-type {\n",
       "        vertical-align: middle;\n",
       "    }\n",
       "\n",
       "    .dataframe tbody tr th {\n",
       "        vertical-align: top;\n",
       "    }\n",
       "\n",
       "    .dataframe thead th {\n",
       "        text-align: right;\n",
       "    }\n",
       "</style>\n",
       "<table border=\"1\" class=\"dataframe\">\n",
       "  <thead>\n",
       "    <tr style=\"text-align: right;\">\n",
       "      <th></th>\n",
       "      <th>CHAGAS_P3A1_BIO_6275-100uL_R1_001-0</th>\n",
       "      <th>CHAGAS_P3A2_BIO_6304-100uL_R1_001-0</th>\n",
       "      <th>CHAGAS_P3A3_BIO_6333-100uL_R1_001-0</th>\n",
       "      <th>CHAGAS_P3A4_BIO_6200-500ul_R1_001-0</th>\n",
       "      <th>CHAGAS_P3A5_BIO_6286-100ul_R1_001-0</th>\n",
       "      <th>CHAGAS_P3A6_BIO_6307-100ul_R1_001-0</th>\n",
       "      <th>CHAGAS_P3A7_BIO_6350-100ul_R1_001-0</th>\n",
       "      <th>CHAGAS_P3A8_BIO_6247-500ul_R1_001-0</th>\n",
       "      <th>CHAGAS_P3A9_BIO_6105-200ul_R1_001-0</th>\n",
       "      <th>CHAGAS_P3B1_BIO_6277-100uL_R1_001-0</th>\n",
       "      <th>...</th>\n",
       "      <th>CHAGAS_P5H12_GFAP_5_R1_001-0</th>\n",
       "      <th>CHAGAS_P5H1_HC085_R1_001-0</th>\n",
       "      <th>CHAGAS_P5H2_HC086_R1_001-0</th>\n",
       "      <th>CHAGAS_P5H3_HC087_R1_001-0</th>\n",
       "      <th>CHAGAS_P5H4_HC088_R1_001-0</th>\n",
       "      <th>CHAGAS_P5H5_HC089_R1_001-0</th>\n",
       "      <th>CHAGAS_P5H6_HC090_R1_001-0</th>\n",
       "      <th>CHAGAS_P5H7_HC091_R1_001-0</th>\n",
       "      <th>CHAGAS_P5H8_HC092_R1_001-0</th>\n",
       "      <th>CHAGAS_P5H9_HC093_R1_001-0</th>\n",
       "    </tr>\n",
       "    <tr>\n",
       "      <th>peptide</th>\n",
       "      <th></th>\n",
       "      <th></th>\n",
       "      <th></th>\n",
       "      <th></th>\n",
       "      <th></th>\n",
       "      <th></th>\n",
       "      <th></th>\n",
       "      <th></th>\n",
       "      <th></th>\n",
       "      <th></th>\n",
       "      <th></th>\n",
       "      <th></th>\n",
       "      <th></th>\n",
       "      <th></th>\n",
       "      <th></th>\n",
       "      <th></th>\n",
       "      <th></th>\n",
       "      <th></th>\n",
       "      <th></th>\n",
       "      <th></th>\n",
       "      <th></th>\n",
       "    </tr>\n",
       "  </thead>\n",
       "  <tbody>\n",
       "    <tr>\n",
       "      <th>XP_802133.1_cystathionine_beta-synthase_partial_[Trypanosoma_cruzi_strain_CL_Brener]_frag1</th>\n",
       "      <td>-0.152610</td>\n",
       "      <td>-0.152610</td>\n",
       "      <td>-0.152610</td>\n",
       "      <td>0.539198</td>\n",
       "      <td>0.566712</td>\n",
       "      <td>0.549349</td>\n",
       "      <td>-0.152610</td>\n",
       "      <td>-0.152610</td>\n",
       "      <td>-0.153300</td>\n",
       "      <td>-0.152610</td>\n",
       "      <td>...</td>\n",
       "      <td>-0.152610</td>\n",
       "      <td>-0.153300</td>\n",
       "      <td>-0.153300</td>\n",
       "      <td>0.561471</td>\n",
       "      <td>-0.153300</td>\n",
       "      <td>-0.153300</td>\n",
       "      <td>-0.153300</td>\n",
       "      <td>-0.153300</td>\n",
       "      <td>-0.153300</td>\n",
       "      <td>-0.153300</td>\n",
       "    </tr>\n",
       "    <tr>\n",
       "      <th>XP_802133.1_cystathionine_beta-synthase_partial_[Trypanosoma_cruzi_strain_CL_Brener]_frag2</th>\n",
       "      <td>0.018347</td>\n",
       "      <td>-0.282933</td>\n",
       "      <td>-0.142088</td>\n",
       "      <td>-0.282933</td>\n",
       "      <td>-0.282933</td>\n",
       "      <td>-0.134274</td>\n",
       "      <td>-0.282933</td>\n",
       "      <td>-0.282933</td>\n",
       "      <td>-0.110190</td>\n",
       "      <td>0.484504</td>\n",
       "      <td>...</td>\n",
       "      <td>-0.282933</td>\n",
       "      <td>0.409404</td>\n",
       "      <td>-0.284283</td>\n",
       "      <td>0.320782</td>\n",
       "      <td>32.051140</td>\n",
       "      <td>-0.146124</td>\n",
       "      <td>0.316974</td>\n",
       "      <td>-0.284283</td>\n",
       "      <td>-0.125260</td>\n",
       "      <td>-0.284283</td>\n",
       "    </tr>\n",
       "    <tr>\n",
       "      <th>XP_802134.1_heat_shock_protein_70_(HSP70)_partial_[Trypanosoma_cruzi_strain_CL_Brener]_frag1</th>\n",
       "      <td>0.024331</td>\n",
       "      <td>0.188643</td>\n",
       "      <td>-0.124589</td>\n",
       "      <td>0.071060</td>\n",
       "      <td>-0.000801</td>\n",
       "      <td>-0.227727</td>\n",
       "      <td>-0.172247</td>\n",
       "      <td>-0.255325</td>\n",
       "      <td>-0.256526</td>\n",
       "      <td>-0.112854</td>\n",
       "      <td>...</td>\n",
       "      <td>0.196641</td>\n",
       "      <td>-0.050525</td>\n",
       "      <td>0.050847</td>\n",
       "      <td>-0.088033</td>\n",
       "      <td>-0.073574</td>\n",
       "      <td>-0.256526</td>\n",
       "      <td>-0.172793</td>\n",
       "      <td>-0.196334</td>\n",
       "      <td>-0.079427</td>\n",
       "      <td>-0.256526</td>\n",
       "    </tr>\n",
       "    <tr>\n",
       "      <th>XP_802134.1_heat_shock_protein_70_(HSP70)_partial_[Trypanosoma_cruzi_strain_CL_Brener]_frag2</th>\n",
       "      <td>0.016406</td>\n",
       "      <td>-0.109940</td>\n",
       "      <td>-0.318345</td>\n",
       "      <td>0.766896</td>\n",
       "      <td>-0.318345</td>\n",
       "      <td>-0.318345</td>\n",
       "      <td>0.123636</td>\n",
       "      <td>-0.318345</td>\n",
       "      <td>-0.319894</td>\n",
       "      <td>-0.204652</td>\n",
       "      <td>...</td>\n",
       "      <td>-0.318345</td>\n",
       "      <td>-0.011627</td>\n",
       "      <td>-0.217618</td>\n",
       "      <td>-0.319894</td>\n",
       "      <td>-0.319894</td>\n",
       "      <td>-0.217521</td>\n",
       "      <td>-0.319894</td>\n",
       "      <td>-0.199782</td>\n",
       "      <td>-0.319894</td>\n",
       "      <td>4.030686</td>\n",
       "    </tr>\n",
       "    <tr>\n",
       "      <th>XP_802134.1_heat_shock_protein_70_(HSP70)_partial_[Trypanosoma_cruzi_strain_CL_Brener]_frag3</th>\n",
       "      <td>-0.078997</td>\n",
       "      <td>-0.092248</td>\n",
       "      <td>-0.216892</td>\n",
       "      <td>-0.052017</td>\n",
       "      <td>0.058316</td>\n",
       "      <td>0.313761</td>\n",
       "      <td>0.084362</td>\n",
       "      <td>0.025142</td>\n",
       "      <td>-0.203467</td>\n",
       "      <td>-0.279327</td>\n",
       "      <td>...</td>\n",
       "      <td>0.091653</td>\n",
       "      <td>-0.280657</td>\n",
       "      <td>-0.280657</td>\n",
       "      <td>-0.045966</td>\n",
       "      <td>0.093744</td>\n",
       "      <td>-0.219401</td>\n",
       "      <td>19.920525</td>\n",
       "      <td>-0.065116</td>\n",
       "      <td>-0.210149</td>\n",
       "      <td>-0.280657</td>\n",
       "    </tr>\n",
       "  </tbody>\n",
       "</table>\n",
       "<p>5 rows × 230 columns</p>\n",
       "</div>"
      ],
      "text/plain": [
       "                                                    CHAGAS_P3A1_BIO_6275-100uL_R1_001-0  \\\n",
       "peptide                                                                                   \n",
       "XP_802133.1_cystathionine_beta-synthase_partial...                            -0.152610   \n",
       "XP_802133.1_cystathionine_beta-synthase_partial...                             0.018347   \n",
       "XP_802134.1_heat_shock_protein_70_(HSP70)_parti...                             0.024331   \n",
       "XP_802134.1_heat_shock_protein_70_(HSP70)_parti...                             0.016406   \n",
       "XP_802134.1_heat_shock_protein_70_(HSP70)_parti...                            -0.078997   \n",
       "\n",
       "                                                    CHAGAS_P3A2_BIO_6304-100uL_R1_001-0  \\\n",
       "peptide                                                                                   \n",
       "XP_802133.1_cystathionine_beta-synthase_partial...                            -0.152610   \n",
       "XP_802133.1_cystathionine_beta-synthase_partial...                            -0.282933   \n",
       "XP_802134.1_heat_shock_protein_70_(HSP70)_parti...                             0.188643   \n",
       "XP_802134.1_heat_shock_protein_70_(HSP70)_parti...                            -0.109940   \n",
       "XP_802134.1_heat_shock_protein_70_(HSP70)_parti...                            -0.092248   \n",
       "\n",
       "                                                    CHAGAS_P3A3_BIO_6333-100uL_R1_001-0  \\\n",
       "peptide                                                                                   \n",
       "XP_802133.1_cystathionine_beta-synthase_partial...                            -0.152610   \n",
       "XP_802133.1_cystathionine_beta-synthase_partial...                            -0.142088   \n",
       "XP_802134.1_heat_shock_protein_70_(HSP70)_parti...                            -0.124589   \n",
       "XP_802134.1_heat_shock_protein_70_(HSP70)_parti...                            -0.318345   \n",
       "XP_802134.1_heat_shock_protein_70_(HSP70)_parti...                            -0.216892   \n",
       "\n",
       "                                                    CHAGAS_P3A4_BIO_6200-500ul_R1_001-0  \\\n",
       "peptide                                                                                   \n",
       "XP_802133.1_cystathionine_beta-synthase_partial...                             0.539198   \n",
       "XP_802133.1_cystathionine_beta-synthase_partial...                            -0.282933   \n",
       "XP_802134.1_heat_shock_protein_70_(HSP70)_parti...                             0.071060   \n",
       "XP_802134.1_heat_shock_protein_70_(HSP70)_parti...                             0.766896   \n",
       "XP_802134.1_heat_shock_protein_70_(HSP70)_parti...                            -0.052017   \n",
       "\n",
       "                                                    CHAGAS_P3A5_BIO_6286-100ul_R1_001-0  \\\n",
       "peptide                                                                                   \n",
       "XP_802133.1_cystathionine_beta-synthase_partial...                             0.566712   \n",
       "XP_802133.1_cystathionine_beta-synthase_partial...                            -0.282933   \n",
       "XP_802134.1_heat_shock_protein_70_(HSP70)_parti...                            -0.000801   \n",
       "XP_802134.1_heat_shock_protein_70_(HSP70)_parti...                            -0.318345   \n",
       "XP_802134.1_heat_shock_protein_70_(HSP70)_parti...                             0.058316   \n",
       "\n",
       "                                                    CHAGAS_P3A6_BIO_6307-100ul_R1_001-0  \\\n",
       "peptide                                                                                   \n",
       "XP_802133.1_cystathionine_beta-synthase_partial...                             0.549349   \n",
       "XP_802133.1_cystathionine_beta-synthase_partial...                            -0.134274   \n",
       "XP_802134.1_heat_shock_protein_70_(HSP70)_parti...                            -0.227727   \n",
       "XP_802134.1_heat_shock_protein_70_(HSP70)_parti...                            -0.318345   \n",
       "XP_802134.1_heat_shock_protein_70_(HSP70)_parti...                             0.313761   \n",
       "\n",
       "                                                    CHAGAS_P3A7_BIO_6350-100ul_R1_001-0  \\\n",
       "peptide                                                                                   \n",
       "XP_802133.1_cystathionine_beta-synthase_partial...                            -0.152610   \n",
       "XP_802133.1_cystathionine_beta-synthase_partial...                            -0.282933   \n",
       "XP_802134.1_heat_shock_protein_70_(HSP70)_parti...                            -0.172247   \n",
       "XP_802134.1_heat_shock_protein_70_(HSP70)_parti...                             0.123636   \n",
       "XP_802134.1_heat_shock_protein_70_(HSP70)_parti...                             0.084362   \n",
       "\n",
       "                                                    CHAGAS_P3A8_BIO_6247-500ul_R1_001-0  \\\n",
       "peptide                                                                                   \n",
       "XP_802133.1_cystathionine_beta-synthase_partial...                            -0.152610   \n",
       "XP_802133.1_cystathionine_beta-synthase_partial...                            -0.282933   \n",
       "XP_802134.1_heat_shock_protein_70_(HSP70)_parti...                            -0.255325   \n",
       "XP_802134.1_heat_shock_protein_70_(HSP70)_parti...                            -0.318345   \n",
       "XP_802134.1_heat_shock_protein_70_(HSP70)_parti...                             0.025142   \n",
       "\n",
       "                                                    CHAGAS_P3A9_BIO_6105-200ul_R1_001-0  \\\n",
       "peptide                                                                                   \n",
       "XP_802133.1_cystathionine_beta-synthase_partial...                            -0.153300   \n",
       "XP_802133.1_cystathionine_beta-synthase_partial...                            -0.110190   \n",
       "XP_802134.1_heat_shock_protein_70_(HSP70)_parti...                            -0.256526   \n",
       "XP_802134.1_heat_shock_protein_70_(HSP70)_parti...                            -0.319894   \n",
       "XP_802134.1_heat_shock_protein_70_(HSP70)_parti...                            -0.203467   \n",
       "\n",
       "                                                    CHAGAS_P3B1_BIO_6277-100uL_R1_001-0  \\\n",
       "peptide                                                                                   \n",
       "XP_802133.1_cystathionine_beta-synthase_partial...                            -0.152610   \n",
       "XP_802133.1_cystathionine_beta-synthase_partial...                             0.484504   \n",
       "XP_802134.1_heat_shock_protein_70_(HSP70)_parti...                            -0.112854   \n",
       "XP_802134.1_heat_shock_protein_70_(HSP70)_parti...                            -0.204652   \n",
       "XP_802134.1_heat_shock_protein_70_(HSP70)_parti...                            -0.279327   \n",
       "\n",
       "                                                    ...  \\\n",
       "peptide                                             ...   \n",
       "XP_802133.1_cystathionine_beta-synthase_partial...  ...   \n",
       "XP_802133.1_cystathionine_beta-synthase_partial...  ...   \n",
       "XP_802134.1_heat_shock_protein_70_(HSP70)_parti...  ...   \n",
       "XP_802134.1_heat_shock_protein_70_(HSP70)_parti...  ...   \n",
       "XP_802134.1_heat_shock_protein_70_(HSP70)_parti...  ...   \n",
       "\n",
       "                                                    CHAGAS_P5H12_GFAP_5_R1_001-0  \\\n",
       "peptide                                                                            \n",
       "XP_802133.1_cystathionine_beta-synthase_partial...                     -0.152610   \n",
       "XP_802133.1_cystathionine_beta-synthase_partial...                     -0.282933   \n",
       "XP_802134.1_heat_shock_protein_70_(HSP70)_parti...                      0.196641   \n",
       "XP_802134.1_heat_shock_protein_70_(HSP70)_parti...                     -0.318345   \n",
       "XP_802134.1_heat_shock_protein_70_(HSP70)_parti...                      0.091653   \n",
       "\n",
       "                                                    CHAGAS_P5H1_HC085_R1_001-0  \\\n",
       "peptide                                                                          \n",
       "XP_802133.1_cystathionine_beta-synthase_partial...                   -0.153300   \n",
       "XP_802133.1_cystathionine_beta-synthase_partial...                    0.409404   \n",
       "XP_802134.1_heat_shock_protein_70_(HSP70)_parti...                   -0.050525   \n",
       "XP_802134.1_heat_shock_protein_70_(HSP70)_parti...                   -0.011627   \n",
       "XP_802134.1_heat_shock_protein_70_(HSP70)_parti...                   -0.280657   \n",
       "\n",
       "                                                    CHAGAS_P5H2_HC086_R1_001-0  \\\n",
       "peptide                                                                          \n",
       "XP_802133.1_cystathionine_beta-synthase_partial...                   -0.153300   \n",
       "XP_802133.1_cystathionine_beta-synthase_partial...                   -0.284283   \n",
       "XP_802134.1_heat_shock_protein_70_(HSP70)_parti...                    0.050847   \n",
       "XP_802134.1_heat_shock_protein_70_(HSP70)_parti...                   -0.217618   \n",
       "XP_802134.1_heat_shock_protein_70_(HSP70)_parti...                   -0.280657   \n",
       "\n",
       "                                                    CHAGAS_P5H3_HC087_R1_001-0  \\\n",
       "peptide                                                                          \n",
       "XP_802133.1_cystathionine_beta-synthase_partial...                    0.561471   \n",
       "XP_802133.1_cystathionine_beta-synthase_partial...                    0.320782   \n",
       "XP_802134.1_heat_shock_protein_70_(HSP70)_parti...                   -0.088033   \n",
       "XP_802134.1_heat_shock_protein_70_(HSP70)_parti...                   -0.319894   \n",
       "XP_802134.1_heat_shock_protein_70_(HSP70)_parti...                   -0.045966   \n",
       "\n",
       "                                                    CHAGAS_P5H4_HC088_R1_001-0  \\\n",
       "peptide                                                                          \n",
       "XP_802133.1_cystathionine_beta-synthase_partial...                   -0.153300   \n",
       "XP_802133.1_cystathionine_beta-synthase_partial...                   32.051140   \n",
       "XP_802134.1_heat_shock_protein_70_(HSP70)_parti...                   -0.073574   \n",
       "XP_802134.1_heat_shock_protein_70_(HSP70)_parti...                   -0.319894   \n",
       "XP_802134.1_heat_shock_protein_70_(HSP70)_parti...                    0.093744   \n",
       "\n",
       "                                                    CHAGAS_P5H5_HC089_R1_001-0  \\\n",
       "peptide                                                                          \n",
       "XP_802133.1_cystathionine_beta-synthase_partial...                   -0.153300   \n",
       "XP_802133.1_cystathionine_beta-synthase_partial...                   -0.146124   \n",
       "XP_802134.1_heat_shock_protein_70_(HSP70)_parti...                   -0.256526   \n",
       "XP_802134.1_heat_shock_protein_70_(HSP70)_parti...                   -0.217521   \n",
       "XP_802134.1_heat_shock_protein_70_(HSP70)_parti...                   -0.219401   \n",
       "\n",
       "                                                    CHAGAS_P5H6_HC090_R1_001-0  \\\n",
       "peptide                                                                          \n",
       "XP_802133.1_cystathionine_beta-synthase_partial...                   -0.153300   \n",
       "XP_802133.1_cystathionine_beta-synthase_partial...                    0.316974   \n",
       "XP_802134.1_heat_shock_protein_70_(HSP70)_parti...                   -0.172793   \n",
       "XP_802134.1_heat_shock_protein_70_(HSP70)_parti...                   -0.319894   \n",
       "XP_802134.1_heat_shock_protein_70_(HSP70)_parti...                   19.920525   \n",
       "\n",
       "                                                    CHAGAS_P5H7_HC091_R1_001-0  \\\n",
       "peptide                                                                          \n",
       "XP_802133.1_cystathionine_beta-synthase_partial...                   -0.153300   \n",
       "XP_802133.1_cystathionine_beta-synthase_partial...                   -0.284283   \n",
       "XP_802134.1_heat_shock_protein_70_(HSP70)_parti...                   -0.196334   \n",
       "XP_802134.1_heat_shock_protein_70_(HSP70)_parti...                   -0.199782   \n",
       "XP_802134.1_heat_shock_protein_70_(HSP70)_parti...                   -0.065116   \n",
       "\n",
       "                                                    CHAGAS_P5H8_HC092_R1_001-0  \\\n",
       "peptide                                                                          \n",
       "XP_802133.1_cystathionine_beta-synthase_partial...                   -0.153300   \n",
       "XP_802133.1_cystathionine_beta-synthase_partial...                   -0.125260   \n",
       "XP_802134.1_heat_shock_protein_70_(HSP70)_parti...                   -0.079427   \n",
       "XP_802134.1_heat_shock_protein_70_(HSP70)_parti...                   -0.319894   \n",
       "XP_802134.1_heat_shock_protein_70_(HSP70)_parti...                   -0.210149   \n",
       "\n",
       "                                                    CHAGAS_P5H9_HC093_R1_001-0  \n",
       "peptide                                                                         \n",
       "XP_802133.1_cystathionine_beta-synthase_partial...                   -0.153300  \n",
       "XP_802133.1_cystathionine_beta-synthase_partial...                   -0.284283  \n",
       "XP_802134.1_heat_shock_protein_70_(HSP70)_parti...                   -0.256526  \n",
       "XP_802134.1_heat_shock_protein_70_(HSP70)_parti...                    4.030686  \n",
       "XP_802134.1_heat_shock_protein_70_(HSP70)_parti...                   -0.280657  \n",
       "\n",
       "[5 rows x 230 columns]"
      ]
     },
     "execution_count": 34,
     "metadata": {},
     "output_type": "execute_result"
    }
   ],
   "source": [
    "# extract df with pt ids and z-scores\n",
    "z_score_cbm = pd.DataFrame(data=cbm.layers['z_score'], columns=cbm.var_names, index=cbm.obs_names).T\n",
    "## check that sample names are column names \n",
    "z_score_cbm.head()"
   ]
  },
  {
   "cell_type": "code",
   "execution_count": 35,
   "id": "fa9ba8e2-2b03-4c7a-84d5-e61017549d45",
   "metadata": {},
   "outputs": [
    {
     "data": {
      "text/plain": [
       "114"
      ]
     },
     "execution_count": 35,
     "metadata": {},
     "output_type": "execute_result"
    }
   ],
   "source": [
    "# extract seronegative samples\n",
    "seroneg_cbm = []\n",
    "for name in z_score_cbm.columns:\n",
    "    if  name in cbm[cbm.obs['sero']=='seronegative'].obs.index:\n",
    "        seroneg_cbm.append(name)\n",
    "\n",
    "# extract seropositive samples\n",
    "seropos_cbm = []\n",
    "for name in z_score_cbm.columns:\n",
    "    if  name in cbm[cbm.obs['sero']=='seropositive'].obs.index:\n",
    "        seropos_cbm.append(name)\n",
    "        \n",
    "len(seroneg_cbm) # should be 114"
   ]
  },
  {
   "cell_type": "code",
   "execution_count": 36,
   "id": "1973e529-a7e0-4de9-8c73-f57657e53039",
   "metadata": {},
   "outputs": [
    {
     "data": {
      "text/plain": [
       "114"
      ]
     },
     "execution_count": 36,
     "metadata": {},
     "output_type": "execute_result"
    }
   ],
   "source": [
    "len(seropos_cbm) # should be 114"
   ]
  },
  {
   "cell_type": "code",
   "execution_count": 37,
   "id": "cc5e0bae-f329-4f0b-bd2b-afd41bdaa1b2",
   "metadata": {},
   "outputs": [],
   "source": [
    "threshold_hit_healthy_cmin1 = pd.DataFrame(columns=(z_score_cbm.filter(seroneg_cbm)).columns)\n",
    "threshold_hit_patient_cmin1 = pd.DataFrame(columns=(z_score_cbm.filter(seropos_cbm)).columns) \n",
    "\n",
    "threshold_hit_healthy_cmin5 = pd.DataFrame(columns=(z_score_cbm.filter(seroneg_cbm)).columns)\n",
    "threshold_hit_patient_cmin5 = pd.DataFrame(columns=(z_score_cbm.filter(seropos_cbm)).columns)\n",
    "\n",
    "threshold_hit_healthy_cmin8 = pd.DataFrame(columns=(z_score_cbm.filter(seroneg_cbm)).columns)\n",
    "threshold_hit_patient_cmin8 = pd.DataFrame(columns=(z_score_cbm.filter(seropos_cbm)).columns)"
   ]
  },
  {
   "cell_type": "code",
   "execution_count": 38,
   "id": "fbdeb07e-7622-48f7-9cd5-72e286c64976",
   "metadata": {},
   "outputs": [
    {
     "name": "stdout",
     "output_type": "stream",
     "text": [
      "1\n",
      "2\n",
      "3\n",
      "4\n",
      "5\n",
      "6\n",
      "7\n",
      "8\n",
      "9\n",
      "10\n",
      "11\n"
     ]
    }
   ],
   "source": [
    "# i sets a threshold for z-score-based hit calling; temp then re-numbers peptides as 0 or 1 based on whether or not they are hits\n",
    "for i in range (1,12):\n",
    "    print (i) \n",
    "    temp = z_score_cbm\n",
    "    temp = temp.where(temp>=i, 0, inplace= False) ## those below threshold become zero\n",
    "    temp.where(temp<i, 1, inplace= True) ## those above threshold become one\n",
    "   \n",
    "    temp_healthy = temp.filter(seroneg_cbm) ##collect the Healthy samples \n",
    "    temp_Patient = temp.filter(seropos_cbm)\n",
    "    \n",
    "    healthyhitsum = temp_healthy.sum(axis=1, numeric_only = True) ## get the total number of hits for each sample\n",
    "    patienthitsum = temp_Patient.sum(axis=1, numeric_only = True)\n",
    " \n",
    "    healthyhitperc = temp_healthy.sum(axis=1, numeric_only = True)/len(seroneg_cbm) ## get the percent of samples for which that pept is a hit\n",
    "    patienthitperc = temp_Patient.sum(axis=1, numeric_only = True)/len(seropos_cbm)\n",
    "    \n",
    "    hit = pd.concat([healthyhitsum,patienthitsum],axis=1)\n",
    "    hit.columns = ['healthy_R3','patient_R3']\n",
    "\n",
    "    perc = pd.concat([healthyhitperc,patienthitperc],axis=1)\n",
    "    perc.columns = ['healthy_R3','patient_R3']\n",
    "\n",
    "    patient_1 = hit[(hit.patient_R3>0)] # gives all peptides that are a hit for at least one patient\n",
    "    patient_5 = perc[(perc.patient_R3>=.05)] # gives all peptides that are a hit for at least 5% of patients\n",
    "    patient_8 = perc[(perc.patient_R3>=.1)] # gives all peptides that are a hit for at least 10% of patients\n",
    "    \n",
    "    healthy_1 = hit[(hit.healthy_R3>0)]\n",
    "    healthy_5 = perc[(perc.healthy_R3>=.05)]\n",
    "    healthy_8 = perc[(perc.healthy_R3>=.1)]\n",
    "\n",
    "    final_hit_cmin1_pat = temp_Patient.loc[patient_1.index] # subsets df of hits and sample ids for only those peptides that met above sharing thresholds\n",
    "    final_hit_cmin5_pat = temp_Patient.loc[patient_5.index]\n",
    "    final_hit_cmin8_pat = temp_Patient.loc[patient_8.index]\n",
    "    \n",
    "    final_hit_cmin1_heal = temp_healthy.loc[healthy_1.index]\n",
    "    final_hit_cmin5_heal = temp_healthy.loc[healthy_5.index]\n",
    "    final_hit_cmin8_heal = temp_healthy.loc[healthy_8.index]\n",
    "\n",
    "    # count hits for each patient for each sharing threshold\n",
    "    hit_sum_cmin1_healthy = final_hit_cmin1_heal.sum(axis=0, numeric_only = True) ##get the total of the remaining rows for each column \n",
    "    hit_sum_cmin1_patient = final_hit_cmin1_pat.sum(axis=0, numeric_only = True)\n",
    "\n",
    "    hit_sum_cmin5_healthy = final_hit_cmin5_heal.sum(axis=0, numeric_only = True)\n",
    "    hit_sum_cmin5_patient = final_hit_cmin5_pat.sum(axis=0, numeric_only = True)\n",
    "\n",
    "    hit_sum_cmin8_healthy = final_hit_cmin8_heal.sum(axis=0, numeric_only = True)\n",
    "    hit_sum_cmin8_patient = final_hit_cmin8_pat.sum(axis=0, numeric_only = True)\n",
    "\n",
    "    threshold_hit_healthy_cmin1.loc[i] = hit_sum_cmin1_healthy\n",
    "    threshold_hit_patient_cmin1.loc[i] = hit_sum_cmin1_patient\n",
    "    \n",
    "    threshold_hit_healthy_cmin5.loc[i] = hit_sum_cmin5_healthy\n",
    "    threshold_hit_patient_cmin5.loc[i] = hit_sum_cmin5_patient\n",
    "    \n",
    "    threshold_hit_healthy_cmin8.loc[i] = hit_sum_cmin8_healthy\n",
    "    threshold_hit_patient_cmin8.loc[i] = hit_sum_cmin8_patient"
   ]
  },
  {
   "cell_type": "code",
   "execution_count": 39,
   "id": "22913bbd-9c90-4e15-86c8-edc657b75ccb",
   "metadata": {},
   "outputs": [
    {
     "data": {
      "image/png": "[encoded data removed]",
      "text/plain": [
       "<Figure size 3000x1000 with 3 Axes>"
      ]
     },
     "metadata": {},
     "output_type": "display_data"
    }
   ],
   "source": [
    "fig, (ax1,ax2,ax3) = plt.subplots(ncols=3,figsize=(30,10))\n",
    "plt.subplots_adjust(left=None, bottom=None, right=None, top=None, wspace=0.5, hspace=None)\n",
    "\n",
    "\n",
    "sns.boxplot(data = threshold_hit_healthy_cmin1.T,showfliers=False,color = 'darkblue',boxprops=dict(facecolor=(0,0,0,0), edgecolor='darkblue'),ax=ax1)\n",
    "sns.boxplot(data = threshold_hit_patient_cmin1.T,showfliers=False,color = 'darkred',boxprops=dict(facecolor=(0,0,0,0), edgecolor='darkred'),ax=ax1)\n",
    "ax1.grid(False)\n",
    "ax1.set_yscale('log')\n",
    "ax1.set_ylim(1,50000)\n",
    "ax1.set_xlabel('z-score threshold to call seroreactivity',size=20,labelpad=15)\n",
    "ax1.set_ylabel('Number of seroreactive peptides/sample',size=20,labelpad = 10)\n",
    "ax1.tick_params(axis = 'both', which = 'major', labelsize = 15)\n",
    "ax1.set_facecolor('xkcd:white')\n",
    "ax1.set_title('specificity min = 1',size=25)\n",
    "\n",
    "\n",
    "sns.boxplot(data = threshold_hit_healthy_cmin5.T,showfliers=False,color = 'darkblue',boxprops=dict(facecolor=(0,0,0,0), edgecolor='darkblue'),ax=ax2)\n",
    "sns.boxplot(data = threshold_hit_patient_cmin5.T,showfliers=False,color = 'darkred',boxprops=dict(facecolor=(0,0,0,0), edgecolor='darkred'),ax=ax2)\n",
    "ax2.set_yscale('log')\n",
    "ax2.set_ylim(1,50000)\n",
    "ax2.grid(False)\n",
    "ax2.set_xlabel('z-score threshold to call seroreactivity',size=20,labelpad=15)\n",
    "ax2.set_ylabel('Number of seroreactive peptides/sample',size=20,labelpad = 10)\n",
    "ax2.tick_params(axis = 'both', which = 'major', labelsize = 15)\n",
    "ax2.set_facecolor('xkcd:white')\n",
    "\n",
    "ax2.set_title('specificity min = 5%',size=25)\n",
    "\n",
    "\n",
    "sns.boxplot(data = threshold_hit_healthy_cmin8.T,showfliers=False,color = 'darkblue',boxprops=dict(facecolor=(0,0,0,0), edgecolor='darkblue'),ax=ax3)\n",
    "sns.boxplot(data = threshold_hit_patient_cmin8.T,showfliers=False,color = 'darkred',boxprops=dict(facecolor=(0,0,0,0), edgecolor='darkred'),ax=ax3)\n",
    "ax3.set_yscale('log')\n",
    "ax3.set_ylim(1,50000)\n",
    "ax3.grid(False)\n",
    "ax3.set_xlabel('z-score threshold to call seroreactivity',size=20,labelpad=15)\n",
    "ax3.set_ylabel('Number of seroreactive peptides/sample',size=20,labelpad = 10)\n",
    "ax3.tick_params(axis = 'both', which = 'major', labelsize = 15)\n",
    "ax3.set_facecolor('xkcd:white')\n",
    "ax3.set_title('specificity min = 10%',size=25)\n",
    "\n",
    "\n",
    "seroneg_patch = Patch(color='blue', label='Seronegative')\n",
    "seropos_patch = Patch(color='darkred', label='Seropositive')\n",
    "plt.legend(handles=[seroneg_patch, seropos_patch], prop={'size': 20})\n",
    "plt.savefig(fig_dir+'sfig_3b.pdf',dpi=800,bbox_inches='tight')\n",
    "plt.show()"
   ]
  },
  {
   "cell_type": "markdown",
   "id": "7413f20f-e1b8-445f-affd-2da35cff8713",
   "metadata": {},
   "source": [
    "## ARC"
   ]
  },
  {
   "cell_type": "code",
   "execution_count": 40,
   "id": "24ee6856-5153-4f22-a84f-cf98197a45b1",
   "metadata": {},
   "outputs": [
    {
     "data": {
      "text/html": [
       "<div>\n",
       "<style scoped>\n",
       "    .dataframe tbody tr th:only-of-type {\n",
       "        vertical-align: middle;\n",
       "    }\n",
       "\n",
       "    .dataframe tbody tr th {\n",
       "        vertical-align: top;\n",
       "    }\n",
       "\n",
       "    .dataframe thead th {\n",
       "        text-align: right;\n",
       "    }\n",
       "</style>\n",
       "<table border=\"1\" class=\"dataframe\">\n",
       "  <thead>\n",
       "    <tr style=\"text-align: right;\">\n",
       "      <th></th>\n",
       "      <th>tclib_A10_S1196_R1_001</th>\n",
       "      <th>tclib_A11_S1197_R1_001</th>\n",
       "      <th>tclib_A12_S1198_R1_001</th>\n",
       "      <th>tclib_A7_S1193_R1_001</th>\n",
       "      <th>tclib_A8_S1194_R1_001</th>\n",
       "      <th>tclib_A9_S1195_R1_001</th>\n",
       "      <th>tclib_B10_S1208_R1_001</th>\n",
       "      <th>tclib_B11_S1209_R1_001</th>\n",
       "      <th>tclib_B12_S1210_R1_001</th>\n",
       "      <th>tclib_B1_S1199_R1_001</th>\n",
       "      <th>...</th>\n",
       "      <th>tclib_H1_S1271_R1_001</th>\n",
       "      <th>tclib_H2_S1272_R1_001</th>\n",
       "      <th>tclib_H3_S1273_R1_001</th>\n",
       "      <th>tclib_H4_S1274_R1_001</th>\n",
       "      <th>tclib_H5_S1275_R1_001</th>\n",
       "      <th>tclib_H6_S1276_R1_001</th>\n",
       "      <th>tclib_H7_S1277_R1_001</th>\n",
       "      <th>tclib_H8_S1278_R1_001</th>\n",
       "      <th>tclib_H9_S1279_R1_001</th>\n",
       "      <th>tclib_library_S1192_R1_001</th>\n",
       "    </tr>\n",
       "    <tr>\n",
       "      <th>peptide</th>\n",
       "      <th></th>\n",
       "      <th></th>\n",
       "      <th></th>\n",
       "      <th></th>\n",
       "      <th></th>\n",
       "      <th></th>\n",
       "      <th></th>\n",
       "      <th></th>\n",
       "      <th></th>\n",
       "      <th></th>\n",
       "      <th></th>\n",
       "      <th></th>\n",
       "      <th></th>\n",
       "      <th></th>\n",
       "      <th></th>\n",
       "      <th></th>\n",
       "      <th></th>\n",
       "      <th></th>\n",
       "      <th></th>\n",
       "      <th></th>\n",
       "      <th></th>\n",
       "    </tr>\n",
       "  </thead>\n",
       "  <tbody>\n",
       "    <tr>\n",
       "      <th>XP_802133.1_cystathionine_beta-synthase_partial_[Trypanosoma_cruzi_strain_CL_Brener]_frag1</th>\n",
       "      <td>-0.264764</td>\n",
       "      <td>-0.482225</td>\n",
       "      <td>-0.470760</td>\n",
       "      <td>-0.470760</td>\n",
       "      <td>-0.482225</td>\n",
       "      <td>-0.470760</td>\n",
       "      <td>-0.482225</td>\n",
       "      <td>-0.470760</td>\n",
       "      <td>-0.470760</td>\n",
       "      <td>-0.482225</td>\n",
       "      <td>...</td>\n",
       "      <td>-0.470760</td>\n",
       "      <td>-0.470760</td>\n",
       "      <td>-0.470760</td>\n",
       "      <td>-0.470760</td>\n",
       "      <td>-0.470760</td>\n",
       "      <td>-0.470760</td>\n",
       "      <td>-0.470760</td>\n",
       "      <td>-0.470760</td>\n",
       "      <td>-0.482225</td>\n",
       "      <td>0.341480</td>\n",
       "    </tr>\n",
       "    <tr>\n",
       "      <th>XP_802133.1_cystathionine_beta-synthase_partial_[Trypanosoma_cruzi_strain_CL_Brener]_frag2</th>\n",
       "      <td>0.677770</td>\n",
       "      <td>0.024887</td>\n",
       "      <td>-0.774112</td>\n",
       "      <td>0.519843</td>\n",
       "      <td>-0.139165</td>\n",
       "      <td>-0.774112</td>\n",
       "      <td>-0.299459</td>\n",
       "      <td>-0.609466</td>\n",
       "      <td>-0.613563</td>\n",
       "      <td>0.350317</td>\n",
       "      <td>...</td>\n",
       "      <td>2.281814</td>\n",
       "      <td>-0.774112</td>\n",
       "      <td>-0.774112</td>\n",
       "      <td>0.224582</td>\n",
       "      <td>-0.774112</td>\n",
       "      <td>3.424873</td>\n",
       "      <td>-0.612419</td>\n",
       "      <td>1.246578</td>\n",
       "      <td>-0.463864</td>\n",
       "      <td>0.052798</td>\n",
       "    </tr>\n",
       "    <tr>\n",
       "      <th>XP_802134.1_heat_shock_protein_70_(HSP70)_partial_[Trypanosoma_cruzi_strain_CL_Brener]_frag1</th>\n",
       "      <td>-0.951792</td>\n",
       "      <td>0.158054</td>\n",
       "      <td>-0.564286</td>\n",
       "      <td>-0.578177</td>\n",
       "      <td>1.753534</td>\n",
       "      <td>1.661998</td>\n",
       "      <td>0.932942</td>\n",
       "      <td>0.379319</td>\n",
       "      <td>-0.951792</td>\n",
       "      <td>-0.598895</td>\n",
       "      <td>...</td>\n",
       "      <td>1.277345</td>\n",
       "      <td>-0.573649</td>\n",
       "      <td>0.789722</td>\n",
       "      <td>0.009416</td>\n",
       "      <td>-0.759145</td>\n",
       "      <td>0.018138</td>\n",
       "      <td>-0.391548</td>\n",
       "      <td>-0.368340</td>\n",
       "      <td>-0.988721</td>\n",
       "      <td>0.664441</td>\n",
       "    </tr>\n",
       "    <tr>\n",
       "      <th>XP_802134.1_heat_shock_protein_70_(HSP70)_partial_[Trypanosoma_cruzi_strain_CL_Brener]_frag2</th>\n",
       "      <td>-0.350473</td>\n",
       "      <td>2.380463</td>\n",
       "      <td>7.815283</td>\n",
       "      <td>-0.706779</td>\n",
       "      <td>-0.002588</td>\n",
       "      <td>-0.349743</td>\n",
       "      <td>2.912925</td>\n",
       "      <td>-0.706779</td>\n",
       "      <td>2.130039</td>\n",
       "      <td>0.723869</td>\n",
       "      <td>...</td>\n",
       "      <td>1.069429</td>\n",
       "      <td>-0.706779</td>\n",
       "      <td>5.583964</td>\n",
       "      <td>-0.706779</td>\n",
       "      <td>0.030042</td>\n",
       "      <td>1.519042</td>\n",
       "      <td>-0.706779</td>\n",
       "      <td>-0.706779</td>\n",
       "      <td>-0.728087</td>\n",
       "      <td>0.557644</td>\n",
       "    </tr>\n",
       "    <tr>\n",
       "      <th>XP_802134.1_heat_shock_protein_70_(HSP70)_partial_[Trypanosoma_cruzi_strain_CL_Brener]_frag3</th>\n",
       "      <td>-0.567887</td>\n",
       "      <td>2.610793</td>\n",
       "      <td>-0.708828</td>\n",
       "      <td>-0.245144</td>\n",
       "      <td>0.710892</td>\n",
       "      <td>-0.406141</td>\n",
       "      <td>0.556010</td>\n",
       "      <td>-0.227867</td>\n",
       "      <td>1.341163</td>\n",
       "      <td>0.879839</td>\n",
       "      <td>...</td>\n",
       "      <td>-0.410170</td>\n",
       "      <td>0.091476</td>\n",
       "      <td>-1.042039</td>\n",
       "      <td>0.608866</td>\n",
       "      <td>1.605989</td>\n",
       "      <td>-1.208321</td>\n",
       "      <td>-1.047843</td>\n",
       "      <td>-0.706943</td>\n",
       "      <td>0.725128</td>\n",
       "      <td>0.117424</td>\n",
       "    </tr>\n",
       "  </tbody>\n",
       "</table>\n",
       "<p>5 rows × 92 columns</p>\n",
       "</div>"
      ],
      "text/plain": [
       "                                                    tclib_A10_S1196_R1_001  \\\n",
       "peptide                                                                      \n",
       "XP_802133.1_cystathionine_beta-synthase_partial...               -0.264764   \n",
       "XP_802133.1_cystathionine_beta-synthase_partial...                0.677770   \n",
       "XP_802134.1_heat_shock_protein_70_(HSP70)_parti...               -0.951792   \n",
       "XP_802134.1_heat_shock_protein_70_(HSP70)_parti...               -0.350473   \n",
       "XP_802134.1_heat_shock_protein_70_(HSP70)_parti...               -0.567887   \n",
       "\n",
       "                                                    tclib_A11_S1197_R1_001  \\\n",
       "peptide                                                                      \n",
       "XP_802133.1_cystathionine_beta-synthase_partial...               -0.482225   \n",
       "XP_802133.1_cystathionine_beta-synthase_partial...                0.024887   \n",
       "XP_802134.1_heat_shock_protein_70_(HSP70)_parti...                0.158054   \n",
       "XP_802134.1_heat_shock_protein_70_(HSP70)_parti...                2.380463   \n",
       "XP_802134.1_heat_shock_protein_70_(HSP70)_parti...                2.610793   \n",
       "\n",
       "                                                    tclib_A12_S1198_R1_001  \\\n",
       "peptide                                                                      \n",
       "XP_802133.1_cystathionine_beta-synthase_partial...               -0.470760   \n",
       "XP_802133.1_cystathionine_beta-synthase_partial...               -0.774112   \n",
       "XP_802134.1_heat_shock_protein_70_(HSP70)_parti...               -0.564286   \n",
       "XP_802134.1_heat_shock_protein_70_(HSP70)_parti...                7.815283   \n",
       "XP_802134.1_heat_shock_protein_70_(HSP70)_parti...               -0.708828   \n",
       "\n",
       "                                                    tclib_A7_S1193_R1_001  \\\n",
       "peptide                                                                     \n",
       "XP_802133.1_cystathionine_beta-synthase_partial...              -0.470760   \n",
       "XP_802133.1_cystathionine_beta-synthase_partial...               0.519843   \n",
       "XP_802134.1_heat_shock_protein_70_(HSP70)_parti...              -0.578177   \n",
       "XP_802134.1_heat_shock_protein_70_(HSP70)_parti...              -0.706779   \n",
       "XP_802134.1_heat_shock_protein_70_(HSP70)_parti...              -0.245144   \n",
       "\n",
       "                                                    tclib_A8_S1194_R1_001  \\\n",
       "peptide                                                                     \n",
       "XP_802133.1_cystathionine_beta-synthase_partial...              -0.482225   \n",
       "XP_802133.1_cystathionine_beta-synthase_partial...              -0.139165   \n",
       "XP_802134.1_heat_shock_protein_70_(HSP70)_parti...               1.753534   \n",
       "XP_802134.1_heat_shock_protein_70_(HSP70)_parti...              -0.002588   \n",
       "XP_802134.1_heat_shock_protein_70_(HSP70)_parti...               0.710892   \n",
       "\n",
       "                                                    tclib_A9_S1195_R1_001  \\\n",
       "peptide                                                                     \n",
       "XP_802133.1_cystathionine_beta-synthase_partial...              -0.470760   \n",
       "XP_802133.1_cystathionine_beta-synthase_partial...              -0.774112   \n",
       "XP_802134.1_heat_shock_protein_70_(HSP70)_parti...               1.661998   \n",
       "XP_802134.1_heat_shock_protein_70_(HSP70)_parti...              -0.349743   \n",
       "XP_802134.1_heat_shock_protein_70_(HSP70)_parti...              -0.406141   \n",
       "\n",
       "                                                    tclib_B10_S1208_R1_001  \\\n",
       "peptide                                                                      \n",
       "XP_802133.1_cystathionine_beta-synthase_partial...               -0.482225   \n",
       "XP_802133.1_cystathionine_beta-synthase_partial...               -0.299459   \n",
       "XP_802134.1_heat_shock_protein_70_(HSP70)_parti...                0.932942   \n",
       "XP_802134.1_heat_shock_protein_70_(HSP70)_parti...                2.912925   \n",
       "XP_802134.1_heat_shock_protein_70_(HSP70)_parti...                0.556010   \n",
       "\n",
       "                                                    tclib_B11_S1209_R1_001  \\\n",
       "peptide                                                                      \n",
       "XP_802133.1_cystathionine_beta-synthase_partial...               -0.470760   \n",
       "XP_802133.1_cystathionine_beta-synthase_partial...               -0.609466   \n",
       "XP_802134.1_heat_shock_protein_70_(HSP70)_parti...                0.379319   \n",
       "XP_802134.1_heat_shock_protein_70_(HSP70)_parti...               -0.706779   \n",
       "XP_802134.1_heat_shock_protein_70_(HSP70)_parti...               -0.227867   \n",
       "\n",
       "                                                    tclib_B12_S1210_R1_001  \\\n",
       "peptide                                                                      \n",
       "XP_802133.1_cystathionine_beta-synthase_partial...               -0.470760   \n",
       "XP_802133.1_cystathionine_beta-synthase_partial...               -0.613563   \n",
       "XP_802134.1_heat_shock_protein_70_(HSP70)_parti...               -0.951792   \n",
       "XP_802134.1_heat_shock_protein_70_(HSP70)_parti...                2.130039   \n",
       "XP_802134.1_heat_shock_protein_70_(HSP70)_parti...                1.341163   \n",
       "\n",
       "                                                    tclib_B1_S1199_R1_001  \\\n",
       "peptide                                                                     \n",
       "XP_802133.1_cystathionine_beta-synthase_partial...              -0.482225   \n",
       "XP_802133.1_cystathionine_beta-synthase_partial...               0.350317   \n",
       "XP_802134.1_heat_shock_protein_70_(HSP70)_parti...              -0.598895   \n",
       "XP_802134.1_heat_shock_protein_70_(HSP70)_parti...               0.723869   \n",
       "XP_802134.1_heat_shock_protein_70_(HSP70)_parti...               0.879839   \n",
       "\n",
       "                                                    ...  \\\n",
       "peptide                                             ...   \n",
       "XP_802133.1_cystathionine_beta-synthase_partial...  ...   \n",
       "XP_802133.1_cystathionine_beta-synthase_partial...  ...   \n",
       "XP_802134.1_heat_shock_protein_70_(HSP70)_parti...  ...   \n",
       "XP_802134.1_heat_shock_protein_70_(HSP70)_parti...  ...   \n",
       "XP_802134.1_heat_shock_protein_70_(HSP70)_parti...  ...   \n",
       "\n",
       "                                                    tclib_H1_S1271_R1_001  \\\n",
       "peptide                                                                     \n",
       "XP_802133.1_cystathionine_beta-synthase_partial...              -0.470760   \n",
       "XP_802133.1_cystathionine_beta-synthase_partial...               2.281814   \n",
       "XP_802134.1_heat_shock_protein_70_(HSP70)_parti...               1.277345   \n",
       "XP_802134.1_heat_shock_protein_70_(HSP70)_parti...               1.069429   \n",
       "XP_802134.1_heat_shock_protein_70_(HSP70)_parti...              -0.410170   \n",
       "\n",
       "                                                    tclib_H2_S1272_R1_001  \\\n",
       "peptide                                                                     \n",
       "XP_802133.1_cystathionine_beta-synthase_partial...              -0.470760   \n",
       "XP_802133.1_cystathionine_beta-synthase_partial...              -0.774112   \n",
       "XP_802134.1_heat_shock_protein_70_(HSP70)_parti...              -0.573649   \n",
       "XP_802134.1_heat_shock_protein_70_(HSP70)_parti...              -0.706779   \n",
       "XP_802134.1_heat_shock_protein_70_(HSP70)_parti...               0.091476   \n",
       "\n",
       "                                                    tclib_H3_S1273_R1_001  \\\n",
       "peptide                                                                     \n",
       "XP_802133.1_cystathionine_beta-synthase_partial...              -0.470760   \n",
       "XP_802133.1_cystathionine_beta-synthase_partial...              -0.774112   \n",
       "XP_802134.1_heat_shock_protein_70_(HSP70)_parti...               0.789722   \n",
       "XP_802134.1_heat_shock_protein_70_(HSP70)_parti...               5.583964   \n",
       "XP_802134.1_heat_shock_protein_70_(HSP70)_parti...              -1.042039   \n",
       "\n",
       "                                                    tclib_H4_S1274_R1_001  \\\n",
       "peptide                                                                     \n",
       "XP_802133.1_cystathionine_beta-synthase_partial...              -0.470760   \n",
       "XP_802133.1_cystathionine_beta-synthase_partial...               0.224582   \n",
       "XP_802134.1_heat_shock_protein_70_(HSP70)_parti...               0.009416   \n",
       "XP_802134.1_heat_shock_protein_70_(HSP70)_parti...              -0.706779   \n",
       "XP_802134.1_heat_shock_protein_70_(HSP70)_parti...               0.608866   \n",
       "\n",
       "                                                    tclib_H5_S1275_R1_001  \\\n",
       "peptide                                                                     \n",
       "XP_802133.1_cystathionine_beta-synthase_partial...              -0.470760   \n",
       "XP_802133.1_cystathionine_beta-synthase_partial...              -0.774112   \n",
       "XP_802134.1_heat_shock_protein_70_(HSP70)_parti...              -0.759145   \n",
       "XP_802134.1_heat_shock_protein_70_(HSP70)_parti...               0.030042   \n",
       "XP_802134.1_heat_shock_protein_70_(HSP70)_parti...               1.605989   \n",
       "\n",
       "                                                    tclib_H6_S1276_R1_001  \\\n",
       "peptide                                                                     \n",
       "XP_802133.1_cystathionine_beta-synthase_partial...              -0.470760   \n",
       "XP_802133.1_cystathionine_beta-synthase_partial...               3.424873   \n",
       "XP_802134.1_heat_shock_protein_70_(HSP70)_parti...               0.018138   \n",
       "XP_802134.1_heat_shock_protein_70_(HSP70)_parti...               1.519042   \n",
       "XP_802134.1_heat_shock_protein_70_(HSP70)_parti...              -1.208321   \n",
       "\n",
       "                                                    tclib_H7_S1277_R1_001  \\\n",
       "peptide                                                                     \n",
       "XP_802133.1_cystathionine_beta-synthase_partial...              -0.470760   \n",
       "XP_802133.1_cystathionine_beta-synthase_partial...              -0.612419   \n",
       "XP_802134.1_heat_shock_protein_70_(HSP70)_parti...              -0.391548   \n",
       "XP_802134.1_heat_shock_protein_70_(HSP70)_parti...              -0.706779   \n",
       "XP_802134.1_heat_shock_protein_70_(HSP70)_parti...              -1.047843   \n",
       "\n",
       "                                                    tclib_H8_S1278_R1_001  \\\n",
       "peptide                                                                     \n",
       "XP_802133.1_cystathionine_beta-synthase_partial...              -0.470760   \n",
       "XP_802133.1_cystathionine_beta-synthase_partial...               1.246578   \n",
       "XP_802134.1_heat_shock_protein_70_(HSP70)_parti...              -0.368340   \n",
       "XP_802134.1_heat_shock_protein_70_(HSP70)_parti...              -0.706779   \n",
       "XP_802134.1_heat_shock_protein_70_(HSP70)_parti...              -0.706943   \n",
       "\n",
       "                                                    tclib_H9_S1279_R1_001  \\\n",
       "peptide                                                                     \n",
       "XP_802133.1_cystathionine_beta-synthase_partial...              -0.482225   \n",
       "XP_802133.1_cystathionine_beta-synthase_partial...              -0.463864   \n",
       "XP_802134.1_heat_shock_protein_70_(HSP70)_parti...              -0.988721   \n",
       "XP_802134.1_heat_shock_protein_70_(HSP70)_parti...              -0.728087   \n",
       "XP_802134.1_heat_shock_protein_70_(HSP70)_parti...               0.725128   \n",
       "\n",
       "                                                    tclib_library_S1192_R1_001  \n",
       "peptide                                                                         \n",
       "XP_802133.1_cystathionine_beta-synthase_partial...                    0.341480  \n",
       "XP_802133.1_cystathionine_beta-synthase_partial...                    0.052798  \n",
       "XP_802134.1_heat_shock_protein_70_(HSP70)_parti...                    0.664441  \n",
       "XP_802134.1_heat_shock_protein_70_(HSP70)_parti...                    0.557644  \n",
       "XP_802134.1_heat_shock_protein_70_(HSP70)_parti...                    0.117424  \n",
       "\n",
       "[5 rows x 92 columns]"
      ]
     },
     "execution_count": 40,
     "metadata": {},
     "output_type": "execute_result"
    }
   ],
   "source": [
    "# extract df with pt ids and z-scores\n",
    "z_score_bd = pd.DataFrame(data=bd.layers['z_score'], columns=bd.var_names, index=bd.obs_names).T\n",
    "## check that sample names are column names \n",
    "z_score_bd.head()"
   ]
  },
  {
   "cell_type": "code",
   "execution_count": 41,
   "id": "5fbca080-ffd3-4f29-9fbe-16c6372c0be3",
   "metadata": {},
   "outputs": [
    {
     "data": {
      "text/plain": [
       "26"
      ]
     },
     "execution_count": 41,
     "metadata": {},
     "output_type": "execute_result"
    }
   ],
   "source": [
    "# extract seronegative samples\n",
    "seroneg_bd = []\n",
    "\n",
    "for name in z_score_bd.columns:\n",
    "    if  name in bd[bd.obs['sero']=='seronegative'].obs.index:\n",
    "        seroneg_bd.append(name)\n",
    "\n",
    "# extract seropositive samples\n",
    "seropos_bd = []\n",
    "\n",
    "for name in z_score_bd.columns:\n",
    "    if  name in bd[bd.obs['sero']=='seropositive'].obs.index:\n",
    "        seropos_bd.append(name)\n",
    "\n",
    "len(seroneg_bd) # should be 26"
   ]
  },
  {
   "cell_type": "code",
   "execution_count": 42,
   "id": "df14dd68-4530-447e-9002-6fef89e4e256",
   "metadata": {},
   "outputs": [
    {
     "data": {
      "text/plain": [
       "64"
      ]
     },
     "execution_count": 42,
     "metadata": {},
     "output_type": "execute_result"
    }
   ],
   "source": [
    "len(seropos_bd) # should be 64"
   ]
  },
  {
   "cell_type": "code",
   "execution_count": 43,
   "id": "23234de6-8014-454b-ad94-8f5ec36a84c5",
   "metadata": {},
   "outputs": [],
   "source": [
    "threshold_hit_healthy_cmin1 = pd.DataFrame(columns=(z_score_bd.filter(seroneg_bd)).columns)\n",
    "threshold_hit_patient_cmin1 = pd.DataFrame(columns=(z_score_bd.filter(seropos_bd)).columns) \n",
    "\n",
    "threshold_hit_healthy_cmin5 = pd.DataFrame(columns=(z_score_bd.filter(seroneg_bd)).columns)\n",
    "threshold_hit_patient_cmin5 = pd.DataFrame(columns=(z_score_bd.filter(seropos_bd)).columns)\n",
    "\n",
    "threshold_hit_healthy_cmin8 = pd.DataFrame(columns=(z_score_bd.filter(seroneg_bd)).columns)\n",
    "threshold_hit_patient_cmin8 = pd.DataFrame(columns=(z_score_bd.filter(seropos_bd)).columns)"
   ]
  },
  {
   "cell_type": "code",
   "execution_count": 44,
   "id": "16a8e862-a876-4937-923e-0a959a5bc7ca",
   "metadata": {},
   "outputs": [
    {
     "name": "stdout",
     "output_type": "stream",
     "text": [
      "1\n",
      "2\n",
      "3\n",
      "4\n",
      "5\n",
      "6\n",
      "7\n",
      "8\n",
      "9\n",
      "10\n",
      "11\n"
     ]
    }
   ],
   "source": [
    "# i sets a threshold for z-score-based hit calling; temp then re-numbers peptides as 0 or 1 based on whether or not they are hits\n",
    "for i in range (1,12):\n",
    "    print (i) \n",
    "    temp = z_score_bd\n",
    "    temp = temp.where(temp>=i, 0, inplace= False) ## those below threshold become zero\n",
    "    temp.where(temp<i, 1, inplace= True) ## those above threshold become one\n",
    "   \n",
    "    temp_healthy = temp.filter(seroneg_bd) ##collect the Healthy samples \n",
    "    temp_Patient = temp.filter(seropos_bd)\n",
    "    \n",
    "    healthyhitsum = temp_healthy.sum(axis=1, numeric_only = True) ## get the total number of hits for each sample\n",
    "    patienthitsum = temp_Patient.sum(axis=1, numeric_only = True)\n",
    "    \n",
    "    healthyhitperc = temp_healthy.sum(axis=1, numeric_only = True)/len(seroneg_bd) ## get the percent of samples for which that pept is a hit\n",
    "    patienthitperc = temp_Patient.sum(axis=1, numeric_only = True)/len(seropos_bd)\n",
    "    \n",
    "    hit = pd.concat([healthyhitsum,patienthitsum],axis=1)\n",
    "    hit.columns = ['healthy_R3','patient_R3']\n",
    "\n",
    "    perc = pd.concat([healthyhitperc,patienthitperc],axis=1)\n",
    "    perc.columns = ['healthy_R3','patient_R3']\n",
    "\n",
    "    patient_1 = hit[(hit.patient_R3>0)] # gives all peptides that are a hit for at least one patient\n",
    "    patient_5 = perc[(perc.patient_R3>=.05)] # gives all peptides that are a hit for at least 5% of patients\n",
    "    patient_8 = perc[(perc.patient_R3>=.1)] # gives all peptides that are a hit for at least 10% of patients\n",
    "    \n",
    "    healthy_1 = hit[(hit.healthy_R3>0)]\n",
    "    healthy_5 = perc[(perc.healthy_R3>=.05)]\n",
    "    healthy_8 = perc[(perc.healthy_R3>=.1)]\n",
    "\n",
    "    final_hit_cmin1_pat = temp_Patient.loc[patient_1.index] # subsets df of hits and sample ids for only those peptides that met above sharing thresholds\n",
    "    final_hit_cmin5_pat = temp_Patient.loc[patient_5.index]\n",
    "    final_hit_cmin8_pat = temp_Patient.loc[patient_8.index]\n",
    "    \n",
    "    final_hit_cmin1_heal = temp_healthy.loc[healthy_1.index]\n",
    "    final_hit_cmin5_heal = temp_healthy.loc[healthy_5.index]\n",
    "    final_hit_cmin8_heal = temp_healthy.loc[healthy_8.index]\n",
    "\n",
    "   \n",
    "    hit_sum_cmin1_healthy = final_hit_cmin1_heal.sum(axis=0, numeric_only = True) ##get the total of the remaining rows for each column \n",
    "    hit_sum_cmin1_patient = final_hit_cmin1_pat.sum(axis=0, numeric_only = True)\n",
    "\n",
    "    hit_sum_cmin5_healthy = final_hit_cmin5_heal.sum(axis=0, numeric_only = True)\n",
    "    hit_sum_cmin5_patient = final_hit_cmin5_pat.sum(axis=0, numeric_only = True)\n",
    "\n",
    "    hit_sum_cmin8_healthy = final_hit_cmin8_heal.sum(axis=0, numeric_only = True)\n",
    "    hit_sum_cmin8_patient = final_hit_cmin8_pat.sum(axis=0, numeric_only = True)\n",
    "\n",
    "    threshold_hit_healthy_cmin1.loc[i] = hit_sum_cmin1_healthy\n",
    "    threshold_hit_patient_cmin1.loc[i] = hit_sum_cmin1_patient\n",
    "    \n",
    "    threshold_hit_healthy_cmin5.loc[i] = hit_sum_cmin5_healthy\n",
    "    threshold_hit_patient_cmin5.loc[i] = hit_sum_cmin5_patient\n",
    "    \n",
    "    threshold_hit_healthy_cmin8.loc[i] = hit_sum_cmin8_healthy\n",
    "    threshold_hit_patient_cmin8.loc[i] = hit_sum_cmin8_patient"
   ]
  },
  {
   "cell_type": "code",
   "execution_count": 45,
   "id": "d766123d-91af-444d-835e-09fd6b04cb91",
   "metadata": {},
   "outputs": [
    {
     "data": {
      "image/png": "[encoded data removed]",
      "text/plain": [
       "<Figure size 3000x1000 with 3 Axes>"
      ]
     },
     "metadata": {},
     "output_type": "display_data"
    }
   ],
   "source": [
    "fig, (ax1,ax2,ax3) = plt.subplots(ncols=3,figsize=(30,10))\n",
    "plt.subplots_adjust(left=None, bottom=None, right=None, top=None, wspace=0.5, hspace=None)\n",
    "\n",
    "\n",
    "sns.boxplot(data = threshold_hit_healthy_cmin1.T,showfliers=False,color = 'darkblue',boxprops=dict(facecolor=(0,0,0,0), edgecolor='darkblue'),ax=ax1)\n",
    "sns.boxplot(data = threshold_hit_patient_cmin1.T,showfliers=False,color = 'darkred',boxprops=dict(facecolor=(0,0,0,0), edgecolor='darkred'),ax=ax1)\n",
    "ax1.grid(False)\n",
    "ax1.set_yscale('log')\n",
    "ax1.set_ylim(1,50000)\n",
    "ax1.set_xlabel('z-score threshold to call seroreactivity',size=20,labelpad=15)\n",
    "ax1.set_ylabel('Number of seroreactive peptides/sample',size=20,labelpad = 10)\n",
    "ax1.tick_params(axis = 'both', which = 'major', labelsize = 15)\n",
    "ax1.set_facecolor('xkcd:white')\n",
    "ax1.set_title('specificity min = 1',size=25)\n",
    "\n",
    "\n",
    "sns.boxplot(data = threshold_hit_healthy_cmin5.T,showfliers=False,color = 'darkblue',boxprops=dict(facecolor=(0,0,0,0), edgecolor='darkblue'),ax=ax2)\n",
    "sns.boxplot(data = threshold_hit_patient_cmin5.T,showfliers=False,color = 'darkred',boxprops=dict(facecolor=(0,0,0,0), edgecolor='darkred'),ax=ax2)\n",
    "ax2.set_yscale('log')\n",
    "ax2.set_ylim(1,50000)\n",
    "ax2.grid(False)\n",
    "ax2.set_xlabel('z-score threshold to call seroreactivity',size=20,labelpad=15)\n",
    "ax2.set_ylabel('Number of seroreactive peptides/sample',size=20,labelpad = 10)\n",
    "ax2.tick_params(axis = 'both', which = 'major', labelsize = 15)\n",
    "ax2.set_facecolor('xkcd:white')\n",
    "\n",
    "ax2.set_title('specificity min = 5%',size=25)\n",
    "\n",
    "\n",
    "sns.boxplot(data = threshold_hit_healthy_cmin8.T,showfliers=False,color = 'darkblue',boxprops=dict(facecolor=(0,0,0,0), edgecolor='darkblue'),ax=ax3)\n",
    "sns.boxplot(data = threshold_hit_patient_cmin8.T,showfliers=False,color = 'darkred',boxprops=dict(facecolor=(0,0,0,0), edgecolor='darkred'),ax=ax3)\n",
    "ax3.set_yscale('log')\n",
    "ax3.set_ylim(1,50000)\n",
    "ax3.grid(False)\n",
    "ax3.set_xlabel('z-score threshold to call seroreactivity',size=20,labelpad=15)\n",
    "ax3.set_ylabel('Number of seroreactive peptides/sample',size=20,labelpad = 10)\n",
    "ax3.tick_params(axis = 'both', which = 'major', labelsize = 15)\n",
    "ax3.set_facecolor('xkcd:white')\n",
    "ax3.set_title('specificity min = 10%',size=25)\n",
    "\n",
    "\n",
    "seroneg_patch = Patch(color='blue', label='Seronegative')\n",
    "seropos_patch = Patch(color='darkred', label='Seropositive')\n",
    "plt.legend(handles=[seroneg_patch, seropos_patch], prop={'size': 20})\n",
    "plt.savefig(fig_dir+'sfig_3a.pdf',dpi=800,bbox_inches='tight')\n",
    "plt.show()"
   ]
  },
  {
   "cell_type": "markdown",
   "id": "aae8c42a-e4fa-4606-8d95-f34a8c712082",
   "metadata": {},
   "source": [
    "# Get disease-specific hits"
   ]
  },
  {
   "cell_type": "code",
   "execution_count": 46,
   "id": "47a7b69d-ff33-4d2c-ad10-dc667b9b20c0",
   "metadata": {},
   "outputs": [],
   "source": [
    "def generate_ds_hits(ad, layer, z_cutoff=5):\n",
    "    \"\"\"\n",
    "    Generates Disease-Specific Hits (ds-hits) at a given cutoff (boolean)\n",
    "    Ie, given control group, is sample's peptide counts > 3 std. deviations from mean of control group.\n",
    "    ** Uses leave-one-out z-score **\n",
    "    \n",
    "    Parameters\n",
    "    ----------\n",
    "    ad: anndata\n",
    "    layer: str\n",
    "        layer parameter (ad.layers[`layer_`]) of anndata object with calculated z-scores based on rpk\n",
    "    z_cutoff: int, default=5\n",
    "        if z>z_cutoff, then this a DS-hit for the sample \n",
    "    \n",
    "    Returns\n",
    "    -------\n",
    "    None \n",
    "    \n",
    "    Notes\n",
    "    -----\n",
    "    Saves DS hits under ad.obsm[`DS_z-<z-cutoff>`]\n",
    "    \"\"\"\n",
    "    #take and save SS hits\n",
    "    ad.obsm['DS_z_{}'.format(z_cutoff)]=pd.DataFrame(data=ad.layers[layer]>z_cutoff,\n",
    "                                             index=ad.obs.index,\n",
    "                                             columns=ad.var.index)\n",
    "    return None"
   ]
  },
  {
   "cell_type": "code",
   "execution_count": 47,
   "id": "4cdc4905-4d35-4e29-b805-04b462402600",
   "metadata": {},
   "outputs": [
    {
     "data": {
      "text/plain": [
       "AnnData object with n_obs × n_vars = 230 × 227356\n",
       "    obs: 'sample_type', 'plate', 'well', 'sample_id', 'rerun', 'group', 'age', 'sex', 'heart_dz', 'sero'\n",
       "    var: 'refseq_id', 'gene', 'protein', 'seq', 'stage'\n",
       "    uns: 'control_ids'\n",
       "    obsm: 'DS_z_5'\n",
       "    varm: 'X_control'\n",
       "    layers: 'z_score'"
      ]
     },
     "execution_count": 47,
     "metadata": {},
     "output_type": "execute_result"
    }
   ],
   "source": [
    "# based on moving threshold analysis (above), z-score >5 looks good for hit calling)\n",
    "generate_ds_hits(cbm, layer='z_score', z_cutoff=5)\n",
    "generate_ds_hits(bd, layer='z_score', z_cutoff=5)\n",
    "cbm"
   ]
  },
  {
   "cell_type": "code",
   "execution_count": 48,
   "id": "ee59358f-9be7-4586-9e42-8d755b1dbdd4",
   "metadata": {},
   "outputs": [],
   "source": [
    "# re-write obsm as array for ease of saving\n",
    "cbm.obsm['DS_z_5']=np.array(cbm.obsm['DS_z_5'])\n",
    "bd.obsm['DS_z_5']=np.array(bd.obsm['DS_z_5'])"
   ]
  },
  {
   "cell_type": "code",
   "execution_count": 49,
   "id": "87068ff7-7e1d-46ee-9847-078bbef68440",
   "metadata": {},
   "outputs": [],
   "source": [
    "cbm.write_h5ad(dir+'01_cbm.h5ad')\n",
    "bd.write_h5ad(dir+'01_bd.h5ad')"
   ]
  },
  {
   "cell_type": "markdown",
   "id": "84f06bbd-edfa-4256-8c64-a85de9524840",
   "metadata": {
    "tags": []
   },
   "source": [
    "# peptide info table - per-peptide hits\n",
    "This contains information on count and percent of cases and controls with hits for all peptides"
   ]
  },
  {
   "cell_type": "code",
   "execution_count": 50,
   "id": "2162fb4f-7ec0-449f-9cf1-28fa452f3764",
   "metadata": {},
   "outputs": [],
   "source": [
    "def peptide_counts(ad, obsm, obs_name, test, ctrl) -> pd.DataFrame():\n",
    "    \"\"\"\n",
    "     generates peptide table that counts the number of pts with DS hits over z-score threshold in case vs control groups\n",
    "     \n",
    "     ad = anndata object name\n",
    "     obsm = observation matrix name for DS hits (often something like 'DS_z_rpk_#'\n",
    "     obs_name = obs name that contains disease status\n",
    "     test = test disease coding (e.g., in an obs for seropositivity, someone seropositive might be \"1\")\n",
    "     ctrl = ctrl disease coding (e.g., someone seronegative might be \"0\")\n",
    "    \n",
    "    \"\"\"\n",
    "    df = pd.DataFrame(data=None, index=ad.var_names)\n",
    "    \n",
    "    test_list = ad[ad.obs[obs_name]==test].obs.index\n",
    "    ctrl_list = ad[ad.obs[obs_name]==ctrl].obs.index\n",
    "    \n",
    "    X_test=ad[test_list,:].obsm[obsm].T\n",
    "    X_ctrl=ad[ctrl_list,:].obsm[obsm].T\n",
    "    \n",
    "    df[\"no_test\"] = np.nansum(X_test,axis=1)\n",
    "    df[\"no_ctrl\"] = np.nansum(X_ctrl, axis=1)\n",
    "    \n",
    "    df[\"perc_test\"] = (df[\"no_test\"]/len(test_list))*100\n",
    "    df[\"perc_ctrl\"] = (df[\"no_ctrl\"]/len(test_list))*100\n",
    "\n",
    "    # add gene info\n",
    "    p2g=pep2gene.gene.to_dict()\n",
    "    df['gene']=df.index.map(p2g)\n",
    "    p2g=pep2gene.protein.to_dict()\n",
    "    df['protein']=df.index.map(p2g)\n",
    "    p2g=pep2gene.refseq_id.to_dict()\n",
    "    df['refseq_id']=df.index.map(p2g)\n",
    "    p2g=pep2gene.seq.to_dict()\n",
    "    df['seq']=df.index.map(p2g)\n",
    "    p2g=pep2gene.stage.to_dict()\n",
    "    df['stage']=df.index.map(p2g)\n",
    "    \n",
    "    return df\n",
    "\n",
    "#usage: peptides = peptide_counts(adata, 'DS_z_5', 'SERO', 1, 2)"
   ]
  },
  {
   "cell_type": "code",
   "execution_count": 51,
   "id": "178ca613-0035-4abb-94aa-340a811a45f5",
   "metadata": {},
   "outputs": [
    {
     "data": {
      "text/html": [
       "<div>\n",
       "<style scoped>\n",
       "    .dataframe tbody tr th:only-of-type {\n",
       "        vertical-align: middle;\n",
       "    }\n",
       "\n",
       "    .dataframe tbody tr th {\n",
       "        vertical-align: top;\n",
       "    }\n",
       "\n",
       "    .dataframe thead th {\n",
       "        text-align: right;\n",
       "    }\n",
       "</style>\n",
       "<table border=\"1\" class=\"dataframe\">\n",
       "  <thead>\n",
       "    <tr style=\"text-align: right;\">\n",
       "      <th></th>\n",
       "      <th>no_test</th>\n",
       "      <th>no_ctrl</th>\n",
       "      <th>perc_test</th>\n",
       "      <th>perc_ctrl</th>\n",
       "      <th>gene</th>\n",
       "      <th>protein</th>\n",
       "      <th>refseq_id</th>\n",
       "      <th>seq</th>\n",
       "      <th>stage</th>\n",
       "    </tr>\n",
       "    <tr>\n",
       "      <th>peptide</th>\n",
       "      <th></th>\n",
       "      <th></th>\n",
       "      <th></th>\n",
       "      <th></th>\n",
       "      <th></th>\n",
       "      <th></th>\n",
       "      <th></th>\n",
       "      <th></th>\n",
       "      <th></th>\n",
       "    </tr>\n",
       "  </thead>\n",
       "  <tbody>\n",
       "    <tr>\n",
       "      <th>XP_802133.1_cystathionine_beta-synthase_partial_[Trypanosoma_cruzi_strain_CL_Brener]_frag1</th>\n",
       "      <td>0</td>\n",
       "      <td>1</td>\n",
       "      <td>0.000000</td>\n",
       "      <td>0.877193</td>\n",
       "      <td>Tc00.1047053447925.10</td>\n",
       "      <td>Cystathionine beta-synthase, putative</td>\n",
       "      <td>XP_802133.1</td>\n",
       "      <td>NGCFHLLPFLFTLLLLLFVFPIGGEDVQIMAQNPSAVNNKKEVPDRR</td>\n",
       "      <td>NaN</td>\n",
       "    </tr>\n",
       "    <tr>\n",
       "      <th>XP_802133.1_cystathionine_beta-synthase_partial_[Trypanosoma_cruzi_strain_CL_Brener]_frag2</th>\n",
       "      <td>0</td>\n",
       "      <td>1</td>\n",
       "      <td>0.000000</td>\n",
       "      <td>0.877193</td>\n",
       "      <td>Tc00.1047053447925.10</td>\n",
       "      <td>Cystathionine beta-synthase, putative</td>\n",
       "      <td>XP_802133.1</td>\n",
       "      <td>GEDVQIMAQNPSAVNNKKEVPDRRTCILDTVLDAIGSTHCIRLNHVP</td>\n",
       "      <td>NaN</td>\n",
       "    </tr>\n",
       "    <tr>\n",
       "      <th>XP_802134.1_heat_shock_protein_70_(HSP70)_partial_[Trypanosoma_cruzi_strain_CL_Brener]_frag1</th>\n",
       "      <td>4</td>\n",
       "      <td>2</td>\n",
       "      <td>3.508772</td>\n",
       "      <td>1.754386</td>\n",
       "      <td>Tc00.1047053418069.10</td>\n",
       "      <td>Heat shock protein 70 (HSP70), putative</td>\n",
       "      <td>XP_802134.1</td>\n",
       "      <td>VAFTETERLIGDGAKNQLPQNPHNTIYAIKRLIGRKYSDATVQTDKK</td>\n",
       "      <td>NaN</td>\n",
       "    </tr>\n",
       "    <tr>\n",
       "      <th>XP_802134.1_heat_shock_protein_70_(HSP70)_partial_[Trypanosoma_cruzi_strain_CL_Brener]_frag2</th>\n",
       "      <td>2</td>\n",
       "      <td>1</td>\n",
       "      <td>1.754386</td>\n",
       "      <td>0.877193</td>\n",
       "      <td>Tc00.1047053418069.10</td>\n",
       "      <td>Heat shock protein 70 (HSP70), putative</td>\n",
       "      <td>XP_802134.1</td>\n",
       "      <td>IKRLIGRKYSDATVQTDKKLLSYEVVADKDGKPKVQVEVGGKKKQFT</td>\n",
       "      <td>NaN</td>\n",
       "    </tr>\n",
       "    <tr>\n",
       "      <th>XP_802134.1_heat_shock_protein_70_(HSP70)_partial_[Trypanosoma_cruzi_strain_CL_Brener]_frag3</th>\n",
       "      <td>0</td>\n",
       "      <td>1</td>\n",
       "      <td>0.000000</td>\n",
       "      <td>0.877193</td>\n",
       "      <td>Tc00.1047053418069.10</td>\n",
       "      <td>Heat shock protein 70 (HSP70), putative</td>\n",
       "      <td>XP_802134.1</td>\n",
       "      <td>KDGKPKVQVEVGGKKKQFTPEEVSAMVLQKMKEIAETYLGEKVKNAV</td>\n",
       "      <td>NaN</td>\n",
       "    </tr>\n",
       "  </tbody>\n",
       "</table>\n",
       "</div>"
      ],
      "text/plain": [
       "                                                    no_test  no_ctrl  \\\n",
       "peptide                                                                \n",
       "XP_802133.1_cystathionine_beta-synthase_partial...        0        1   \n",
       "XP_802133.1_cystathionine_beta-synthase_partial...        0        1   \n",
       "XP_802134.1_heat_shock_protein_70_(HSP70)_parti...        4        2   \n",
       "XP_802134.1_heat_shock_protein_70_(HSP70)_parti...        2        1   \n",
       "XP_802134.1_heat_shock_protein_70_(HSP70)_parti...        0        1   \n",
       "\n",
       "                                                    perc_test  perc_ctrl  \\\n",
       "peptide                                                                    \n",
       "XP_802133.1_cystathionine_beta-synthase_partial...   0.000000   0.877193   \n",
       "XP_802133.1_cystathionine_beta-synthase_partial...   0.000000   0.877193   \n",
       "XP_802134.1_heat_shock_protein_70_(HSP70)_parti...   3.508772   1.754386   \n",
       "XP_802134.1_heat_shock_protein_70_(HSP70)_parti...   1.754386   0.877193   \n",
       "XP_802134.1_heat_shock_protein_70_(HSP70)_parti...   0.000000   0.877193   \n",
       "\n",
       "                                                                     gene  \\\n",
       "peptide                                                                     \n",
       "XP_802133.1_cystathionine_beta-synthase_partial...  Tc00.1047053447925.10   \n",
       "XP_802133.1_cystathionine_beta-synthase_partial...  Tc00.1047053447925.10   \n",
       "XP_802134.1_heat_shock_protein_70_(HSP70)_parti...  Tc00.1047053418069.10   \n",
       "XP_802134.1_heat_shock_protein_70_(HSP70)_parti...  Tc00.1047053418069.10   \n",
       "XP_802134.1_heat_shock_protein_70_(HSP70)_parti...  Tc00.1047053418069.10   \n",
       "\n",
       "                                                                                    protein  \\\n",
       "peptide                                                                                       \n",
       "XP_802133.1_cystathionine_beta-synthase_partial...    Cystathionine beta-synthase, putative   \n",
       "XP_802133.1_cystathionine_beta-synthase_partial...    Cystathionine beta-synthase, putative   \n",
       "XP_802134.1_heat_shock_protein_70_(HSP70)_parti...  Heat shock protein 70 (HSP70), putative   \n",
       "XP_802134.1_heat_shock_protein_70_(HSP70)_parti...  Heat shock protein 70 (HSP70), putative   \n",
       "XP_802134.1_heat_shock_protein_70_(HSP70)_parti...  Heat shock protein 70 (HSP70), putative   \n",
       "\n",
       "                                                      refseq_id  \\\n",
       "peptide                                                           \n",
       "XP_802133.1_cystathionine_beta-synthase_partial...  XP_802133.1   \n",
       "XP_802133.1_cystathionine_beta-synthase_partial...  XP_802133.1   \n",
       "XP_802134.1_heat_shock_protein_70_(HSP70)_parti...  XP_802134.1   \n",
       "XP_802134.1_heat_shock_protein_70_(HSP70)_parti...  XP_802134.1   \n",
       "XP_802134.1_heat_shock_protein_70_(HSP70)_parti...  XP_802134.1   \n",
       "\n",
       "                                                                                                seq  \\\n",
       "peptide                                                                                               \n",
       "XP_802133.1_cystathionine_beta-synthase_partial...  NGCFHLLPFLFTLLLLLFVFPIGGEDVQIMAQNPSAVNNKKEVPDRR   \n",
       "XP_802133.1_cystathionine_beta-synthase_partial...  GEDVQIMAQNPSAVNNKKEVPDRRTCILDTVLDAIGSTHCIRLNHVP   \n",
       "XP_802134.1_heat_shock_protein_70_(HSP70)_parti...  VAFTETERLIGDGAKNQLPQNPHNTIYAIKRLIGRKYSDATVQTDKK   \n",
       "XP_802134.1_heat_shock_protein_70_(HSP70)_parti...  IKRLIGRKYSDATVQTDKKLLSYEVVADKDGKPKVQVEVGGKKKQFT   \n",
       "XP_802134.1_heat_shock_protein_70_(HSP70)_parti...  KDGKPKVQVEVGGKKKQFTPEEVSAMVLQKMKEIAETYLGEKVKNAV   \n",
       "\n",
       "                                                   stage  \n",
       "peptide                                                   \n",
       "XP_802133.1_cystathionine_beta-synthase_partial...   NaN  \n",
       "XP_802133.1_cystathionine_beta-synthase_partial...   NaN  \n",
       "XP_802134.1_heat_shock_protein_70_(HSP70)_parti...   NaN  \n",
       "XP_802134.1_heat_shock_protein_70_(HSP70)_parti...   NaN  \n",
       "XP_802134.1_heat_shock_protein_70_(HSP70)_parti...   NaN  "
      ]
     },
     "execution_count": 51,
     "metadata": {},
     "output_type": "execute_result"
    }
   ],
   "source": [
    "cbm_z5 = peptide_counts(cbm, 'DS_z_5', 'sero', 'seropositive', 'seronegative')\n",
    "cbm_z5.head()"
   ]
  },
  {
   "cell_type": "code",
   "execution_count": 52,
   "id": "6a4e638a-03b7-408c-89b6-c6a9753d3bac",
   "metadata": {},
   "outputs": [
    {
     "data": {
      "text/html": [
       "<div>\n",
       "<style scoped>\n",
       "    .dataframe tbody tr th:only-of-type {\n",
       "        vertical-align: middle;\n",
       "    }\n",
       "\n",
       "    .dataframe tbody tr th {\n",
       "        vertical-align: top;\n",
       "    }\n",
       "\n",
       "    .dataframe thead th {\n",
       "        text-align: right;\n",
       "    }\n",
       "</style>\n",
       "<table border=\"1\" class=\"dataframe\">\n",
       "  <thead>\n",
       "    <tr style=\"text-align: right;\">\n",
       "      <th></th>\n",
       "      <th>no_test</th>\n",
       "      <th>no_ctrl</th>\n",
       "      <th>perc_test</th>\n",
       "      <th>perc_ctrl</th>\n",
       "      <th>gene</th>\n",
       "      <th>protein</th>\n",
       "      <th>refseq_id</th>\n",
       "      <th>seq</th>\n",
       "      <th>stage</th>\n",
       "    </tr>\n",
       "    <tr>\n",
       "      <th>peptide</th>\n",
       "      <th></th>\n",
       "      <th></th>\n",
       "      <th></th>\n",
       "      <th></th>\n",
       "      <th></th>\n",
       "      <th></th>\n",
       "      <th></th>\n",
       "      <th></th>\n",
       "      <th></th>\n",
       "    </tr>\n",
       "  </thead>\n",
       "  <tbody>\n",
       "    <tr>\n",
       "      <th>XP_802133.1_cystathionine_beta-synthase_partial_[Trypanosoma_cruzi_strain_CL_Brener]_frag1</th>\n",
       "      <td>0</td>\n",
       "      <td>1</td>\n",
       "      <td>0.0000</td>\n",
       "      <td>1.5625</td>\n",
       "      <td>Tc00.1047053447925.10</td>\n",
       "      <td>Cystathionine beta-synthase, putative</td>\n",
       "      <td>XP_802133.1</td>\n",
       "      <td>NGCFHLLPFLFTLLLLLFVFPIGGEDVQIMAQNPSAVNNKKEVPDRR</td>\n",
       "      <td>NaN</td>\n",
       "    </tr>\n",
       "    <tr>\n",
       "      <th>XP_802133.1_cystathionine_beta-synthase_partial_[Trypanosoma_cruzi_strain_CL_Brener]_frag2</th>\n",
       "      <td>0</td>\n",
       "      <td>0</td>\n",
       "      <td>0.0000</td>\n",
       "      <td>0.0000</td>\n",
       "      <td>Tc00.1047053447925.10</td>\n",
       "      <td>Cystathionine beta-synthase, putative</td>\n",
       "      <td>XP_802133.1</td>\n",
       "      <td>GEDVQIMAQNPSAVNNKKEVPDRRTCILDTVLDAIGSTHCIRLNHVP</td>\n",
       "      <td>NaN</td>\n",
       "    </tr>\n",
       "    <tr>\n",
       "      <th>XP_802134.1_heat_shock_protein_70_(HSP70)_partial_[Trypanosoma_cruzi_strain_CL_Brener]_frag1</th>\n",
       "      <td>2</td>\n",
       "      <td>0</td>\n",
       "      <td>3.1250</td>\n",
       "      <td>0.0000</td>\n",
       "      <td>Tc00.1047053418069.10</td>\n",
       "      <td>Heat shock protein 70 (HSP70), putative</td>\n",
       "      <td>XP_802134.1</td>\n",
       "      <td>VAFTETERLIGDGAKNQLPQNPHNTIYAIKRLIGRKYSDATVQTDKK</td>\n",
       "      <td>NaN</td>\n",
       "    </tr>\n",
       "    <tr>\n",
       "      <th>XP_802134.1_heat_shock_protein_70_(HSP70)_partial_[Trypanosoma_cruzi_strain_CL_Brener]_frag2</th>\n",
       "      <td>7</td>\n",
       "      <td>0</td>\n",
       "      <td>10.9375</td>\n",
       "      <td>0.0000</td>\n",
       "      <td>Tc00.1047053418069.10</td>\n",
       "      <td>Heat shock protein 70 (HSP70), putative</td>\n",
       "      <td>XP_802134.1</td>\n",
       "      <td>IKRLIGRKYSDATVQTDKKLLSYEVVADKDGKPKVQVEVGGKKKQFT</td>\n",
       "      <td>NaN</td>\n",
       "    </tr>\n",
       "    <tr>\n",
       "      <th>XP_802134.1_heat_shock_protein_70_(HSP70)_partial_[Trypanosoma_cruzi_strain_CL_Brener]_frag3</th>\n",
       "      <td>2</td>\n",
       "      <td>0</td>\n",
       "      <td>3.1250</td>\n",
       "      <td>0.0000</td>\n",
       "      <td>Tc00.1047053418069.10</td>\n",
       "      <td>Heat shock protein 70 (HSP70), putative</td>\n",
       "      <td>XP_802134.1</td>\n",
       "      <td>KDGKPKVQVEVGGKKKQFTPEEVSAMVLQKMKEIAETYLGEKVKNAV</td>\n",
       "      <td>NaN</td>\n",
       "    </tr>\n",
       "  </tbody>\n",
       "</table>\n",
       "</div>"
      ],
      "text/plain": [
       "                                                    no_test  no_ctrl  \\\n",
       "peptide                                                                \n",
       "XP_802133.1_cystathionine_beta-synthase_partial...        0        1   \n",
       "XP_802133.1_cystathionine_beta-synthase_partial...        0        0   \n",
       "XP_802134.1_heat_shock_protein_70_(HSP70)_parti...        2        0   \n",
       "XP_802134.1_heat_shock_protein_70_(HSP70)_parti...        7        0   \n",
       "XP_802134.1_heat_shock_protein_70_(HSP70)_parti...        2        0   \n",
       "\n",
       "                                                    perc_test  perc_ctrl  \\\n",
       "peptide                                                                    \n",
       "XP_802133.1_cystathionine_beta-synthase_partial...     0.0000     1.5625   \n",
       "XP_802133.1_cystathionine_beta-synthase_partial...     0.0000     0.0000   \n",
       "XP_802134.1_heat_shock_protein_70_(HSP70)_parti...     3.1250     0.0000   \n",
       "XP_802134.1_heat_shock_protein_70_(HSP70)_parti...    10.9375     0.0000   \n",
       "XP_802134.1_heat_shock_protein_70_(HSP70)_parti...     3.1250     0.0000   \n",
       "\n",
       "                                                                     gene  \\\n",
       "peptide                                                                     \n",
       "XP_802133.1_cystathionine_beta-synthase_partial...  Tc00.1047053447925.10   \n",
       "XP_802133.1_cystathionine_beta-synthase_partial...  Tc00.1047053447925.10   \n",
       "XP_802134.1_heat_shock_protein_70_(HSP70)_parti...  Tc00.1047053418069.10   \n",
       "XP_802134.1_heat_shock_protein_70_(HSP70)_parti...  Tc00.1047053418069.10   \n",
       "XP_802134.1_heat_shock_protein_70_(HSP70)_parti...  Tc00.1047053418069.10   \n",
       "\n",
       "                                                                                    protein  \\\n",
       "peptide                                                                                       \n",
       "XP_802133.1_cystathionine_beta-synthase_partial...    Cystathionine beta-synthase, putative   \n",
       "XP_802133.1_cystathionine_beta-synthase_partial...    Cystathionine beta-synthase, putative   \n",
       "XP_802134.1_heat_shock_protein_70_(HSP70)_parti...  Heat shock protein 70 (HSP70), putative   \n",
       "XP_802134.1_heat_shock_protein_70_(HSP70)_parti...  Heat shock protein 70 (HSP70), putative   \n",
       "XP_802134.1_heat_shock_protein_70_(HSP70)_parti...  Heat shock protein 70 (HSP70), putative   \n",
       "\n",
       "                                                      refseq_id  \\\n",
       "peptide                                                           \n",
       "XP_802133.1_cystathionine_beta-synthase_partial...  XP_802133.1   \n",
       "XP_802133.1_cystathionine_beta-synthase_partial...  XP_802133.1   \n",
       "XP_802134.1_heat_shock_protein_70_(HSP70)_parti...  XP_802134.1   \n",
       "XP_802134.1_heat_shock_protein_70_(HSP70)_parti...  XP_802134.1   \n",
       "XP_802134.1_heat_shock_protein_70_(HSP70)_parti...  XP_802134.1   \n",
       "\n",
       "                                                                                                seq  \\\n",
       "peptide                                                                                               \n",
       "XP_802133.1_cystathionine_beta-synthase_partial...  NGCFHLLPFLFTLLLLLFVFPIGGEDVQIMAQNPSAVNNKKEVPDRR   \n",
       "XP_802133.1_cystathionine_beta-synthase_partial...  GEDVQIMAQNPSAVNNKKEVPDRRTCILDTVLDAIGSTHCIRLNHVP   \n",
       "XP_802134.1_heat_shock_protein_70_(HSP70)_parti...  VAFTETERLIGDGAKNQLPQNPHNTIYAIKRLIGRKYSDATVQTDKK   \n",
       "XP_802134.1_heat_shock_protein_70_(HSP70)_parti...  IKRLIGRKYSDATVQTDKKLLSYEVVADKDGKPKVQVEVGGKKKQFT   \n",
       "XP_802134.1_heat_shock_protein_70_(HSP70)_parti...  KDGKPKVQVEVGGKKKQFTPEEVSAMVLQKMKEIAETYLGEKVKNAV   \n",
       "\n",
       "                                                   stage  \n",
       "peptide                                                   \n",
       "XP_802133.1_cystathionine_beta-synthase_partial...   NaN  \n",
       "XP_802133.1_cystathionine_beta-synthase_partial...   NaN  \n",
       "XP_802134.1_heat_shock_protein_70_(HSP70)_parti...   NaN  \n",
       "XP_802134.1_heat_shock_protein_70_(HSP70)_parti...   NaN  \n",
       "XP_802134.1_heat_shock_protein_70_(HSP70)_parti...   NaN  "
      ]
     },
     "execution_count": 52,
     "metadata": {},
     "output_type": "execute_result"
    }
   ],
   "source": [
    "bd_z5 = peptide_counts(bd, 'DS_z_5', 'sero', 'seropositive', 'seronegative')\n",
    "bd_z5.head()"
   ]
  },
  {
   "cell_type": "markdown",
   "id": "8a2c0aaa-29cf-46c3-a086-8a1bb3e1cc8d",
   "metadata": {
    "tags": []
   },
   "source": [
    "# Chagas-specific per-peptide hits\n",
    "This filters peptides to only those enriched in seropositive patients at a given sharing threshold"
   ]
  },
  {
   "cell_type": "code",
   "execution_count": 53,
   "id": "1d77b5aa-b7dc-4cb2-8705-5df03f39270e",
   "metadata": {},
   "outputs": [],
   "source": [
    "def filtered_hits_cases(counts, perc_test, no_ctrl) -> pd.DataFrame():\n",
    "    \"\"\"\n",
    "     generates filtered peptide table that includes only peptides that are shared by cases and not by controls\n",
    "     \n",
    "     counts = peptide count table generated by peptide_counts_hk function\n",
    "     perc_test = minimum percent of case patients who must share a given peptide to consider it enriched in cases\n",
    "     no_ctrl = maximum number of control patients who can share a given peptide to consider it enriched in cases only\n",
    "    \n",
    "    \"\"\"\n",
    "    df = counts.loc[(counts[\"perc_test\"]>=perc_test)\n",
    "    & (counts[\"no_ctrl\"]<=no_ctrl)\n",
    "    ,: ]\n",
    "    \n",
    "    return df\n",
    "\n",
    "#usage: case_pept = filtered_hits_cases(peptides, 5, 1)"
   ]
  },
  {
   "cell_type": "code",
   "execution_count": 54,
   "id": "49b666fa-ffb0-4240-9e09-202efb651a83",
   "metadata": {},
   "outputs": [
    {
     "data": {
      "text/plain": [
       "(5640, 9)"
      ]
     },
     "execution_count": 54,
     "metadata": {},
     "output_type": "execute_result"
    }
   ],
   "source": [
    "chagas_pept_cbm = filtered_hits_cases(cbm_z5, 5, 1)\n",
    "chagas_pept_cbm.shape"
   ]
  },
  {
   "cell_type": "code",
   "execution_count": 55,
   "id": "24c2b954-a30a-4600-9130-c3d21ec0fb39",
   "metadata": {},
   "outputs": [
    {
     "data": {
      "text/plain": [
       "228127"
      ]
     },
     "execution_count": 55,
     "metadata": {},
     "output_type": "execute_result"
    }
   ],
   "source": [
    "# filter for only T. cruzi peptides\n",
    "filtered_peptides = pep2gene[pep2gene['organism'] == 'Trypanosoma cruzi (strain CL Brener)'].index\n",
    "len(filtered_peptides)"
   ]
  },
  {
   "cell_type": "code",
   "execution_count": 56,
   "id": "5b904fce-d377-4cb6-9720-ac5337159586",
   "metadata": {},
   "outputs": [
    {
     "data": {
      "text/plain": [
       "(5638, 9)"
      ]
     },
     "execution_count": 56,
     "metadata": {},
     "output_type": "execute_result"
    }
   ],
   "source": [
    "chagas_pept_cbm = chagas_pept_cbm[chagas_pept_cbm.index.isin(filtered_peptides)]\n",
    "chagas_pept_cbm.shape"
   ]
  },
  {
   "cell_type": "code",
   "execution_count": 57,
   "id": "a56c449e-6a9e-431c-b0a5-e08dfa58a346",
   "metadata": {},
   "outputs": [
    {
     "data": {
      "text/plain": [
       "(8711, 9)"
      ]
     },
     "execution_count": 57,
     "metadata": {},
     "output_type": "execute_result"
    }
   ],
   "source": [
    "chagas_pept_bd = filtered_hits_cases(bd_z5, 5, 1)\n",
    "chagas_pept_bd.shape"
   ]
  },
  {
   "cell_type": "code",
   "execution_count": 58,
   "id": "2c35923a-435d-41bd-98fb-e86399cc545a",
   "metadata": {},
   "outputs": [
    {
     "data": {
      "text/plain": [
       "(8710, 9)"
      ]
     },
     "execution_count": 58,
     "metadata": {},
     "output_type": "execute_result"
    }
   ],
   "source": [
    "chagas_pept_bd = chagas_pept_bd[chagas_pept_bd.index.isin(filtered_peptides)]\n",
    "chagas_pept_bd.shape"
   ]
  },
  {
   "cell_type": "code",
   "execution_count": 59,
   "id": "d28b1c61-eb01-4095-93a3-21ef26a4efee",
   "metadata": {},
   "outputs": [],
   "source": [
    "# sort by seroprevalence\n",
    "chagas_pept_bd = chagas_pept_bd.sort_values(by='perc_test',ascending=False)\n",
    "chagas_pept_cbm = chagas_pept_cbm.sort_values(by='perc_test',ascending=False)"
   ]
  },
  {
   "cell_type": "code",
   "execution_count": 60,
   "id": "ec50c9df-0df7-49fa-8e52-911aa192de85",
   "metadata": {},
   "outputs": [],
   "source": [
    "chagas_pept_cbm.to_csv(dir+'01_cbm_pept.csv')\n",
    "chagas_pept_bd.to_csv(dir+'01_bd_pept.csv')"
   ]
  },
  {
   "cell_type": "code",
   "execution_count": null,
   "id": "6ae7b5d1-a26f-438e-ad89-1e997df2fc6b",
   "metadata": {},
   "outputs": [],
   "source": []
  }
 ],
 "metadata": {
  "kernelspec": {
   "display_name": "Python 3 (ipykernel)",
   "language": "python",
   "name": "python3"
  },
  "language_info": {
   "codemirror_mode": {
    "name": "ipython",
    "version": 3
   },
   "file_extension": ".py",
   "mimetype": "text/x-python",
   "name": "python",
   "nbconvert_exporter": "python",
   "pygments_lexer": "ipython3",
   "version": "3.12.2"
  }
 },
 "nbformat": 4,
 "nbformat_minor": 5
}
